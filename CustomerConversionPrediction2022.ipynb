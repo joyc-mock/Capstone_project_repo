{
  "cells": [
    {
      "cell_type": "markdown",
      "metadata": {
        "id": "view-in-github",
        "colab_type": "text"
      },
      "source": [
        "<a href=\"https://colab.research.google.com/github/joyc-mock/Capstone_project_repo/blob/main/CustomerConversionPrediction2022.ipynb\" target=\"_parent\"><img src=\"https://colab.research.google.com/assets/colab-badge.svg\" alt=\"Open In Colab\"/></a>"
      ]
    },
    {
      "cell_type": "markdown",
      "metadata": {
        "id": "orsD8fJL0XNz"
      },
      "source": [
        "# **Decision Trees and Random Forest Project: Predicting Potential Customers**\n",
        "\n",
        "# **Marks: 60**"
      ],
      "id": "orsD8fJL0XNz"
    },
    {
      "cell_type": "markdown",
      "metadata": {
        "id": "MoK611R90XN4"
      },
      "source": [
        "Welcome to the project on classification using Decision Tree and Random Forest.\n",
        "\n",
        "--------------------------------\n",
        "## **Context** \n",
        "-------------------------------\n",
        "\n",
        "The EdTech industry has been surging in the past decade immensely, and according to a forecast, the Online Education market, would be worth $286.62bn by 2023, with a compound annual growth rate (CAGR) of 10.26% from 2018 to 2023. The modern era of online education has enforced a lot in its growth and expansion beyond any limit. Due to having many dominant features like ease of information sharing, personalized learning experience, transparency of assessment, etc., it is now preferable to traditional education. \n",
        "\n",
        "The online education sector has witnessed rapid growth and is attracting a lot of new customers. Due to this rapid growth, many new companies have emerged in this industry. With the availability and ease of use of digital marketing resources, companies can reach out to a wider audience with their offerings. The customers who show interest in these offerings are termed as **leads**. There are various sources of obtaining leads for Edtech companies, like:\n",
        "\n",
        "* The customer interacts with the marketing front on social media or other online platforms. \n",
        "* The customer browses the website/app and downloads the brochure.\n",
        "* The customer connects through emails for more information.\n",
        "\n",
        "The company then nurtures these leads and tries to convert them to paid customers. For this, the representative from the organization connects with the lead on call or through email to share further details.\n",
        "\n",
        "\n",
        "----------------------------\n",
        "## **Objective**\n",
        "-----------------------------\n",
        "\n",
        "\n",
        "ExtraaLearn is an initial stage startup that offers programs on cutting-edge technologies to students and professionals to help them upskill/reskill. With a large number of leads being generated on a regular basis, one of the issues faced by ExtraaLearn is to identify which of the leads are more likely to convert so that they can allocate the resources accordingly. You, as a data scientist at ExtraaLearn, have been provided the leads data to:\n",
        "* Analyze and build an ML model to help identify which leads are more likely to convert to paid customers. \n",
        "* Find the factors driving the lead conversion process.\n",
        "* Create a profile of the leads which are likely to convert.\n",
        "\n",
        "\n",
        "--------------------------\n",
        "## **Data Description**\n",
        "--------------------------\n",
        "\n",
        "The data contains the different attributes of leads and their interaction details with ExtraaLearn. The detailed data dictionary is given below.\n",
        "\n",
        "* **ID:** ID of the lead\n",
        "* **age:** Age of the lead\n",
        "* **current_occupation:** Current occupation of the lead. Values include 'Professional', 'Unemployed', and 'Student'\n",
        "* **first_interaction:** How did the lead first interact with ExtraaLearn? Values include 'Website' and 'Mobile App'\n",
        "* **profile_completed:** What percentage of the profile has been filled by the lead on the website/mobile app? Values include Low - (0-50%), Medium - (50-75%), High (75-100%)\n",
        "* **website_visits:** The number of times a lead has visited the website\n",
        "* **time_spent_on_website:** Total time spent on the website\n",
        "* **page_views_per_visit:** Average number of pages on the website viewed during the visits\n",
        "* **last_activity:** Last interaction between the lead and ExtraaLearn \n",
        "    * **Email Activity:** Seeking details about the program through email, Representative shared information with a lead like a brochure of the program, etc.\n",
        "    * **Phone Activity:** Had a phone conversation with a representative, had a conversation over SMS with a representative, etc.\n",
        "    * **Website Activity:** Interacted on live chat with a representative, updated profile on the website, etc.\n",
        "\n",
        "* **print_media_type1:** Flag indicating whether the lead had seen the ad of ExtraaLearn in the Newspaper\n",
        "* **print_media_type2:** Flag indicating whether the lead had seen the ad of ExtraaLearn in the Magazine\n",
        "* **digital_media:** Flag indicating whether the lead had seen the ad of ExtraaLearn on the digital platforms\n",
        "* **educational_channels:** Flag indicating whether the lead had heard about ExtraaLearn in the education channels like online forums, discussion threads, educational websites, etc.\n",
        "* **referral:** Flag indicating whether the lead had heard about ExtraaLearn through reference.\n",
        "* **status:** Flag indicating whether the lead was converted to a paid customer or not."
      ],
      "id": "MoK611R90XN4"
    },
    {
      "cell_type": "markdown",
      "metadata": {
        "id": "jsrITdXc0XN6"
      },
      "source": [
        "## **Importing the necessary libraries and overview of the dataset**"
      ],
      "id": "jsrITdXc0XN6"
    },
    {
      "cell_type": "code",
      "execution_count": null,
      "metadata": {
        "id": "3-SP0Pt30XN6"
      },
      "outputs": [],
      "source": [
        "import warnings\n",
        "warnings.filterwarnings(\"ignore\")\n",
        "\n",
        "# Libraries for data manipulation and visualization\n",
        "import pandas as pd\n",
        "\n",
        "import numpy as np\n",
        "\n",
        "import matplotlib.pyplot as plt\n",
        "\n",
        "import seaborn as sns\n",
        "\n",
        "from sklearn.model_selection import train_test_split\n",
        "\n",
        "# Algorithms to use\n",
        "from sklearn.tree import DecisionTreeClassifier\n",
        "\n",
        "from sklearn import tree\n",
        "\n",
        "from sklearn.ensemble import RandomForestClassifier\n",
        "\n",
        "# Metrics to evaluate the model\n",
        "from sklearn.metrics import confusion_matrix, classification_report, recall_score\n",
        "\n",
        "from sklearn import metrics\n",
        "\n",
        "# For hyperparameter tuning\n",
        "from sklearn.model_selection import GridSearchCV"
      ],
      "id": "3-SP0Pt30XN6"
    },
    {
      "cell_type": "markdown",
      "metadata": {
        "id": "h51R7f4-0XN8"
      },
      "source": [
        "### **Loading the dataset**"
      ],
      "id": "h51R7f4-0XN8"
    },
    {
      "cell_type": "code",
      "source": [
        "from google.colab import drive\n",
        "drive.mount('/content/drive')"
      ],
      "metadata": {
        "colab": {
          "base_uri": "https://localhost:8080/"
        },
        "id": "CYko-S1Y03Qz",
        "outputId": "f6583572-a3af-43a7-b95b-795b21f7c8ca"
      },
      "id": "CYko-S1Y03Qz",
      "execution_count": null,
      "outputs": [
        {
          "output_type": "stream",
          "name": "stdout",
          "text": [
            "Drive already mounted at /content/drive; to attempt to forcibly remount, call drive.mount(\"/content/drive\", force_remount=True).\n"
          ]
        }
      ]
    },
    {
      "cell_type": "code",
      "execution_count": null,
      "metadata": {
        "id": "pqSPQiZDzobP"
      },
      "outputs": [],
      "source": [
        "path = \"/content/drive/MyDrive/ExtraaLearn.csv\"\n",
        "learn = pd.read_csv(path)"
      ],
      "id": "pqSPQiZDzobP"
    },
    {
      "cell_type": "code",
      "execution_count": null,
      "metadata": {
        "id": "hnSYNgan0XN9"
      },
      "outputs": [],
      "source": [
        "# Copying data to another variable to avoid any changes to the original data\n",
        "data = learn.copy()"
      ],
      "id": "hnSYNgan0XN9"
    },
    {
      "cell_type": "markdown",
      "metadata": {
        "id": "7DRBC6WI0XN-"
      },
      "source": [
        "### **View the first and the last 5 rows of the dataset**"
      ],
      "id": "7DRBC6WI0XN-"
    },
    {
      "cell_type": "code",
      "execution_count": null,
      "metadata": {
        "colab": {
          "base_uri": "https://localhost:8080/",
          "height": 270
        },
        "id": "HB5_Hc320XN-",
        "outputId": "6a6335a5-d9d7-4892-c70c-4ead16808c55"
      },
      "outputs": [
        {
          "output_type": "execute_result",
          "data": {
            "text/plain": [
              "       ID  age current_occupation first_interaction profile_completed  \\\n",
              "0  EXT001   57         Unemployed           Website              High   \n",
              "1  EXT002   56       Professional        Mobile App            Medium   \n",
              "2  EXT003   52       Professional           Website            Medium   \n",
              "3  EXT004   53         Unemployed           Website              High   \n",
              "4  EXT005   23            Student           Website              High   \n",
              "\n",
              "   website_visits  time_spent_on_website  page_views_per_visit  \\\n",
              "0               7                   1639                 1.861   \n",
              "1               2                     83                 0.320   \n",
              "2               3                    330                 0.074   \n",
              "3               4                    464                 2.057   \n",
              "4               4                    600                16.914   \n",
              "\n",
              "      last_activity print_media_type1 print_media_type2 digital_media  \\\n",
              "0  Website Activity               Yes                No           Yes   \n",
              "1  Website Activity                No                No            No   \n",
              "2  Website Activity                No                No           Yes   \n",
              "3  Website Activity                No                No            No   \n",
              "4    Email Activity                No                No            No   \n",
              "\n",
              "  educational_channels referral  status  \n",
              "0                   No       No       1  \n",
              "1                  Yes       No       0  \n",
              "2                   No       No       0  \n",
              "3                   No       No       1  \n",
              "4                   No       No       0  "
            ],
            "text/html": [
              "\n",
              "  <div id=\"df-ad0c6cf0-b968-4a41-ab55-8a23f7bf3022\">\n",
              "    <div class=\"colab-df-container\">\n",
              "      <div>\n",
              "<style scoped>\n",
              "    .dataframe tbody tr th:only-of-type {\n",
              "        vertical-align: middle;\n",
              "    }\n",
              "\n",
              "    .dataframe tbody tr th {\n",
              "        vertical-align: top;\n",
              "    }\n",
              "\n",
              "    .dataframe thead th {\n",
              "        text-align: right;\n",
              "    }\n",
              "</style>\n",
              "<table border=\"1\" class=\"dataframe\">\n",
              "  <thead>\n",
              "    <tr style=\"text-align: right;\">\n",
              "      <th></th>\n",
              "      <th>ID</th>\n",
              "      <th>age</th>\n",
              "      <th>current_occupation</th>\n",
              "      <th>first_interaction</th>\n",
              "      <th>profile_completed</th>\n",
              "      <th>website_visits</th>\n",
              "      <th>time_spent_on_website</th>\n",
              "      <th>page_views_per_visit</th>\n",
              "      <th>last_activity</th>\n",
              "      <th>print_media_type1</th>\n",
              "      <th>print_media_type2</th>\n",
              "      <th>digital_media</th>\n",
              "      <th>educational_channels</th>\n",
              "      <th>referral</th>\n",
              "      <th>status</th>\n",
              "    </tr>\n",
              "  </thead>\n",
              "  <tbody>\n",
              "    <tr>\n",
              "      <th>0</th>\n",
              "      <td>EXT001</td>\n",
              "      <td>57</td>\n",
              "      <td>Unemployed</td>\n",
              "      <td>Website</td>\n",
              "      <td>High</td>\n",
              "      <td>7</td>\n",
              "      <td>1639</td>\n",
              "      <td>1.861</td>\n",
              "      <td>Website Activity</td>\n",
              "      <td>Yes</td>\n",
              "      <td>No</td>\n",
              "      <td>Yes</td>\n",
              "      <td>No</td>\n",
              "      <td>No</td>\n",
              "      <td>1</td>\n",
              "    </tr>\n",
              "    <tr>\n",
              "      <th>1</th>\n",
              "      <td>EXT002</td>\n",
              "      <td>56</td>\n",
              "      <td>Professional</td>\n",
              "      <td>Mobile App</td>\n",
              "      <td>Medium</td>\n",
              "      <td>2</td>\n",
              "      <td>83</td>\n",
              "      <td>0.320</td>\n",
              "      <td>Website Activity</td>\n",
              "      <td>No</td>\n",
              "      <td>No</td>\n",
              "      <td>No</td>\n",
              "      <td>Yes</td>\n",
              "      <td>No</td>\n",
              "      <td>0</td>\n",
              "    </tr>\n",
              "    <tr>\n",
              "      <th>2</th>\n",
              "      <td>EXT003</td>\n",
              "      <td>52</td>\n",
              "      <td>Professional</td>\n",
              "      <td>Website</td>\n",
              "      <td>Medium</td>\n",
              "      <td>3</td>\n",
              "      <td>330</td>\n",
              "      <td>0.074</td>\n",
              "      <td>Website Activity</td>\n",
              "      <td>No</td>\n",
              "      <td>No</td>\n",
              "      <td>Yes</td>\n",
              "      <td>No</td>\n",
              "      <td>No</td>\n",
              "      <td>0</td>\n",
              "    </tr>\n",
              "    <tr>\n",
              "      <th>3</th>\n",
              "      <td>EXT004</td>\n",
              "      <td>53</td>\n",
              "      <td>Unemployed</td>\n",
              "      <td>Website</td>\n",
              "      <td>High</td>\n",
              "      <td>4</td>\n",
              "      <td>464</td>\n",
              "      <td>2.057</td>\n",
              "      <td>Website Activity</td>\n",
              "      <td>No</td>\n",
              "      <td>No</td>\n",
              "      <td>No</td>\n",
              "      <td>No</td>\n",
              "      <td>No</td>\n",
              "      <td>1</td>\n",
              "    </tr>\n",
              "    <tr>\n",
              "      <th>4</th>\n",
              "      <td>EXT005</td>\n",
              "      <td>23</td>\n",
              "      <td>Student</td>\n",
              "      <td>Website</td>\n",
              "      <td>High</td>\n",
              "      <td>4</td>\n",
              "      <td>600</td>\n",
              "      <td>16.914</td>\n",
              "      <td>Email Activity</td>\n",
              "      <td>No</td>\n",
              "      <td>No</td>\n",
              "      <td>No</td>\n",
              "      <td>No</td>\n",
              "      <td>No</td>\n",
              "      <td>0</td>\n",
              "    </tr>\n",
              "  </tbody>\n",
              "</table>\n",
              "</div>\n",
              "      <button class=\"colab-df-convert\" onclick=\"convertToInteractive('df-ad0c6cf0-b968-4a41-ab55-8a23f7bf3022')\"\n",
              "              title=\"Convert this dataframe to an interactive table.\"\n",
              "              style=\"display:none;\">\n",
              "        \n",
              "  <svg xmlns=\"http://www.w3.org/2000/svg\" height=\"24px\"viewBox=\"0 0 24 24\"\n",
              "       width=\"24px\">\n",
              "    <path d=\"M0 0h24v24H0V0z\" fill=\"none\"/>\n",
              "    <path d=\"M18.56 5.44l.94 2.06.94-2.06 2.06-.94-2.06-.94-.94-2.06-.94 2.06-2.06.94zm-11 1L8.5 8.5l.94-2.06 2.06-.94-2.06-.94L8.5 2.5l-.94 2.06-2.06.94zm10 10l.94 2.06.94-2.06 2.06-.94-2.06-.94-.94-2.06-.94 2.06-2.06.94z\"/><path d=\"M17.41 7.96l-1.37-1.37c-.4-.4-.92-.59-1.43-.59-.52 0-1.04.2-1.43.59L10.3 9.45l-7.72 7.72c-.78.78-.78 2.05 0 2.83L4 21.41c.39.39.9.59 1.41.59.51 0 1.02-.2 1.41-.59l7.78-7.78 2.81-2.81c.8-.78.8-2.07 0-2.86zM5.41 20L4 18.59l7.72-7.72 1.47 1.35L5.41 20z\"/>\n",
              "  </svg>\n",
              "      </button>\n",
              "      \n",
              "  <style>\n",
              "    .colab-df-container {\n",
              "      display:flex;\n",
              "      flex-wrap:wrap;\n",
              "      gap: 12px;\n",
              "    }\n",
              "\n",
              "    .colab-df-convert {\n",
              "      background-color: #E8F0FE;\n",
              "      border: none;\n",
              "      border-radius: 50%;\n",
              "      cursor: pointer;\n",
              "      display: none;\n",
              "      fill: #1967D2;\n",
              "      height: 32px;\n",
              "      padding: 0 0 0 0;\n",
              "      width: 32px;\n",
              "    }\n",
              "\n",
              "    .colab-df-convert:hover {\n",
              "      background-color: #E2EBFA;\n",
              "      box-shadow: 0px 1px 2px rgba(60, 64, 67, 0.3), 0px 1px 3px 1px rgba(60, 64, 67, 0.15);\n",
              "      fill: #174EA6;\n",
              "    }\n",
              "\n",
              "    [theme=dark] .colab-df-convert {\n",
              "      background-color: #3B4455;\n",
              "      fill: #D2E3FC;\n",
              "    }\n",
              "\n",
              "    [theme=dark] .colab-df-convert:hover {\n",
              "      background-color: #434B5C;\n",
              "      box-shadow: 0px 1px 3px 1px rgba(0, 0, 0, 0.15);\n",
              "      filter: drop-shadow(0px 1px 2px rgba(0, 0, 0, 0.3));\n",
              "      fill: #FFFFFF;\n",
              "    }\n",
              "  </style>\n",
              "\n",
              "      <script>\n",
              "        const buttonEl =\n",
              "          document.querySelector('#df-ad0c6cf0-b968-4a41-ab55-8a23f7bf3022 button.colab-df-convert');\n",
              "        buttonEl.style.display =\n",
              "          google.colab.kernel.accessAllowed ? 'block' : 'none';\n",
              "\n",
              "        async function convertToInteractive(key) {\n",
              "          const element = document.querySelector('#df-ad0c6cf0-b968-4a41-ab55-8a23f7bf3022');\n",
              "          const dataTable =\n",
              "            await google.colab.kernel.invokeFunction('convertToInteractive',\n",
              "                                                     [key], {});\n",
              "          if (!dataTable) return;\n",
              "\n",
              "          const docLinkHtml = 'Like what you see? Visit the ' +\n",
              "            '<a target=\"_blank\" href=https://colab.research.google.com/notebooks/data_table.ipynb>data table notebook</a>'\n",
              "            + ' to learn more about interactive tables.';\n",
              "          element.innerHTML = '';\n",
              "          dataTable['output_type'] = 'display_data';\n",
              "          await google.colab.output.renderOutput(dataTable, element);\n",
              "          const docLink = document.createElement('div');\n",
              "          docLink.innerHTML = docLinkHtml;\n",
              "          element.appendChild(docLink);\n",
              "        }\n",
              "      </script>\n",
              "    </div>\n",
              "  </div>\n",
              "  "
            ]
          },
          "metadata": {},
          "execution_count": 10
        }
      ],
      "source": [
        "data.head()"
      ],
      "id": "HB5_Hc320XN-"
    },
    {
      "cell_type": "code",
      "execution_count": null,
      "metadata": {
        "colab": {
          "base_uri": "https://localhost:8080/",
          "height": 270
        },
        "id": "uFNpdJs_0XN_",
        "outputId": "0990d26f-08d2-437e-ee84-1e32c8b7d593"
      },
      "outputs": [
        {
          "output_type": "execute_result",
          "data": {
            "text/plain": [
              "           ID  age current_occupation first_interaction profile_completed  \\\n",
              "4607  EXT4608   35         Unemployed        Mobile App            Medium   \n",
              "4608  EXT4609   55       Professional        Mobile App            Medium   \n",
              "4609  EXT4610   58       Professional           Website              High   \n",
              "4610  EXT4611   57       Professional        Mobile App            Medium   \n",
              "4611  EXT4612   55       Professional           Website            Medium   \n",
              "\n",
              "      website_visits  time_spent_on_website  page_views_per_visit  \\\n",
              "4607              15                    360                 2.170   \n",
              "4608               8                   2327                 5.393   \n",
              "4609               2                    212                 2.692   \n",
              "4610               1                    154                 3.879   \n",
              "4611               4                   2290                 2.075   \n",
              "\n",
              "         last_activity print_media_type1 print_media_type2 digital_media  \\\n",
              "4607    Phone Activity                No                No            No   \n",
              "4608    Email Activity                No                No            No   \n",
              "4609    Email Activity                No                No            No   \n",
              "4610  Website Activity               Yes                No            No   \n",
              "4611    Phone Activity                No                No            No   \n",
              "\n",
              "     educational_channels referral  status  \n",
              "4607                  Yes       No       0  \n",
              "4608                   No       No       0  \n",
              "4609                   No       No       1  \n",
              "4610                   No       No       0  \n",
              "4611                   No       No       0  "
            ],
            "text/html": [
              "\n",
              "  <div id=\"df-eac8ff8a-5cf4-47a6-9703-bd961274dbbe\">\n",
              "    <div class=\"colab-df-container\">\n",
              "      <div>\n",
              "<style scoped>\n",
              "    .dataframe tbody tr th:only-of-type {\n",
              "        vertical-align: middle;\n",
              "    }\n",
              "\n",
              "    .dataframe tbody tr th {\n",
              "        vertical-align: top;\n",
              "    }\n",
              "\n",
              "    .dataframe thead th {\n",
              "        text-align: right;\n",
              "    }\n",
              "</style>\n",
              "<table border=\"1\" class=\"dataframe\">\n",
              "  <thead>\n",
              "    <tr style=\"text-align: right;\">\n",
              "      <th></th>\n",
              "      <th>ID</th>\n",
              "      <th>age</th>\n",
              "      <th>current_occupation</th>\n",
              "      <th>first_interaction</th>\n",
              "      <th>profile_completed</th>\n",
              "      <th>website_visits</th>\n",
              "      <th>time_spent_on_website</th>\n",
              "      <th>page_views_per_visit</th>\n",
              "      <th>last_activity</th>\n",
              "      <th>print_media_type1</th>\n",
              "      <th>print_media_type2</th>\n",
              "      <th>digital_media</th>\n",
              "      <th>educational_channels</th>\n",
              "      <th>referral</th>\n",
              "      <th>status</th>\n",
              "    </tr>\n",
              "  </thead>\n",
              "  <tbody>\n",
              "    <tr>\n",
              "      <th>4607</th>\n",
              "      <td>EXT4608</td>\n",
              "      <td>35</td>\n",
              "      <td>Unemployed</td>\n",
              "      <td>Mobile App</td>\n",
              "      <td>Medium</td>\n",
              "      <td>15</td>\n",
              "      <td>360</td>\n",
              "      <td>2.170</td>\n",
              "      <td>Phone Activity</td>\n",
              "      <td>No</td>\n",
              "      <td>No</td>\n",
              "      <td>No</td>\n",
              "      <td>Yes</td>\n",
              "      <td>No</td>\n",
              "      <td>0</td>\n",
              "    </tr>\n",
              "    <tr>\n",
              "      <th>4608</th>\n",
              "      <td>EXT4609</td>\n",
              "      <td>55</td>\n",
              "      <td>Professional</td>\n",
              "      <td>Mobile App</td>\n",
              "      <td>Medium</td>\n",
              "      <td>8</td>\n",
              "      <td>2327</td>\n",
              "      <td>5.393</td>\n",
              "      <td>Email Activity</td>\n",
              "      <td>No</td>\n",
              "      <td>No</td>\n",
              "      <td>No</td>\n",
              "      <td>No</td>\n",
              "      <td>No</td>\n",
              "      <td>0</td>\n",
              "    </tr>\n",
              "    <tr>\n",
              "      <th>4609</th>\n",
              "      <td>EXT4610</td>\n",
              "      <td>58</td>\n",
              "      <td>Professional</td>\n",
              "      <td>Website</td>\n",
              "      <td>High</td>\n",
              "      <td>2</td>\n",
              "      <td>212</td>\n",
              "      <td>2.692</td>\n",
              "      <td>Email Activity</td>\n",
              "      <td>No</td>\n",
              "      <td>No</td>\n",
              "      <td>No</td>\n",
              "      <td>No</td>\n",
              "      <td>No</td>\n",
              "      <td>1</td>\n",
              "    </tr>\n",
              "    <tr>\n",
              "      <th>4610</th>\n",
              "      <td>EXT4611</td>\n",
              "      <td>57</td>\n",
              "      <td>Professional</td>\n",
              "      <td>Mobile App</td>\n",
              "      <td>Medium</td>\n",
              "      <td>1</td>\n",
              "      <td>154</td>\n",
              "      <td>3.879</td>\n",
              "      <td>Website Activity</td>\n",
              "      <td>Yes</td>\n",
              "      <td>No</td>\n",
              "      <td>No</td>\n",
              "      <td>No</td>\n",
              "      <td>No</td>\n",
              "      <td>0</td>\n",
              "    </tr>\n",
              "    <tr>\n",
              "      <th>4611</th>\n",
              "      <td>EXT4612</td>\n",
              "      <td>55</td>\n",
              "      <td>Professional</td>\n",
              "      <td>Website</td>\n",
              "      <td>Medium</td>\n",
              "      <td>4</td>\n",
              "      <td>2290</td>\n",
              "      <td>2.075</td>\n",
              "      <td>Phone Activity</td>\n",
              "      <td>No</td>\n",
              "      <td>No</td>\n",
              "      <td>No</td>\n",
              "      <td>No</td>\n",
              "      <td>No</td>\n",
              "      <td>0</td>\n",
              "    </tr>\n",
              "  </tbody>\n",
              "</table>\n",
              "</div>\n",
              "      <button class=\"colab-df-convert\" onclick=\"convertToInteractive('df-eac8ff8a-5cf4-47a6-9703-bd961274dbbe')\"\n",
              "              title=\"Convert this dataframe to an interactive table.\"\n",
              "              style=\"display:none;\">\n",
              "        \n",
              "  <svg xmlns=\"http://www.w3.org/2000/svg\" height=\"24px\"viewBox=\"0 0 24 24\"\n",
              "       width=\"24px\">\n",
              "    <path d=\"M0 0h24v24H0V0z\" fill=\"none\"/>\n",
              "    <path d=\"M18.56 5.44l.94 2.06.94-2.06 2.06-.94-2.06-.94-.94-2.06-.94 2.06-2.06.94zm-11 1L8.5 8.5l.94-2.06 2.06-.94-2.06-.94L8.5 2.5l-.94 2.06-2.06.94zm10 10l.94 2.06.94-2.06 2.06-.94-2.06-.94-.94-2.06-.94 2.06-2.06.94z\"/><path d=\"M17.41 7.96l-1.37-1.37c-.4-.4-.92-.59-1.43-.59-.52 0-1.04.2-1.43.59L10.3 9.45l-7.72 7.72c-.78.78-.78 2.05 0 2.83L4 21.41c.39.39.9.59 1.41.59.51 0 1.02-.2 1.41-.59l7.78-7.78 2.81-2.81c.8-.78.8-2.07 0-2.86zM5.41 20L4 18.59l7.72-7.72 1.47 1.35L5.41 20z\"/>\n",
              "  </svg>\n",
              "      </button>\n",
              "      \n",
              "  <style>\n",
              "    .colab-df-container {\n",
              "      display:flex;\n",
              "      flex-wrap:wrap;\n",
              "      gap: 12px;\n",
              "    }\n",
              "\n",
              "    .colab-df-convert {\n",
              "      background-color: #E8F0FE;\n",
              "      border: none;\n",
              "      border-radius: 50%;\n",
              "      cursor: pointer;\n",
              "      display: none;\n",
              "      fill: #1967D2;\n",
              "      height: 32px;\n",
              "      padding: 0 0 0 0;\n",
              "      width: 32px;\n",
              "    }\n",
              "\n",
              "    .colab-df-convert:hover {\n",
              "      background-color: #E2EBFA;\n",
              "      box-shadow: 0px 1px 2px rgba(60, 64, 67, 0.3), 0px 1px 3px 1px rgba(60, 64, 67, 0.15);\n",
              "      fill: #174EA6;\n",
              "    }\n",
              "\n",
              "    [theme=dark] .colab-df-convert {\n",
              "      background-color: #3B4455;\n",
              "      fill: #D2E3FC;\n",
              "    }\n",
              "\n",
              "    [theme=dark] .colab-df-convert:hover {\n",
              "      background-color: #434B5C;\n",
              "      box-shadow: 0px 1px 3px 1px rgba(0, 0, 0, 0.15);\n",
              "      filter: drop-shadow(0px 1px 2px rgba(0, 0, 0, 0.3));\n",
              "      fill: #FFFFFF;\n",
              "    }\n",
              "  </style>\n",
              "\n",
              "      <script>\n",
              "        const buttonEl =\n",
              "          document.querySelector('#df-eac8ff8a-5cf4-47a6-9703-bd961274dbbe button.colab-df-convert');\n",
              "        buttonEl.style.display =\n",
              "          google.colab.kernel.accessAllowed ? 'block' : 'none';\n",
              "\n",
              "        async function convertToInteractive(key) {\n",
              "          const element = document.querySelector('#df-eac8ff8a-5cf4-47a6-9703-bd961274dbbe');\n",
              "          const dataTable =\n",
              "            await google.colab.kernel.invokeFunction('convertToInteractive',\n",
              "                                                     [key], {});\n",
              "          if (!dataTable) return;\n",
              "\n",
              "          const docLinkHtml = 'Like what you see? Visit the ' +\n",
              "            '<a target=\"_blank\" href=https://colab.research.google.com/notebooks/data_table.ipynb>data table notebook</a>'\n",
              "            + ' to learn more about interactive tables.';\n",
              "          element.innerHTML = '';\n",
              "          dataTable['output_type'] = 'display_data';\n",
              "          await google.colab.output.renderOutput(dataTable, element);\n",
              "          const docLink = document.createElement('div');\n",
              "          docLink.innerHTML = docLinkHtml;\n",
              "          element.appendChild(docLink);\n",
              "        }\n",
              "      </script>\n",
              "    </div>\n",
              "  </div>\n",
              "  "
            ]
          },
          "metadata": {},
          "execution_count": 11
        }
      ],
      "source": [
        "data.tail()"
      ],
      "id": "uFNpdJs_0XN_"
    },
    {
      "cell_type": "markdown",
      "metadata": {
        "id": "P1mpu2Zr0XOA"
      },
      "source": [
        "### **Understand the shape of the dataset**"
      ],
      "id": "P1mpu2Zr0XOA"
    },
    {
      "cell_type": "code",
      "execution_count": null,
      "metadata": {
        "colab": {
          "base_uri": "https://localhost:8080/"
        },
        "id": "YFPZLzR10XOA",
        "outputId": "eb6303cf-1318-4d2c-d05a-d9f0c9087a16"
      },
      "outputs": [
        {
          "output_type": "execute_result",
          "data": {
            "text/plain": [
              "(4612, 15)"
            ]
          },
          "metadata": {},
          "execution_count": 12
        }
      ],
      "source": [
        "data.shape"
      ],
      "id": "YFPZLzR10XOA"
    },
    {
      "cell_type": "markdown",
      "metadata": {
        "id": "lUleDCnt0XOA"
      },
      "source": [
        "* The dataset has **4612 rows and 15 columns.** "
      ],
      "id": "lUleDCnt0XOA"
    },
    {
      "cell_type": "markdown",
      "metadata": {
        "id": "a6IdpqUJ0XOB"
      },
      "source": [
        "### **Check the data types of the columns in the dataset**"
      ],
      "id": "a6IdpqUJ0XOB"
    },
    {
      "cell_type": "code",
      "execution_count": null,
      "metadata": {
        "colab": {
          "base_uri": "https://localhost:8080/"
        },
        "id": "P6HtI7-m0XOB",
        "outputId": "296520f6-3344-4a26-da24-6e8dc4a6f1f7"
      },
      "outputs": [
        {
          "output_type": "stream",
          "name": "stdout",
          "text": [
            "<class 'pandas.core.frame.DataFrame'>\n",
            "RangeIndex: 4612 entries, 0 to 4611\n",
            "Data columns (total 15 columns):\n",
            " #   Column                 Non-Null Count  Dtype  \n",
            "---  ------                 --------------  -----  \n",
            " 0   ID                     4612 non-null   object \n",
            " 1   age                    4612 non-null   int64  \n",
            " 2   current_occupation     4612 non-null   object \n",
            " 3   first_interaction      4612 non-null   object \n",
            " 4   profile_completed      4612 non-null   object \n",
            " 5   website_visits         4612 non-null   int64  \n",
            " 6   time_spent_on_website  4612 non-null   int64  \n",
            " 7   page_views_per_visit   4612 non-null   float64\n",
            " 8   last_activity          4612 non-null   object \n",
            " 9   print_media_type1      4612 non-null   object \n",
            " 10  print_media_type2      4612 non-null   object \n",
            " 11  digital_media          4612 non-null   object \n",
            " 12  educational_channels   4612 non-null   object \n",
            " 13  referral               4612 non-null   object \n",
            " 14  status                 4612 non-null   int64  \n",
            "dtypes: float64(1), int64(4), object(10)\n",
            "memory usage: 540.6+ KB\n"
          ]
        }
      ],
      "source": [
        "data.info()"
      ],
      "id": "P6HtI7-m0XOB"
    },
    {
      "cell_type": "markdown",
      "metadata": {
        "id": "JwKo-YXP0XOB"
      },
      "source": [
        "**Observations:**\n",
        "\n",
        "* `age`, `website_visits`, `time_spent_on_website`, `page_views_per_visit`, and `status` are of numeric type while rest of the columns are of object type.\n",
        "\n",
        "* There are **no null values** in the dataset."
      ],
      "id": "JwKo-YXP0XOB"
    },
    {
      "cell_type": "code",
      "execution_count": null,
      "metadata": {
        "colab": {
          "base_uri": "https://localhost:8080/"
        },
        "id": "jZp0OeIx0XOB",
        "outputId": "68239816-b2d4-4cd5-b401-5d5e6b681161"
      },
      "outputs": [
        {
          "output_type": "execute_result",
          "data": {
            "text/plain": [
              "0"
            ]
          },
          "metadata": {},
          "execution_count": 14
        }
      ],
      "source": [
        "# Checking for duplicate values\n",
        "data.duplicated().sum()"
      ],
      "id": "jZp0OeIx0XOB"
    },
    {
      "cell_type": "markdown",
      "metadata": {
        "id": "lDW-MRdo0XOC"
      },
      "source": [
        "- There are **no duplicate values** in the data."
      ],
      "id": "lDW-MRdo0XOC"
    },
    {
      "cell_type": "markdown",
      "metadata": {
        "id": "PCXs6C-S0XOC"
      },
      "source": [
        "## **Exploratory Data Analysis**"
      ],
      "id": "PCXs6C-S0XOC"
    },
    {
      "cell_type": "markdown",
      "metadata": {
        "id": "ehFAtvji0XOC"
      },
      "source": [
        "### **Univariate Analysis**"
      ],
      "id": "ehFAtvji0XOC"
    },
    {
      "cell_type": "markdown",
      "metadata": {
        "id": "e2Ba2u9n0XOC"
      },
      "source": [
        "### **Question 1:** Write the code to find the summary statistics and write your observations based on that. (4 Marks)"
      ],
      "id": "e2Ba2u9n0XOC"
    },
    {
      "cell_type": "code",
      "execution_count": null,
      "metadata": {
        "colab": {
          "base_uri": "https://localhost:8080/",
          "height": 206
        },
        "id": "JFlxJ7550XOD",
        "outputId": "fe65b4a8-1f1e-4e5b-b9d7-5d9f384b1fb1"
      },
      "outputs": [
        {
          "output_type": "execute_result",
          "data": {
            "text/plain": [
              "                        count        mean         std   min        25%  \\\n",
              "age                    4612.0   46.201214   13.161454  18.0   36.00000   \n",
              "website_visits         4612.0    3.566782    2.829134   0.0    2.00000   \n",
              "time_spent_on_website  4612.0  724.011275  743.828683   0.0  148.75000   \n",
              "page_views_per_visit   4612.0    3.026126    1.968125   0.0    2.07775   \n",
              "status                 4612.0    0.298569    0.457680   0.0    0.00000   \n",
              "\n",
              "                           50%         75%       max  \n",
              "age                     51.000    57.00000    63.000  \n",
              "website_visits           3.000     5.00000    30.000  \n",
              "time_spent_on_website  376.000  1336.75000  2537.000  \n",
              "page_views_per_visit     2.792     3.75625    18.434  \n",
              "status                   0.000     1.00000     1.000  "
            ],
            "text/html": [
              "\n",
              "  <div id=\"df-c256beda-1caa-4f57-ba84-4be704514bea\">\n",
              "    <div class=\"colab-df-container\">\n",
              "      <div>\n",
              "<style scoped>\n",
              "    .dataframe tbody tr th:only-of-type {\n",
              "        vertical-align: middle;\n",
              "    }\n",
              "\n",
              "    .dataframe tbody tr th {\n",
              "        vertical-align: top;\n",
              "    }\n",
              "\n",
              "    .dataframe thead th {\n",
              "        text-align: right;\n",
              "    }\n",
              "</style>\n",
              "<table border=\"1\" class=\"dataframe\">\n",
              "  <thead>\n",
              "    <tr style=\"text-align: right;\">\n",
              "      <th></th>\n",
              "      <th>count</th>\n",
              "      <th>mean</th>\n",
              "      <th>std</th>\n",
              "      <th>min</th>\n",
              "      <th>25%</th>\n",
              "      <th>50%</th>\n",
              "      <th>75%</th>\n",
              "      <th>max</th>\n",
              "    </tr>\n",
              "  </thead>\n",
              "  <tbody>\n",
              "    <tr>\n",
              "      <th>age</th>\n",
              "      <td>4612.0</td>\n",
              "      <td>46.201214</td>\n",
              "      <td>13.161454</td>\n",
              "      <td>18.0</td>\n",
              "      <td>36.00000</td>\n",
              "      <td>51.000</td>\n",
              "      <td>57.00000</td>\n",
              "      <td>63.000</td>\n",
              "    </tr>\n",
              "    <tr>\n",
              "      <th>website_visits</th>\n",
              "      <td>4612.0</td>\n",
              "      <td>3.566782</td>\n",
              "      <td>2.829134</td>\n",
              "      <td>0.0</td>\n",
              "      <td>2.00000</td>\n",
              "      <td>3.000</td>\n",
              "      <td>5.00000</td>\n",
              "      <td>30.000</td>\n",
              "    </tr>\n",
              "    <tr>\n",
              "      <th>time_spent_on_website</th>\n",
              "      <td>4612.0</td>\n",
              "      <td>724.011275</td>\n",
              "      <td>743.828683</td>\n",
              "      <td>0.0</td>\n",
              "      <td>148.75000</td>\n",
              "      <td>376.000</td>\n",
              "      <td>1336.75000</td>\n",
              "      <td>2537.000</td>\n",
              "    </tr>\n",
              "    <tr>\n",
              "      <th>page_views_per_visit</th>\n",
              "      <td>4612.0</td>\n",
              "      <td>3.026126</td>\n",
              "      <td>1.968125</td>\n",
              "      <td>0.0</td>\n",
              "      <td>2.07775</td>\n",
              "      <td>2.792</td>\n",
              "      <td>3.75625</td>\n",
              "      <td>18.434</td>\n",
              "    </tr>\n",
              "    <tr>\n",
              "      <th>status</th>\n",
              "      <td>4612.0</td>\n",
              "      <td>0.298569</td>\n",
              "      <td>0.457680</td>\n",
              "      <td>0.0</td>\n",
              "      <td>0.00000</td>\n",
              "      <td>0.000</td>\n",
              "      <td>1.00000</td>\n",
              "      <td>1.000</td>\n",
              "    </tr>\n",
              "  </tbody>\n",
              "</table>\n",
              "</div>\n",
              "      <button class=\"colab-df-convert\" onclick=\"convertToInteractive('df-c256beda-1caa-4f57-ba84-4be704514bea')\"\n",
              "              title=\"Convert this dataframe to an interactive table.\"\n",
              "              style=\"display:none;\">\n",
              "        \n",
              "  <svg xmlns=\"http://www.w3.org/2000/svg\" height=\"24px\"viewBox=\"0 0 24 24\"\n",
              "       width=\"24px\">\n",
              "    <path d=\"M0 0h24v24H0V0z\" fill=\"none\"/>\n",
              "    <path d=\"M18.56 5.44l.94 2.06.94-2.06 2.06-.94-2.06-.94-.94-2.06-.94 2.06-2.06.94zm-11 1L8.5 8.5l.94-2.06 2.06-.94-2.06-.94L8.5 2.5l-.94 2.06-2.06.94zm10 10l.94 2.06.94-2.06 2.06-.94-2.06-.94-.94-2.06-.94 2.06-2.06.94z\"/><path d=\"M17.41 7.96l-1.37-1.37c-.4-.4-.92-.59-1.43-.59-.52 0-1.04.2-1.43.59L10.3 9.45l-7.72 7.72c-.78.78-.78 2.05 0 2.83L4 21.41c.39.39.9.59 1.41.59.51 0 1.02-.2 1.41-.59l7.78-7.78 2.81-2.81c.8-.78.8-2.07 0-2.86zM5.41 20L4 18.59l7.72-7.72 1.47 1.35L5.41 20z\"/>\n",
              "  </svg>\n",
              "      </button>\n",
              "      \n",
              "  <style>\n",
              "    .colab-df-container {\n",
              "      display:flex;\n",
              "      flex-wrap:wrap;\n",
              "      gap: 12px;\n",
              "    }\n",
              "\n",
              "    .colab-df-convert {\n",
              "      background-color: #E8F0FE;\n",
              "      border: none;\n",
              "      border-radius: 50%;\n",
              "      cursor: pointer;\n",
              "      display: none;\n",
              "      fill: #1967D2;\n",
              "      height: 32px;\n",
              "      padding: 0 0 0 0;\n",
              "      width: 32px;\n",
              "    }\n",
              "\n",
              "    .colab-df-convert:hover {\n",
              "      background-color: #E2EBFA;\n",
              "      box-shadow: 0px 1px 2px rgba(60, 64, 67, 0.3), 0px 1px 3px 1px rgba(60, 64, 67, 0.15);\n",
              "      fill: #174EA6;\n",
              "    }\n",
              "\n",
              "    [theme=dark] .colab-df-convert {\n",
              "      background-color: #3B4455;\n",
              "      fill: #D2E3FC;\n",
              "    }\n",
              "\n",
              "    [theme=dark] .colab-df-convert:hover {\n",
              "      background-color: #434B5C;\n",
              "      box-shadow: 0px 1px 3px 1px rgba(0, 0, 0, 0.15);\n",
              "      filter: drop-shadow(0px 1px 2px rgba(0, 0, 0, 0.3));\n",
              "      fill: #FFFFFF;\n",
              "    }\n",
              "  </style>\n",
              "\n",
              "      <script>\n",
              "        const buttonEl =\n",
              "          document.querySelector('#df-c256beda-1caa-4f57-ba84-4be704514bea button.colab-df-convert');\n",
              "        buttonEl.style.display =\n",
              "          google.colab.kernel.accessAllowed ? 'block' : 'none';\n",
              "\n",
              "        async function convertToInteractive(key) {\n",
              "          const element = document.querySelector('#df-c256beda-1caa-4f57-ba84-4be704514bea');\n",
              "          const dataTable =\n",
              "            await google.colab.kernel.invokeFunction('convertToInteractive',\n",
              "                                                     [key], {});\n",
              "          if (!dataTable) return;\n",
              "\n",
              "          const docLinkHtml = 'Like what you see? Visit the ' +\n",
              "            '<a target=\"_blank\" href=https://colab.research.google.com/notebooks/data_table.ipynb>data table notebook</a>'\n",
              "            + ' to learn more about interactive tables.';\n",
              "          element.innerHTML = '';\n",
              "          dataTable['output_type'] = 'display_data';\n",
              "          await google.colab.output.renderOutput(dataTable, element);\n",
              "          const docLink = document.createElement('div');\n",
              "          docLink.innerHTML = docLinkHtml;\n",
              "          element.appendChild(docLink);\n",
              "        }\n",
              "      </script>\n",
              "    </div>\n",
              "  </div>\n",
              "  "
            ]
          },
          "metadata": {},
          "execution_count": 15
        }
      ],
      "source": [
        "# Write your code\n",
        "data.describe().T"
      ],
      "id": "JFlxJ7550XOD"
    },
    {
      "cell_type": "code",
      "source": [
        "data.skew()"
      ],
      "metadata": {
        "colab": {
          "base_uri": "https://localhost:8080/"
        },
        "id": "k5vRJyQOsaYL",
        "outputId": "6c8f34ae-1d6e-478e-be96-3e3a03fa401c"
      },
      "id": "k5vRJyQOsaYL",
      "execution_count": null,
      "outputs": [
        {
          "output_type": "execute_result",
          "data": {
            "text/plain": [
              "age                     -0.720022\n",
              "website_visits           2.156165\n",
              "time_spent_on_website    0.952928\n",
              "page_views_per_visit     1.265004\n",
              "status                   0.880609\n",
              "dtype: float64"
            ]
          },
          "metadata": {},
          "execution_count": 16
        }
      ]
    },
    {
      "cell_type": "code",
      "source": [
        "data.value_counts('status')"
      ],
      "metadata": {
        "colab": {
          "base_uri": "https://localhost:8080/"
        },
        "id": "gkuP-yj7v9lD",
        "outputId": "b6f660ab-2e29-4c0e-d18b-001de14e2c09"
      },
      "id": "gkuP-yj7v9lD",
      "execution_count": null,
      "outputs": [
        {
          "output_type": "execute_result",
          "data": {
            "text/plain": [
              "status\n",
              "0    3235\n",
              "1    1377\n",
              "dtype: int64"
            ]
          },
          "metadata": {},
          "execution_count": 17
        }
      ]
    },
    {
      "cell_type": "markdown",
      "metadata": {
        "id": "MwAxiFmd0XOD"
      },
      "source": [
        "**Observations:__**"
      ],
      "id": "MwAxiFmd0XOD"
    },
    {
      "cell_type": "markdown",
      "source": [
        "\n",
        "\n",
        "*   The average age of a lead is around 46 years old with a median value of 51 years old. The minimun age is 18, suggesting the data is skewed to the left and more spread out.\n",
        "*   Leads visit the website an average of about 3.5 times and view an average of about 3 website pages per visit. For both website visits and pages viewed, there is a large difference between the 75th percentile and max values, indicating skewness to the right with outliers. \n",
        "*   The average time spent on the website is about 724 seconds, but it also has a standard deviation of about 743 seconds. This indicates that the data is more spread out and is not normally distributed. \n",
        "*   In the data, about 30% of leads converted to paid customers: 1,377 out of 4,612 observations. \n",
        "\n"
      ],
      "metadata": {
        "id": "Lss7IeZW8ZrH"
      },
      "id": "Lss7IeZW8ZrH"
    },
    {
      "cell_type": "code",
      "execution_count": null,
      "metadata": {
        "colab": {
          "base_uri": "https://localhost:8080/"
        },
        "id": "YRSr_cG60XOD",
        "outputId": "4f45ba3e-811d-412c-b4d6-8e0cfba8afef"
      },
      "outputs": [
        {
          "output_type": "stream",
          "name": "stdout",
          "text": [
            "EXT001     0.000217\n",
            "EXT2884    0.000217\n",
            "EXT3080    0.000217\n",
            "EXT3079    0.000217\n",
            "EXT3078    0.000217\n",
            "             ...   \n",
            "EXT1537    0.000217\n",
            "EXT1536    0.000217\n",
            "EXT1535    0.000217\n",
            "EXT1534    0.000217\n",
            "EXT4612    0.000217\n",
            "Name: ID, Length: 4612, dtype: float64\n",
            "--------------------------------------------------\n",
            "Professional    0.567216\n",
            "Unemployed      0.312446\n",
            "Student         0.120338\n",
            "Name: current_occupation, dtype: float64\n",
            "--------------------------------------------------\n",
            "Website       0.551171\n",
            "Mobile App    0.448829\n",
            "Name: first_interaction, dtype: float64\n",
            "--------------------------------------------------\n",
            "High      0.490893\n",
            "Medium    0.485906\n",
            "Low       0.023200\n",
            "Name: profile_completed, dtype: float64\n",
            "--------------------------------------------------\n",
            "Email Activity      0.493929\n",
            "Phone Activity      0.267563\n",
            "Website Activity    0.238508\n",
            "Name: last_activity, dtype: float64\n",
            "--------------------------------------------------\n",
            "No     0.892238\n",
            "Yes    0.107762\n",
            "Name: print_media_type1, dtype: float64\n",
            "--------------------------------------------------\n",
            "No     0.94948\n",
            "Yes    0.05052\n",
            "Name: print_media_type2, dtype: float64\n",
            "--------------------------------------------------\n",
            "No     0.885733\n",
            "Yes    0.114267\n",
            "Name: digital_media, dtype: float64\n",
            "--------------------------------------------------\n",
            "No     0.847138\n",
            "Yes    0.152862\n",
            "Name: educational_channels, dtype: float64\n",
            "--------------------------------------------------\n",
            "No     0.979835\n",
            "Yes    0.020165\n",
            "Name: referral, dtype: float64\n",
            "--------------------------------------------------\n"
          ]
        }
      ],
      "source": [
        "# Making a list of all categorical variables\n",
        "cat_col = list(data.select_dtypes(\"object\").columns)\n",
        "\n",
        "# Printing count of each unique value in each categorical column\n",
        "for column in cat_col:\n",
        "    print(data[column].value_counts(normalize = True))\n",
        "    print(\"-\" * 50)"
      ],
      "id": "YRSr_cG60XOD"
    },
    {
      "cell_type": "markdown",
      "metadata": {
        "id": "gLtESl9Z0XOD"
      },
      "source": [
        "**Observations:**\n",
        "* Most of the leads are working professionals.\n",
        "* As expected, the majority of the leads interacted with ExtraaLearn from the website.\n",
        "* Almost an equal percentage of profile completions are categorized as high and medium that is 49.1% and 48.6%, respectively. Only **2.3%** of the profile completions are categorized as low.\n",
        "* Approx 49.4% of the leads had their last activity over email, followed by 26.8% having phone activity. This implies that the majority of the leads prefer to communicate via email.\n",
        "* We can observe that each ID has an equal percentage of values. Let's check the number of unique values in the ID column."
      ],
      "id": "gLtESl9Z0XOD"
    },
    {
      "cell_type": "code",
      "execution_count": null,
      "metadata": {
        "colab": {
          "base_uri": "https://localhost:8080/"
        },
        "id": "ofzzQdFi0XOE",
        "outputId": "8a028a7c-b047-4249-be4a-3a112a377a27"
      },
      "outputs": [
        {
          "output_type": "execute_result",
          "data": {
            "text/plain": [
              "4612"
            ]
          },
          "metadata": {},
          "execution_count": 19
        }
      ],
      "source": [
        "# Checking the number of unique values\n",
        "data[\"ID\"].nunique()"
      ],
      "id": "ofzzQdFi0XOE"
    },
    {
      "cell_type": "markdown",
      "metadata": {
        "id": "P1I-0UeZ0XOE"
      },
      "source": [
        "* All the values in the ID column are unique.\n",
        "* We can drop this column as it would not add value to our analysis."
      ],
      "id": "P1I-0UeZ0XOE"
    },
    {
      "cell_type": "code",
      "execution_count": null,
      "metadata": {
        "id": "Naz9bvaB0XOE"
      },
      "outputs": [],
      "source": [
        "# Dropping ID column\n",
        "data.drop([\"ID\"], axis = 1, inplace = True)"
      ],
      "id": "Naz9bvaB0XOE"
    },
    {
      "cell_type": "code",
      "execution_count": null,
      "metadata": {
        "colab": {
          "base_uri": "https://localhost:8080/",
          "height": 388
        },
        "id": "vDKP0YOh0XOE",
        "outputId": "f01e3f08-daac-47c6-cf46-2a9e6420aa4b"
      },
      "outputs": [
        {
          "output_type": "display_data",
          "data": {
            "text/plain": [
              "<Figure size 720x432 with 1 Axes>"
            ],
            "image/png": "[encoded data removed]"
          },
          "metadata": {
            "needs_background": "light"
          }
        }
      ],
      "source": [
        "plt.figure(figsize = (10, 6))\n",
        "\n",
        "ax = sns.countplot(x = 'status', data = data)\n",
        "\n",
        "# Annotating the exact count on the top of the bar for each category \n",
        "for p in ax.patches:\n",
        "    ax.annotate('{:.1f}'.format(p.get_height()), (p.get_x(), p.get_height()+0.35))"
      ],
      "id": "vDKP0YOh0XOE"
    },
    {
      "cell_type": "markdown",
      "metadata": {
        "id": "CyADnE_x0XOE"
      },
      "source": [
        "- The above plot shows that number of leads converted are significantly less than number of leads not converted which can be expected.\n",
        "- The plot indicates that **~30%** (1377/4612) of leads have been converted."
      ],
      "id": "CyADnE_x0XOE"
    },
    {
      "cell_type": "markdown",
      "metadata": {
        "id": "csZsA8mb0XOF"
      },
      "source": [
        "**Let's check the distribution and outliers for numerical columns in the data**"
      ],
      "id": "csZsA8mb0XOF"
    },
    {
      "cell_type": "code",
      "source": [
        "num_col = list(data.select_dtypes(\"int64\").columns)"
      ],
      "metadata": {
        "id": "aTJtG93BAIE_"
      },
      "id": "aTJtG93BAIE_",
      "execution_count": null,
      "outputs": []
    },
    {
      "cell_type": "code",
      "source": [
        "data[num_col].hist(figsize = (5, 5))\n",
        "plt.show()"
      ],
      "metadata": {
        "colab": {
          "base_uri": "https://localhost:8080/",
          "height": 336
        },
        "id": "bY6Ymo1UypfZ",
        "outputId": "ca6413e9-411e-4bd3-978a-5b9bbb671a25"
      },
      "id": "bY6Ymo1UypfZ",
      "execution_count": null,
      "outputs": [
        {
          "output_type": "display_data",
          "data": {
            "text/plain": [
              "<Figure size 360x360 with 4 Axes>"
            ],
            "image/png": "[encoded data removed]"
          },
          "metadata": {
            "needs_background": "light"
          }
        }
      ]
    },
    {
      "cell_type": "code",
      "source": [
        "num_col2 = list(data.select_dtypes(\"float64\").columns)"
      ],
      "metadata": {
        "id": "DhlQXPw_yidN"
      },
      "id": "DhlQXPw_yidN",
      "execution_count": null,
      "outputs": []
    },
    {
      "cell_type": "code",
      "source": [
        "data[num_col2].hist(figsize = (5, 5))\n",
        "plt.show()"
      ],
      "metadata": {
        "colab": {
          "base_uri": "https://localhost:8080/",
          "height": 336
        },
        "id": "lpWkupA3BBDa",
        "outputId": "1bd5c1f0-1f06-4133-cf7a-30596f6a71ab"
      },
      "id": "lpWkupA3BBDa",
      "execution_count": null,
      "outputs": [
        {
          "output_type": "display_data",
          "data": {
            "text/plain": [
              "<Figure size 360x360 with 1 Axes>"
            ],
            "image/png": "[encoded data removed]"
          },
          "metadata": {
            "needs_background": "light"
          }
        }
      ]
    },
    {
      "cell_type": "markdown",
      "metadata": {
        "id": "As13V5sB0XOF"
      },
      "source": [
        "### **Question 2: Provide observations for below distribution plots and box plots. (4 Marks)**"
      ],
      "id": "As13V5sB0XOF"
    },
    {
      "cell_type": "code",
      "execution_count": null,
      "metadata": {
        "colab": {
          "base_uri": "https://localhost:8080/",
          "height": 1000
        },
        "id": "kmKHDsRu0XOF",
        "outputId": "f43f7862-5726-4a66-a911-2fd756a8b1cc"
      },
      "outputs": [
        {
          "output_type": "stream",
          "name": "stdout",
          "text": [
            "age\n",
            "Skew : -0.72\n"
          ]
        },
        {
          "output_type": "display_data",
          "data": {
            "text/plain": [
              "<Figure size 1080x288 with 2 Axes>"
            ],
            "image/png": "[encoded data removed]"
          },
          "metadata": {
            "needs_background": "light"
          }
        },
        {
          "output_type": "stream",
          "name": "stdout",
          "text": [
            "website_visits\n",
            "Skew : 2.16\n"
          ]
        },
        {
          "output_type": "display_data",
          "data": {
            "text/plain": [
              "<Figure size 1080x288 with 2 Axes>"
            ],
            "image/png": "[encoded data removed]"
          },
          "metadata": {
            "needs_background": "light"
          }
        },
        {
          "output_type": "stream",
          "name": "stdout",
          "text": [
            "time_spent_on_website\n",
            "Skew : 0.95\n"
          ]
        },
        {
          "output_type": "display_data",
          "data": {
            "text/plain": [
              "<Figure size 1080x288 with 2 Axes>"
            ],
            "image/png": "[encoded data removed]"
          },
          "metadata": {
            "needs_background": "light"
          }
        },
        {
          "output_type": "stream",
          "name": "stdout",
          "text": [
            "page_views_per_visit\n",
            "Skew : 1.27\n"
          ]
        },
        {
          "output_type": "display_data",
          "data": {
            "text/plain": [
              "<Figure size 1080x288 with 2 Axes>"
            ],
            "image/png": "[encoded data removed]"
          },
          "metadata": {
            "needs_background": "light"
          }
        }
      ],
      "source": [
        "for col in ['age', 'website_visits', 'time_spent_on_website', 'page_views_per_visit']:\n",
        "    print(col)\n",
        "    \n",
        "    print('Skew :',round(data[col].skew(), 2))\n",
        "    \n",
        "    plt.figure(figsize = (15, 4))\n",
        "    \n",
        "    plt.subplot(1, 2, 1)\n",
        "    \n",
        "    data[col].hist(bins = 10, grid = False)\n",
        "    \n",
        "    plt.ylabel('count')\n",
        "    \n",
        "    plt.subplot(1, 2, 2)\n",
        "    \n",
        "    sns.boxplot(x = data[col])\n",
        "    \n",
        "    plt.show()"
      ],
      "id": "kmKHDsRu0XOF"
    },
    {
      "cell_type": "code",
      "source": [
        "sns.displot(data['age'], kde=True)"
      ],
      "metadata": {
        "colab": {
          "base_uri": "https://localhost:8080/",
          "height": 386
        },
        "id": "01yriqdr22FW",
        "outputId": "a96eac81-e69b-40f4-c85a-80fa0aab87c4"
      },
      "id": "01yriqdr22FW",
      "execution_count": null,
      "outputs": [
        {
          "output_type": "execute_result",
          "data": {
            "text/plain": [
              "<seaborn.axisgrid.FacetGrid at 0x7fdd39b3e7d0>"
            ]
          },
          "metadata": {},
          "execution_count": 27
        },
        {
          "output_type": "display_data",
          "data": {
            "text/plain": [
              "<Figure size 360x360 with 1 Axes>"
            ],
            "image/png": "[encoded data removed]"
          },
          "metadata": {
            "needs_background": "light"
          }
        }
      ]
    },
    {
      "cell_type": "code",
      "source": [
        ""
      ],
      "metadata": {
        "id": "AItVs4Jm791J"
      },
      "id": "AItVs4Jm791J",
      "execution_count": null,
      "outputs": []
    },
    {
      "cell_type": "code",
      "source": [
        "sns.displot(data['website_visits'], kde=True)"
      ],
      "metadata": {
        "colab": {
          "base_uri": "https://localhost:8080/",
          "height": 386
        },
        "outputId": "f4ab4c17-5a6b-4acb-9d7b-064956c760e5",
        "id": "hn8oZYgM7-O8"
      },
      "execution_count": null,
      "outputs": [
        {
          "output_type": "execute_result",
          "data": {
            "text/plain": [
              "<seaborn.axisgrid.FacetGrid at 0x7fdd397fe0d0>"
            ]
          },
          "metadata": {},
          "execution_count": 28
        },
        {
          "output_type": "display_data",
          "data": {
            "text/plain": [
              "<Figure size 360x360 with 1 Axes>"
            ],
            "image/png": "[encoded data removed]"
          },
          "metadata": {
            "needs_background": "light"
          }
        }
      ],
      "id": "hn8oZYgM7-O8"
    },
    {
      "cell_type": "code",
      "source": [
        "sns.displot(data['page_views_per_visit'], kde=True)"
      ],
      "metadata": {
        "colab": {
          "base_uri": "https://localhost:8080/",
          "height": 386
        },
        "outputId": "45143b5b-82c5-47d6-a895-d118167fe3d4",
        "id": "TnccCfQN8G3P"
      },
      "execution_count": null,
      "outputs": [
        {
          "output_type": "execute_result",
          "data": {
            "text/plain": [
              "<seaborn.axisgrid.FacetGrid at 0x7fdd396a9590>"
            ]
          },
          "metadata": {},
          "execution_count": 29
        },
        {
          "output_type": "display_data",
          "data": {
            "text/plain": [
              "<Figure size 360x360 with 1 Axes>"
            ],
            "image/png": "[encoded data removed]"
          },
          "metadata": {
            "needs_background": "light"
          }
        }
      ],
      "id": "TnccCfQN8G3P"
    },
    {
      "cell_type": "code",
      "source": [
        "sns.displot(data['time_spent_on_website'], kde=True)"
      ],
      "metadata": {
        "colab": {
          "base_uri": "https://localhost:8080/",
          "height": 386
        },
        "id": "zh0QQmjqCD_Q",
        "outputId": "fa3c68ef-83e6-45eb-88cd-8c17cea53421"
      },
      "id": "zh0QQmjqCD_Q",
      "execution_count": null,
      "outputs": [
        {
          "output_type": "execute_result",
          "data": {
            "text/plain": [
              "<seaborn.axisgrid.FacetGrid at 0x7fdd39c19e10>"
            ]
          },
          "metadata": {},
          "execution_count": 30
        },
        {
          "output_type": "display_data",
          "data": {
            "text/plain": [
              "<Figure size 360x360 with 1 Axes>"
            ],
            "image/png": "[encoded data removed]"
          },
          "metadata": {
            "needs_background": "light"
          }
        }
      ]
    },
    {
      "cell_type": "markdown",
      "metadata": {
        "id": "r0rDjL_Y0XOF"
      },
      "source": [
        "**Observations:___________**"
      ],
      "id": "r0rDjL_Y0XOF"
    },
    {
      "cell_type": "markdown",
      "source": [
        "\n",
        "\n",
        "*  There are no outliers for age of leads. There are many observations spread down to 18 years of age and some peaks at the higher range. We will want to investigate how lead ages are affecting conversion rates. \n",
        "*   The distribution of website visits in highly skewed to the right with many high outliers that we should keep as a part of the data. Pages viewed per visit follows a similar distribution with heavy outliers to the right.  \n",
        "*   Time spent on the website has two peaks (Bi-modal), one at around 200 seconds and the other at around 2000 seconds. The hump is greater at 200 seconds but the other hump is more spread out. It will be interesting to find out what is driving the peaks and if they correlate with converted customers. \n",
        "\n"
      ],
      "metadata": {
        "id": "YOJL1RlcDuLX"
      },
      "id": "YOJL1RlcDuLX"
    },
    {
      "cell_type": "markdown",
      "metadata": {
        "id": "cItbpbRH0XOF"
      },
      "source": [
        "### **Bivariate Analysis**"
      ],
      "id": "cItbpbRH0XOF"
    },
    {
      "cell_type": "markdown",
      "metadata": {
        "id": "ZR4R_pK10XOG"
      },
      "source": [
        "**We are done with univariate analysis and data preprocessing. Let's explore the data a bit more with bivariate analysis.**\n",
        "\n",
        "Leads will have different expectations from the outcome of the course and their current occupation may play a key role for them to take the program. Let's analyze it."
      ],
      "id": "ZR4R_pK10XOG"
    },
    {
      "cell_type": "code",
      "execution_count": null,
      "metadata": {
        "colab": {
          "base_uri": "https://localhost:8080/",
          "height": 389
        },
        "id": "1lf1Ey1r0XOG",
        "outputId": "644b0e26-5ffc-40dc-8dce-a8b1d7d24c6b"
      },
      "outputs": [
        {
          "output_type": "display_data",
          "data": {
            "text/plain": [
              "<Figure size 720x432 with 1 Axes>"
            ],
            "image/png": "[encoded data removed]"
          },
          "metadata": {
            "needs_background": "light"
          }
        }
      ],
      "source": [
        "plt.figure(figsize = (10, 6))\n",
        "\n",
        "sns.countplot(x = 'current_occupation', hue = 'status', data = data)\n",
        "\n",
        "plt.show()"
      ],
      "id": "1lf1Ey1r0XOG"
    },
    {
      "cell_type": "markdown",
      "metadata": {
        "id": "gp6DFdcW0XOG"
      },
      "source": [
        "**Observations:**\n",
        "\n",
        "- The plot shows that working professional leads are more likely to opt for a course offered by the organization and the students are least likely to be converted. \n",
        "- This shows that the currently offered programs are more oriented toward working professionals or unemployed personnel. The programs might be suitable for the working professionals who might want to transition to a new role or take up more responsibility in their current role. And also focused on skills that are in high demand making it more suitable for working professionals or currently unemployed leads."
      ],
      "id": "gp6DFdcW0XOG"
    },
    {
      "cell_type": "markdown",
      "metadata": {
        "id": "PjG9_BFf0XOG"
      },
      "source": [
        "**Age can also be a good factor to differentiate between such leads. Let's explore this.**"
      ],
      "id": "PjG9_BFf0XOG"
    },
    {
      "cell_type": "code",
      "execution_count": null,
      "metadata": {
        "colab": {
          "base_uri": "https://localhost:8080/",
          "height": 335
        },
        "id": "MMqSHwiC0XOG",
        "outputId": "d8c33a3c-e72b-42c2-9f1a-67d5be4768c7"
      },
      "outputs": [
        {
          "output_type": "display_data",
          "data": {
            "text/plain": [
              "<Figure size 720x360 with 1 Axes>"
            ],
            "image/png": "[encoded data removed]"
          },
          "metadata": {
            "needs_background": "light"
          }
        }
      ],
      "source": [
        "plt.figure(figsize = (10, 5))\n",
        "\n",
        "sns.boxplot(data[\"current_occupation\"], data[\"age\"])\n",
        "\n",
        "plt.show()"
      ],
      "id": "MMqSHwiC0XOG"
    },
    {
      "cell_type": "code",
      "execution_count": null,
      "metadata": {
        "colab": {
          "base_uri": "https://localhost:8080/",
          "height": 175
        },
        "id": "383I4G7y0XOH",
        "outputId": "55da9519-137b-4897-ef32-17796fcd0395"
      },
      "outputs": [
        {
          "output_type": "execute_result",
          "data": {
            "text/plain": [
              "                     count       mean       std   min   25%   50%   75%   max\n",
              "current_occupation                                                           \n",
              "Professional        2616.0  49.347477  9.890744  25.0  42.0  54.0  57.0  60.0\n",
              "Student              555.0  21.144144  2.001114  18.0  19.0  21.0  23.0  25.0\n",
              "Unemployed          1441.0  50.140180  9.999503  32.0  42.0  54.0  58.0  63.0"
            ],
            "text/html": [
              "\n",
              "  <div id=\"df-939c18ab-79d3-4d51-b438-306c3338dbf2\">\n",
              "    <div class=\"colab-df-container\">\n",
              "      <div>\n",
              "<style scoped>\n",
              "    .dataframe tbody tr th:only-of-type {\n",
              "        vertical-align: middle;\n",
              "    }\n",
              "\n",
              "    .dataframe tbody tr th {\n",
              "        vertical-align: top;\n",
              "    }\n",
              "\n",
              "    .dataframe thead th {\n",
              "        text-align: right;\n",
              "    }\n",
              "</style>\n",
              "<table border=\"1\" class=\"dataframe\">\n",
              "  <thead>\n",
              "    <tr style=\"text-align: right;\">\n",
              "      <th></th>\n",
              "      <th>count</th>\n",
              "      <th>mean</th>\n",
              "      <th>std</th>\n",
              "      <th>min</th>\n",
              "      <th>25%</th>\n",
              "      <th>50%</th>\n",
              "      <th>75%</th>\n",
              "      <th>max</th>\n",
              "    </tr>\n",
              "    <tr>\n",
              "      <th>current_occupation</th>\n",
              "      <th></th>\n",
              "      <th></th>\n",
              "      <th></th>\n",
              "      <th></th>\n",
              "      <th></th>\n",
              "      <th></th>\n",
              "      <th></th>\n",
              "      <th></th>\n",
              "    </tr>\n",
              "  </thead>\n",
              "  <tbody>\n",
              "    <tr>\n",
              "      <th>Professional</th>\n",
              "      <td>2616.0</td>\n",
              "      <td>49.347477</td>\n",
              "      <td>9.890744</td>\n",
              "      <td>25.0</td>\n",
              "      <td>42.0</td>\n",
              "      <td>54.0</td>\n",
              "      <td>57.0</td>\n",
              "      <td>60.0</td>\n",
              "    </tr>\n",
              "    <tr>\n",
              "      <th>Student</th>\n",
              "      <td>555.0</td>\n",
              "      <td>21.144144</td>\n",
              "      <td>2.001114</td>\n",
              "      <td>18.0</td>\n",
              "      <td>19.0</td>\n",
              "      <td>21.0</td>\n",
              "      <td>23.0</td>\n",
              "      <td>25.0</td>\n",
              "    </tr>\n",
              "    <tr>\n",
              "      <th>Unemployed</th>\n",
              "      <td>1441.0</td>\n",
              "      <td>50.140180</td>\n",
              "      <td>9.999503</td>\n",
              "      <td>32.0</td>\n",
              "      <td>42.0</td>\n",
              "      <td>54.0</td>\n",
              "      <td>58.0</td>\n",
              "      <td>63.0</td>\n",
              "    </tr>\n",
              "  </tbody>\n",
              "</table>\n",
              "</div>\n",
              "      <button class=\"colab-df-convert\" onclick=\"convertToInteractive('df-939c18ab-79d3-4d51-b438-306c3338dbf2')\"\n",
              "              title=\"Convert this dataframe to an interactive table.\"\n",
              "              style=\"display:none;\">\n",
              "        \n",
              "  <svg xmlns=\"http://www.w3.org/2000/svg\" height=\"24px\"viewBox=\"0 0 24 24\"\n",
              "       width=\"24px\">\n",
              "    <path d=\"M0 0h24v24H0V0z\" fill=\"none\"/>\n",
              "    <path d=\"M18.56 5.44l.94 2.06.94-2.06 2.06-.94-2.06-.94-.94-2.06-.94 2.06-2.06.94zm-11 1L8.5 8.5l.94-2.06 2.06-.94-2.06-.94L8.5 2.5l-.94 2.06-2.06.94zm10 10l.94 2.06.94-2.06 2.06-.94-2.06-.94-.94-2.06-.94 2.06-2.06.94z\"/><path d=\"M17.41 7.96l-1.37-1.37c-.4-.4-.92-.59-1.43-.59-.52 0-1.04.2-1.43.59L10.3 9.45l-7.72 7.72c-.78.78-.78 2.05 0 2.83L4 21.41c.39.39.9.59 1.41.59.51 0 1.02-.2 1.41-.59l7.78-7.78 2.81-2.81c.8-.78.8-2.07 0-2.86zM5.41 20L4 18.59l7.72-7.72 1.47 1.35L5.41 20z\"/>\n",
              "  </svg>\n",
              "      </button>\n",
              "      \n",
              "  <style>\n",
              "    .colab-df-container {\n",
              "      display:flex;\n",
              "      flex-wrap:wrap;\n",
              "      gap: 12px;\n",
              "    }\n",
              "\n",
              "    .colab-df-convert {\n",
              "      background-color: #E8F0FE;\n",
              "      border: none;\n",
              "      border-radius: 50%;\n",
              "      cursor: pointer;\n",
              "      display: none;\n",
              "      fill: #1967D2;\n",
              "      height: 32px;\n",
              "      padding: 0 0 0 0;\n",
              "      width: 32px;\n",
              "    }\n",
              "\n",
              "    .colab-df-convert:hover {\n",
              "      background-color: #E2EBFA;\n",
              "      box-shadow: 0px 1px 2px rgba(60, 64, 67, 0.3), 0px 1px 3px 1px rgba(60, 64, 67, 0.15);\n",
              "      fill: #174EA6;\n",
              "    }\n",
              "\n",
              "    [theme=dark] .colab-df-convert {\n",
              "      background-color: #3B4455;\n",
              "      fill: #D2E3FC;\n",
              "    }\n",
              "\n",
              "    [theme=dark] .colab-df-convert:hover {\n",
              "      background-color: #434B5C;\n",
              "      box-shadow: 0px 1px 3px 1px rgba(0, 0, 0, 0.15);\n",
              "      filter: drop-shadow(0px 1px 2px rgba(0, 0, 0, 0.3));\n",
              "      fill: #FFFFFF;\n",
              "    }\n",
              "  </style>\n",
              "\n",
              "      <script>\n",
              "        const buttonEl =\n",
              "          document.querySelector('#df-939c18ab-79d3-4d51-b438-306c3338dbf2 button.colab-df-convert');\n",
              "        buttonEl.style.display =\n",
              "          google.colab.kernel.accessAllowed ? 'block' : 'none';\n",
              "\n",
              "        async function convertToInteractive(key) {\n",
              "          const element = document.querySelector('#df-939c18ab-79d3-4d51-b438-306c3338dbf2');\n",
              "          const dataTable =\n",
              "            await google.colab.kernel.invokeFunction('convertToInteractive',\n",
              "                                                     [key], {});\n",
              "          if (!dataTable) return;\n",
              "\n",
              "          const docLinkHtml = 'Like what you see? Visit the ' +\n",
              "            '<a target=\"_blank\" href=https://colab.research.google.com/notebooks/data_table.ipynb>data table notebook</a>'\n",
              "            + ' to learn more about interactive tables.';\n",
              "          element.innerHTML = '';\n",
              "          dataTable['output_type'] = 'display_data';\n",
              "          await google.colab.output.renderOutput(dataTable, element);\n",
              "          const docLink = document.createElement('div');\n",
              "          docLink.innerHTML = docLinkHtml;\n",
              "          element.appendChild(docLink);\n",
              "        }\n",
              "      </script>\n",
              "    </div>\n",
              "  </div>\n",
              "  "
            ]
          },
          "metadata": {},
          "execution_count": 33
        }
      ],
      "source": [
        "data.groupby([\"current_occupation\"])[\"age\"].describe()"
      ],
      "id": "383I4G7y0XOH"
    },
    {
      "cell_type": "markdown",
      "metadata": {
        "id": "HsOS_-4c0XOH"
      },
      "source": [
        "**Observations:**\n",
        "\n",
        "* The range of age for students is 18 to 25 years.\n",
        "* The range of age for professionals is 25 to 60 years.\n",
        "* The range of age for unemployed leads is 32 to 63 years.\n",
        "* The average age of working professionals and unemployed leads is almost 50 years."
      ],
      "id": "HsOS_-4c0XOH"
    },
    {
      "cell_type": "markdown",
      "metadata": {
        "id": "V8xLxOo30XOH"
      },
      "source": [
        "**The company's first interaction with leads should be compelling and persuasive. Let's see if the channels of the first interaction have an impact on the conversion of leads.**"
      ],
      "id": "V8xLxOo30XOH"
    },
    {
      "cell_type": "code",
      "execution_count": null,
      "metadata": {
        "colab": {
          "base_uri": "https://localhost:8080/",
          "height": 389
        },
        "id": "r7mGjSaP0XOH",
        "outputId": "7fecd2e2-51e3-4649-a607-f2b762ea623e"
      },
      "outputs": [
        {
          "output_type": "display_data",
          "data": {
            "text/plain": [
              "<Figure size 720x432 with 1 Axes>"
            ],
            "image/png": "[encoded data removed]"
          },
          "metadata": {
            "needs_background": "light"
          }
        }
      ],
      "source": [
        "plt.figure(figsize = (10, 6))\n",
        "\n",
        "sns.countplot(x = 'first_interaction', hue = 'status', data = data)\n",
        "\n",
        "plt.show()"
      ],
      "id": "r7mGjSaP0XOH"
    },
    {
      "cell_type": "markdown",
      "metadata": {
        "id": "6aLuLS6Z0XOH"
      },
      "source": [
        "**Observations:**\n",
        "\n",
        "* The website seems to be doing a good job as compared to mobile app as there is a huge difference in the number of conversions of the leads who first interacted with the company through website and those who interacted through mobile application.\n",
        "* Majority of the leads who interacted through websites were converted to paid customers, while only a small number of leads, who interacted through mobile app, converted."
      ],
      "id": "6aLuLS6Z0XOH"
    },
    {
      "cell_type": "markdown",
      "metadata": {
        "id": "JSi1EHUL0XOI"
      },
      "source": [
        "**We observed earlier that some leads spend more time on websites than others. Let's analyze if spending more time on websites results in conversion.**"
      ],
      "id": "JSi1EHUL0XOI"
    },
    {
      "cell_type": "markdown",
      "metadata": {
        "id": "LRWDed2m0XOI"
      },
      "source": [
        "### **Question 3:** \n",
        "- **Create a boxplot for variables 'status' and 'time_spent_on_website' (use sns.boxplot() function) (1 Mark)**\n",
        "- **Provide your observations from the plot (2 Marks)**"
      ],
      "id": "LRWDed2m0XOI"
    },
    {
      "cell_type": "code",
      "execution_count": null,
      "metadata": {
        "colab": {
          "base_uri": "https://localhost:8080/",
          "height": 334
        },
        "id": "PGzWU4Zd0XOI",
        "outputId": "0651415a-dc11-4015-f71b-a959476e3253"
      },
      "outputs": [
        {
          "output_type": "display_data",
          "data": {
            "text/plain": [
              "<Figure size 720x360 with 1 Axes>"
            ],
            "image/png": "[encoded data removed]"
          },
          "metadata": {
            "needs_background": "light"
          }
        }
      ],
      "source": [
        "plt.figure(figsize = (10, 5))\n",
        "\n",
        "# Write your code here\n",
        "sns.boxplot(data['status'], data['time_spent_on_website'], showmeans=True,\n",
        "            meanprops={\"marker\": \"+\",\n",
        "                       \"markeredgecolor\": \"black\",\n",
        "                       \"markersize\": \"10\"})\n",
        "\n",
        "plt.show()"
      ],
      "id": "PGzWU4Zd0XOI"
    },
    {
      "cell_type": "markdown",
      "metadata": {
        "id": "d0ak0LsR0XOI"
      },
      "source": [
        "**Observations:_______**"
      ],
      "id": "d0ak0LsR0XOI"
    },
    {
      "cell_type": "markdown",
      "source": [
        "\n",
        "\n",
        "*   Leads that convert into paying customers spend more time on the website than those who do not. It may be beneficial to find ways to engage the lead and keep them on the website for longer amounts of time. \n",
        "\n"
      ],
      "metadata": {
        "id": "oi4nVf4NJVf-"
      },
      "id": "oi4nVf4NJVf-"
    },
    {
      "cell_type": "markdown",
      "metadata": {
        "id": "lGRtYCXD0XOI"
      },
      "source": [
        "**People browsing the website or the mobile app are generally required to create a profile by sharing their details before they can access more information. Let's see if the profile completion level has an impact on lead coversion**"
      ],
      "id": "lGRtYCXD0XOI"
    },
    {
      "cell_type": "code",
      "execution_count": null,
      "metadata": {
        "colab": {
          "base_uri": "https://localhost:8080/",
          "height": 389
        },
        "id": "1mvEzkm50XOI",
        "outputId": "6a6a0fd0-9105-4c2b-f3f8-5537368c50f2"
      },
      "outputs": [
        {
          "output_type": "display_data",
          "data": {
            "text/plain": [
              "<Figure size 720x432 with 1 Axes>"
            ],
            "image/png": "[encoded data removed]"
          },
          "metadata": {
            "needs_background": "light"
          }
        }
      ],
      "source": [
        "plt.figure(figsize = (10, 6))\n",
        "\n",
        "sns.countplot(x = 'profile_completed', hue = 'status', data = data)\n",
        "\n",
        "plt.show()"
      ],
      "id": "1mvEzkm50XOI"
    },
    {
      "cell_type": "markdown",
      "metadata": {
        "id": "BM7EBKD60XOI"
      },
      "source": [
        "**Observations:**\n",
        "\n",
        "* The leads whose profile completion level is high converted more in comparison to other levels of profile completion.\n",
        "* The medium and low levels of profile completion saw comparatively very less conversions.\n",
        "* The high level of profile completion might indicate a lead's intent to pursue the course which results in high conversion."
      ],
      "id": "BM7EBKD60XOI"
    },
    {
      "cell_type": "markdown",
      "metadata": {
        "id": "4IEJ_sfB0XOJ"
      },
      "source": [
        "**Referrals from a converted lead can be a good source of income with a very low cost of advertisement. Let's see how referrals impact lead conversion status.**"
      ],
      "id": "4IEJ_sfB0XOJ"
    },
    {
      "cell_type": "code",
      "execution_count": null,
      "metadata": {
        "colab": {
          "base_uri": "https://localhost:8080/",
          "height": 388
        },
        "id": "QGgU_yIi0XOJ",
        "outputId": "acaaf895-e8fd-4656-ffe0-047a9f4e719d"
      },
      "outputs": [
        {
          "output_type": "display_data",
          "data": {
            "text/plain": [
              "<Figure size 720x432 with 1 Axes>"
            ],
            "image/png": "[encoded data removed]"
          },
          "metadata": {
            "needs_background": "light"
          }
        }
      ],
      "source": [
        "plt.figure(figsize = (10, 6))\n",
        "\n",
        "sns.countplot(x = 'referral', hue = 'status', data = data)\n",
        "\n",
        "plt.show()"
      ],
      "id": "QGgU_yIi0XOJ"
    },
    {
      "cell_type": "markdown",
      "metadata": {
        "id": "yU98e4Q40XOJ"
      },
      "source": [
        "**Observations:**\n",
        "* There are a very less number of referrals but the conversion is high. \n",
        "* Company should try to get more leads through referrals by promoting rewards for existing customer base when they refer someone."
      ],
      "id": "yU98e4Q40XOJ"
    },
    {
      "cell_type": "markdown",
      "metadata": {
        "id": "vWpugUh20XOJ"
      },
      "source": [
        "### **Question 4:** Write the code to plot the correlation heatmap and write your observations based on that. (4 Marks)"
      ],
      "id": "vWpugUh20XOJ"
    },
    {
      "cell_type": "code",
      "execution_count": null,
      "metadata": {
        "colab": {
          "base_uri": "https://localhost:8080/",
          "height": 539
        },
        "outputId": "bc7a304b-b353-4111-d37e-80d606483a0e",
        "id": "G1r-SK_eUPBK"
      },
      "outputs": [
        {
          "output_type": "display_data",
          "data": {
            "text/plain": [
              "<Figure size 864x504 with 2 Axes>"
            ],
            "image/png": "[encoded data removed]"
          },
          "metadata": {
            "needs_background": "light"
          }
        }
      ],
      "source": [
        "plt.figure(figsize = (12, 7))\n",
        "data.corr()\n",
        "sns.heatmap(data.corr(), annot = True, fmt = '.2f', cmap = 'Blues')\n",
        "\n",
        "plt.show()"
      ],
      "id": "G1r-SK_eUPBK"
    },
    {
      "cell_type": "markdown",
      "metadata": {
        "id": "kjB6xf2H0XOK"
      },
      "source": [
        "**Observations:__**"
      ],
      "id": "kjB6xf2H0XOK"
    },
    {
      "cell_type": "markdown",
      "source": [
        "\n",
        "\n",
        "*   Many of the features do not correlate.\n",
        "*   The strongest correlation (.30) is between status and time spent on the website.\n",
        "\n"
      ],
      "metadata": {
        "id": "r4pW5iBzw_pq"
      },
      "id": "r4pW5iBzw_pq"
    },
    {
      "cell_type": "markdown",
      "metadata": {
        "id": "mOWItyUl0XOK"
      },
      "source": [
        "## **Data preparation for modeling**\n",
        "\n",
        "- We want to predict which lead is more likely to be converted.\n",
        "- Before we proceed to build a model, we'll have to encode categorical features.\n",
        "- We'll split the data into train and test sets to be able to evaluate the model that we build on the train data."
      ],
      "id": "mOWItyUl0XOK"
    },
    {
      "cell_type": "code",
      "execution_count": null,
      "metadata": {
        "id": "nhR17PYK0XOL"
      },
      "outputs": [],
      "source": [
        "# Separating the target variable and other variables\n",
        "X = data.drop(columns = 'status')\n",
        "\n",
        "Y = data['status']"
      ],
      "id": "nhR17PYK0XOL"
    },
    {
      "cell_type": "code",
      "execution_count": null,
      "metadata": {
        "id": "Pe5e90ub0XOL"
      },
      "outputs": [],
      "source": [
        "# Creating dummy variables, drop_first=True is used to avoid redundant variables\n",
        "X = pd.get_dummies(X, drop_first = True)"
      ],
      "id": "Pe5e90ub0XOL"
    },
    {
      "cell_type": "code",
      "execution_count": null,
      "metadata": {
        "id": "lw7eYijC0XOL"
      },
      "outputs": [],
      "source": [
        "# Splitting the data into train and test sets\n",
        "X_train, X_test, y_train, y_test = train_test_split(X, Y, test_size = 0.30, random_state = 1)"
      ],
      "id": "lw7eYijC0XOL"
    },
    {
      "cell_type": "code",
      "source": [
        "X_train"
      ],
      "metadata": {
        "colab": {
          "base_uri": "https://localhost:8080/",
          "height": 505
        },
        "id": "lwuxRPSs14Of",
        "outputId": "84285ed1-f6b7-4c40-843c-338502a23215"
      },
      "id": "lwuxRPSs14Of",
      "execution_count": null,
      "outputs": [
        {
          "output_type": "execute_result",
          "data": {
            "text/plain": [
              "      age  website_visits  time_spent_on_website  page_views_per_visit  \\\n",
              "2462   57               2                     26                 0.109   \n",
              "1621   57               7                    385                 8.201   \n",
              "197    32               9                   2001                 2.178   \n",
              "2181   34               3                    318                 3.926   \n",
              "2867   37               4                    211                 2.010   \n",
              "...   ...             ...                    ...                   ...   \n",
              "2895   56               1                    281                 5.347   \n",
              "2763   44               1                     64                 5.051   \n",
              "905    26               1                    211                 0.291   \n",
              "3980   57               1                   1186                 1.224   \n",
              "235    31               2                     76                 3.590   \n",
              "\n",
              "      current_occupation_Student  current_occupation_Unemployed  \\\n",
              "2462                           0                              1   \n",
              "1621                           0                              0   \n",
              "197                            0                              1   \n",
              "2181                           0                              0   \n",
              "2867                           0                              1   \n",
              "...                          ...                            ...   \n",
              "2895                           0                              1   \n",
              "2763                           0                              0   \n",
              "905                            0                              0   \n",
              "3980                           0                              1   \n",
              "235                            0                              0   \n",
              "\n",
              "      first_interaction_Website  profile_completed_Low  \\\n",
              "2462                          0                      0   \n",
              "1621                          1                      0   \n",
              "197                           1                      0   \n",
              "2181                          0                      0   \n",
              "2867                          0                      1   \n",
              "...                         ...                    ...   \n",
              "2895                          0                      0   \n",
              "2763                          1                      0   \n",
              "905                           1                      0   \n",
              "3980                          1                      0   \n",
              "235                           0                      0   \n",
              "\n",
              "      profile_completed_Medium  last_activity_Phone Activity  \\\n",
              "2462                         0                             0   \n",
              "1621                         1                             1   \n",
              "197                          1                             0   \n",
              "2181                         1                             0   \n",
              "2867                         0                             0   \n",
              "...                        ...                           ...   \n",
              "2895                         0                             0   \n",
              "2763                         0                             0   \n",
              "905                          1                             0   \n",
              "3980                         0                             0   \n",
              "235                          1                             1   \n",
              "\n",
              "      last_activity_Website Activity  print_media_type1_Yes  \\\n",
              "2462                               0                      0   \n",
              "1621                               0                      0   \n",
              "197                                0                      0   \n",
              "2181                               0                      1   \n",
              "2867                               0                      1   \n",
              "...                              ...                    ...   \n",
              "2895                               0                      0   \n",
              "2763                               1                      0   \n",
              "905                                0                      0   \n",
              "3980                               1                      0   \n",
              "235                                0                      0   \n",
              "\n",
              "      print_media_type2_Yes  digital_media_Yes  educational_channels_Yes  \\\n",
              "2462                      0                  0                         0   \n",
              "1621                      0                  1                         1   \n",
              "197                       0                  0                         0   \n",
              "2181                      0                  0                         0   \n",
              "2867                      0                  0                         0   \n",
              "...                     ...                ...                       ...   \n",
              "2895                      0                  0                         0   \n",
              "2763                      1                  0                         1   \n",
              "905                       0                  0                         0   \n",
              "3980                      0                  0                         0   \n",
              "235                       0                  0                         0   \n",
              "\n",
              "      referral_Yes  \n",
              "2462             0  \n",
              "1621             0  \n",
              "197              0  \n",
              "2181             0  \n",
              "2867             0  \n",
              "...            ...  \n",
              "2895             0  \n",
              "2763             0  \n",
              "905              0  \n",
              "3980             0  \n",
              "235              0  \n",
              "\n",
              "[3228 rows x 16 columns]"
            ],
            "text/html": [
              "\n",
              "  <div id=\"df-d2c55717-fe40-474b-a4e5-26242555d358\">\n",
              "    <div class=\"colab-df-container\">\n",
              "      <div>\n",
              "<style scoped>\n",
              "    .dataframe tbody tr th:only-of-type {\n",
              "        vertical-align: middle;\n",
              "    }\n",
              "\n",
              "    .dataframe tbody tr th {\n",
              "        vertical-align: top;\n",
              "    }\n",
              "\n",
              "    .dataframe thead th {\n",
              "        text-align: right;\n",
              "    }\n",
              "</style>\n",
              "<table border=\"1\" class=\"dataframe\">\n",
              "  <thead>\n",
              "    <tr style=\"text-align: right;\">\n",
              "      <th></th>\n",
              "      <th>age</th>\n",
              "      <th>website_visits</th>\n",
              "      <th>time_spent_on_website</th>\n",
              "      <th>page_views_per_visit</th>\n",
              "      <th>current_occupation_Student</th>\n",
              "      <th>current_occupation_Unemployed</th>\n",
              "      <th>first_interaction_Website</th>\n",
              "      <th>profile_completed_Low</th>\n",
              "      <th>profile_completed_Medium</th>\n",
              "      <th>last_activity_Phone Activity</th>\n",
              "      <th>last_activity_Website Activity</th>\n",
              "      <th>print_media_type1_Yes</th>\n",
              "      <th>print_media_type2_Yes</th>\n",
              "      <th>digital_media_Yes</th>\n",
              "      <th>educational_channels_Yes</th>\n",
              "      <th>referral_Yes</th>\n",
              "    </tr>\n",
              "  </thead>\n",
              "  <tbody>\n",
              "    <tr>\n",
              "      <th>2462</th>\n",
              "      <td>57</td>\n",
              "      <td>2</td>\n",
              "      <td>26</td>\n",
              "      <td>0.109</td>\n",
              "      <td>0</td>\n",
              "      <td>1</td>\n",
              "      <td>0</td>\n",
              "      <td>0</td>\n",
              "      <td>0</td>\n",
              "      <td>0</td>\n",
              "      <td>0</td>\n",
              "      <td>0</td>\n",
              "      <td>0</td>\n",
              "      <td>0</td>\n",
              "      <td>0</td>\n",
              "      <td>0</td>\n",
              "    </tr>\n",
              "    <tr>\n",
              "      <th>1621</th>\n",
              "      <td>57</td>\n",
              "      <td>7</td>\n",
              "      <td>385</td>\n",
              "      <td>8.201</td>\n",
              "      <td>0</td>\n",
              "      <td>0</td>\n",
              "      <td>1</td>\n",
              "      <td>0</td>\n",
              "      <td>1</td>\n",
              "      <td>1</td>\n",
              "      <td>0</td>\n",
              "      <td>0</td>\n",
              "      <td>0</td>\n",
              "      <td>1</td>\n",
              "      <td>1</td>\n",
              "      <td>0</td>\n",
              "    </tr>\n",
              "    <tr>\n",
              "      <th>197</th>\n",
              "      <td>32</td>\n",
              "      <td>9</td>\n",
              "      <td>2001</td>\n",
              "      <td>2.178</td>\n",
              "      <td>0</td>\n",
              "      <td>1</td>\n",
              "      <td>1</td>\n",
              "      <td>0</td>\n",
              "      <td>1</td>\n",
              "      <td>0</td>\n",
              "      <td>0</td>\n",
              "      <td>0</td>\n",
              "      <td>0</td>\n",
              "      <td>0</td>\n",
              "      <td>0</td>\n",
              "      <td>0</td>\n",
              "    </tr>\n",
              "    <tr>\n",
              "      <th>2181</th>\n",
              "      <td>34</td>\n",
              "      <td>3</td>\n",
              "      <td>318</td>\n",
              "      <td>3.926</td>\n",
              "      <td>0</td>\n",
              "      <td>0</td>\n",
              "      <td>0</td>\n",
              "      <td>0</td>\n",
              "      <td>1</td>\n",
              "      <td>0</td>\n",
              "      <td>0</td>\n",
              "      <td>1</td>\n",
              "      <td>0</td>\n",
              "      <td>0</td>\n",
              "      <td>0</td>\n",
              "      <td>0</td>\n",
              "    </tr>\n",
              "    <tr>\n",
              "      <th>2867</th>\n",
              "      <td>37</td>\n",
              "      <td>4</td>\n",
              "      <td>211</td>\n",
              "      <td>2.010</td>\n",
              "      <td>0</td>\n",
              "      <td>1</td>\n",
              "      <td>0</td>\n",
              "      <td>1</td>\n",
              "      <td>0</td>\n",
              "      <td>0</td>\n",
              "      <td>0</td>\n",
              "      <td>1</td>\n",
              "      <td>0</td>\n",
              "      <td>0</td>\n",
              "      <td>0</td>\n",
              "      <td>0</td>\n",
              "    </tr>\n",
              "    <tr>\n",
              "      <th>...</th>\n",
              "      <td>...</td>\n",
              "      <td>...</td>\n",
              "      <td>...</td>\n",
              "      <td>...</td>\n",
              "      <td>...</td>\n",
              "      <td>...</td>\n",
              "      <td>...</td>\n",
              "      <td>...</td>\n",
              "      <td>...</td>\n",
              "      <td>...</td>\n",
              "      <td>...</td>\n",
              "      <td>...</td>\n",
              "      <td>...</td>\n",
              "      <td>...</td>\n",
              "      <td>...</td>\n",
              "      <td>...</td>\n",
              "    </tr>\n",
              "    <tr>\n",
              "      <th>2895</th>\n",
              "      <td>56</td>\n",
              "      <td>1</td>\n",
              "      <td>281</td>\n",
              "      <td>5.347</td>\n",
              "      <td>0</td>\n",
              "      <td>1</td>\n",
              "      <td>0</td>\n",
              "      <td>0</td>\n",
              "      <td>0</td>\n",
              "      <td>0</td>\n",
              "      <td>0</td>\n",
              "      <td>0</td>\n",
              "      <td>0</td>\n",
              "      <td>0</td>\n",
              "      <td>0</td>\n",
              "      <td>0</td>\n",
              "    </tr>\n",
              "    <tr>\n",
              "      <th>2763</th>\n",
              "      <td>44</td>\n",
              "      <td>1</td>\n",
              "      <td>64</td>\n",
              "      <td>5.051</td>\n",
              "      <td>0</td>\n",
              "      <td>0</td>\n",
              "      <td>1</td>\n",
              "      <td>0</td>\n",
              "      <td>0</td>\n",
              "      <td>0</td>\n",
              "      <td>1</td>\n",
              "      <td>0</td>\n",
              "      <td>1</td>\n",
              "      <td>0</td>\n",
              "      <td>1</td>\n",
              "      <td>0</td>\n",
              "    </tr>\n",
              "    <tr>\n",
              "      <th>905</th>\n",
              "      <td>26</td>\n",
              "      <td>1</td>\n",
              "      <td>211</td>\n",
              "      <td>0.291</td>\n",
              "      <td>0</td>\n",
              "      <td>0</td>\n",
              "      <td>1</td>\n",
              "      <td>0</td>\n",
              "      <td>1</td>\n",
              "      <td>0</td>\n",
              "      <td>0</td>\n",
              "      <td>0</td>\n",
              "      <td>0</td>\n",
              "      <td>0</td>\n",
              "      <td>0</td>\n",
              "      <td>0</td>\n",
              "    </tr>\n",
              "    <tr>\n",
              "      <th>3980</th>\n",
              "      <td>57</td>\n",
              "      <td>1</td>\n",
              "      <td>1186</td>\n",
              "      <td>1.224</td>\n",
              "      <td>0</td>\n",
              "      <td>1</td>\n",
              "      <td>1</td>\n",
              "      <td>0</td>\n",
              "      <td>0</td>\n",
              "      <td>0</td>\n",
              "      <td>1</td>\n",
              "      <td>0</td>\n",
              "      <td>0</td>\n",
              "      <td>0</td>\n",
              "      <td>0</td>\n",
              "      <td>0</td>\n",
              "    </tr>\n",
              "    <tr>\n",
              "      <th>235</th>\n",
              "      <td>31</td>\n",
              "      <td>2</td>\n",
              "      <td>76</td>\n",
              "      <td>3.590</td>\n",
              "      <td>0</td>\n",
              "      <td>0</td>\n",
              "      <td>0</td>\n",
              "      <td>0</td>\n",
              "      <td>1</td>\n",
              "      <td>1</td>\n",
              "      <td>0</td>\n",
              "      <td>0</td>\n",
              "      <td>0</td>\n",
              "      <td>0</td>\n",
              "      <td>0</td>\n",
              "      <td>0</td>\n",
              "    </tr>\n",
              "  </tbody>\n",
              "</table>\n",
              "<p>3228 rows × 16 columns</p>\n",
              "</div>\n",
              "      <button class=\"colab-df-convert\" onclick=\"convertToInteractive('df-d2c55717-fe40-474b-a4e5-26242555d358')\"\n",
              "              title=\"Convert this dataframe to an interactive table.\"\n",
              "              style=\"display:none;\">\n",
              "        \n",
              "  <svg xmlns=\"http://www.w3.org/2000/svg\" height=\"24px\"viewBox=\"0 0 24 24\"\n",
              "       width=\"24px\">\n",
              "    <path d=\"M0 0h24v24H0V0z\" fill=\"none\"/>\n",
              "    <path d=\"M18.56 5.44l.94 2.06.94-2.06 2.06-.94-2.06-.94-.94-2.06-.94 2.06-2.06.94zm-11 1L8.5 8.5l.94-2.06 2.06-.94-2.06-.94L8.5 2.5l-.94 2.06-2.06.94zm10 10l.94 2.06.94-2.06 2.06-.94-2.06-.94-.94-2.06-.94 2.06-2.06.94z\"/><path d=\"M17.41 7.96l-1.37-1.37c-.4-.4-.92-.59-1.43-.59-.52 0-1.04.2-1.43.59L10.3 9.45l-7.72 7.72c-.78.78-.78 2.05 0 2.83L4 21.41c.39.39.9.59 1.41.59.51 0 1.02-.2 1.41-.59l7.78-7.78 2.81-2.81c.8-.78.8-2.07 0-2.86zM5.41 20L4 18.59l7.72-7.72 1.47 1.35L5.41 20z\"/>\n",
              "  </svg>\n",
              "      </button>\n",
              "      \n",
              "  <style>\n",
              "    .colab-df-container {\n",
              "      display:flex;\n",
              "      flex-wrap:wrap;\n",
              "      gap: 12px;\n",
              "    }\n",
              "\n",
              "    .colab-df-convert {\n",
              "      background-color: #E8F0FE;\n",
              "      border: none;\n",
              "      border-radius: 50%;\n",
              "      cursor: pointer;\n",
              "      display: none;\n",
              "      fill: #1967D2;\n",
              "      height: 32px;\n",
              "      padding: 0 0 0 0;\n",
              "      width: 32px;\n",
              "    }\n",
              "\n",
              "    .colab-df-convert:hover {\n",
              "      background-color: #E2EBFA;\n",
              "      box-shadow: 0px 1px 2px rgba(60, 64, 67, 0.3), 0px 1px 3px 1px rgba(60, 64, 67, 0.15);\n",
              "      fill: #174EA6;\n",
              "    }\n",
              "\n",
              "    [theme=dark] .colab-df-convert {\n",
              "      background-color: #3B4455;\n",
              "      fill: #D2E3FC;\n",
              "    }\n",
              "\n",
              "    [theme=dark] .colab-df-convert:hover {\n",
              "      background-color: #434B5C;\n",
              "      box-shadow: 0px 1px 3px 1px rgba(0, 0, 0, 0.15);\n",
              "      filter: drop-shadow(0px 1px 2px rgba(0, 0, 0, 0.3));\n",
              "      fill: #FFFFFF;\n",
              "    }\n",
              "  </style>\n",
              "\n",
              "      <script>\n",
              "        const buttonEl =\n",
              "          document.querySelector('#df-d2c55717-fe40-474b-a4e5-26242555d358 button.colab-df-convert');\n",
              "        buttonEl.style.display =\n",
              "          google.colab.kernel.accessAllowed ? 'block' : 'none';\n",
              "\n",
              "        async function convertToInteractive(key) {\n",
              "          const element = document.querySelector('#df-d2c55717-fe40-474b-a4e5-26242555d358');\n",
              "          const dataTable =\n",
              "            await google.colab.kernel.invokeFunction('convertToInteractive',\n",
              "                                                     [key], {});\n",
              "          if (!dataTable) return;\n",
              "\n",
              "          const docLinkHtml = 'Like what you see? Visit the ' +\n",
              "            '<a target=\"_blank\" href=https://colab.research.google.com/notebooks/data_table.ipynb>data table notebook</a>'\n",
              "            + ' to learn more about interactive tables.';\n",
              "          element.innerHTML = '';\n",
              "          dataTable['output_type'] = 'display_data';\n",
              "          await google.colab.output.renderOutput(dataTable, element);\n",
              "          const docLink = document.createElement('div');\n",
              "          docLink.innerHTML = docLinkHtml;\n",
              "          element.appendChild(docLink);\n",
              "        }\n",
              "      </script>\n",
              "    </div>\n",
              "  </div>\n",
              "  "
            ]
          },
          "metadata": {},
          "execution_count": 48
        }
      ]
    },
    {
      "cell_type": "markdown",
      "metadata": {
        "id": "58bYcP5o0XOL"
      },
      "source": [
        "**Checking the shape of the train and test data**"
      ],
      "id": "58bYcP5o0XOL"
    },
    {
      "cell_type": "code",
      "execution_count": null,
      "metadata": {
        "colab": {
          "base_uri": "https://localhost:8080/"
        },
        "id": "lsxdKrA80XOL",
        "outputId": "2efc8ceb-ec13-41b0-f36c-cdb47f6653f3"
      },
      "outputs": [
        {
          "output_type": "stream",
          "name": "stdout",
          "text": [
            "Shape of the training set:  (3228, 16)\n",
            "Shape of the test set:  (1384, 16)\n",
            "Percentage of classes in the training set:\n",
            "0    0.704151\n",
            "1    0.295849\n",
            "Name: status, dtype: float64\n",
            "Percentage of classes in the test set:\n",
            "0    0.695087\n",
            "1    0.304913\n",
            "Name: status, dtype: float64\n"
          ]
        }
      ],
      "source": [
        "print(\"Shape of the training set: \", X_train.shape)   \n",
        "\n",
        "print(\"Shape of the test set: \", X_test.shape)\n",
        "\n",
        "print(\"Percentage of classes in the training set:\")\n",
        "\n",
        "print(y_train.value_counts(normalize = True))\n",
        "\n",
        "print(\"Percentage of classes in the test set:\")\n",
        "\n",
        "print(y_test.value_counts(normalize = True))"
      ],
      "id": "lsxdKrA80XOL"
    },
    {
      "cell_type": "markdown",
      "metadata": {
        "id": "9co7Xt5O0XOL"
      },
      "source": [
        "## **Building Classification Models**"
      ],
      "id": "9co7Xt5O0XOL"
    },
    {
      "cell_type": "markdown",
      "metadata": {
        "id": "l2cOCm4G0XOM"
      },
      "source": [
        "**Before training the model, let's choose the appropriate model evaluation criterion as per the problem at hand.**\n",
        "\n",
        "### **Model evaluation criterion**\n",
        "\n",
        "**Model can make wrong predictions as:**\n",
        "\n",
        "1. Predicting a lead will not be converted to a paid customer but, in reality, the lead would have converted to a paid customer.\n",
        "2. Predicting a lead will be converted to a paid customer but, in reality, the lead would have not converted to a paid customer. \n",
        "\n",
        "### **Which case is more important?** \n",
        "\n",
        "* If we predict that a lead will not get converted and the lead would have converted then the company will lose a potential customer. \n",
        "\n",
        "* If we predict that a lead will get converted and the lead doesn't get converted the company might lose resources by nurturing false-positive cases.\n",
        "\n",
        "Losing a potential customer is a greater loss for the organization.\n",
        "\n",
        "### **How to reduce the losses?**\n",
        "\n",
        "* Company would want `Recall` to be maximized. The greater the Recall score, higher the chances of minimizing False Negatives. "
      ],
      "id": "l2cOCm4G0XOM"
    },
    {
      "cell_type": "markdown",
      "metadata": {
        "id": "u_DOb7zq0XOM"
      },
      "source": [
        "**Also, let's create a function to calculate and print the classification report and confusion matrix so that we don't have to rewrite the same code repeatedly for each model.**"
      ],
      "id": "u_DOb7zq0XOM"
    },
    {
      "cell_type": "code",
      "execution_count": null,
      "metadata": {
        "id": "MlbEY93D0XOM"
      },
      "outputs": [],
      "source": [
        "# Function to print the classification report and get confusion matrix in a proper format\n",
        "\n",
        "def metrics_score(actual, predicted):\n",
        "    print(classification_report(actual, predicted))\n",
        "    \n",
        "    cm = confusion_matrix(actual, predicted)\n",
        "    \n",
        "    plt.figure(figsize = (8, 5))\n",
        "    \n",
        "    sns.heatmap(cm, annot = True,  fmt = '.2f', xticklabels = ['Not Converted', 'Converted'], yticklabels = ['Not Converted', 'Converted'])\n",
        "    \n",
        "    plt.ylabel('Actual')\n",
        "    \n",
        "    plt.xlabel('Predicted')\n",
        "    \n",
        "    plt.show()"
      ],
      "id": "MlbEY93D0XOM"
    },
    {
      "cell_type": "markdown",
      "metadata": {
        "id": "ktDJIto-0XOM"
      },
      "source": [
        "### **Decision Tree**"
      ],
      "id": "ktDJIto-0XOM"
    },
    {
      "cell_type": "markdown",
      "metadata": {
        "id": "ZUF_kkdn0XOM"
      },
      "source": [
        "### **Question 5:**\n",
        "\n",
        "- **Fit the decision tree classifier on the training data (use random_state=7) (2 Marks)**\n",
        "- **Check the performance on both training and testing datasets (use metrics_score function) (2 Marks)**\n",
        "- **Write your observations (3 Marks)**"
      ],
      "id": "ZUF_kkdn0XOM"
    },
    {
      "cell_type": "markdown",
      "source": [
        "# Fitting the decision tree classifier on the training data\n",
        "dt = DecisionTreeClassifier()\n",
        "dt.fit(X_train, y_train)\n",
        "DecisionTreeClassifier(class_weight = {0:0.17, 1:0.83}, random_state = 7 )"
      ],
      "metadata": {
        "id": "tPqyeEWa0XOM"
      },
      "id": "tPqyeEWa0XOM"
    },
    {
      "cell_type": "code",
      "source": [
        "dt = DecisionTreeClassifier()\n",
        "dt.fit(X_train, y_train)\n",
        "DecisionTreeClassifier(class_weight = {0:0.17, 1:0.83}, random_state = 7 )"
      ],
      "metadata": {
        "colab": {
          "base_uri": "https://localhost:8080/"
        },
        "id": "8tLhYpJQ1a5Q",
        "outputId": "8d8bd213-438f-4d64-c972-f6e0b831df7a"
      },
      "id": "8tLhYpJQ1a5Q",
      "execution_count": null,
      "outputs": [
        {
          "output_type": "execute_result",
          "data": {
            "text/plain": [
              "DecisionTreeClassifier(class_weight={0: 0.17, 1: 0.83}, random_state=7)"
            ]
          },
          "metadata": {},
          "execution_count": 46
        }
      ]
    },
    {
      "cell_type": "markdown",
      "metadata": {
        "id": "QbO43B3Z0XON"
      },
      "source": [
        "**Let's check the performance on the training data**"
      ],
      "id": "QbO43B3Z0XON"
    },
    {
      "cell_type": "code",
      "execution_count": null,
      "metadata": {
        "colab": {
          "base_uri": "https://localhost:8080/",
          "height": 490
        },
        "id": "wXlUjwc_0XON",
        "outputId": "dbfbf3c6-e24b-4133-d704-77802a9107a4"
      },
      "outputs": [
        {
          "output_type": "stream",
          "name": "stdout",
          "text": [
            "              precision    recall  f1-score   support\n",
            "\n",
            "           0       1.00      1.00      1.00      2273\n",
            "           1       1.00      1.00      1.00       955\n",
            "\n",
            "    accuracy                           1.00      3228\n",
            "   macro avg       1.00      1.00      1.00      3228\n",
            "weighted avg       1.00      1.00      1.00      3228\n",
            "\n"
          ]
        },
        {
          "output_type": "display_data",
          "data": {
            "text/plain": [
              "<Figure size 576x360 with 2 Axes>"
            ],
            "image/png": "[encoded data removed]"
          },
          "metadata": {
            "needs_background": "light"
          }
        }
      ],
      "source": [
        "# Checking performance on the training data\n",
        "y_pred_train1 = dt.predict(X_train)\n",
        "metrics_score(y_train, y_pred_train1)"
      ],
      "id": "wXlUjwc_0XON"
    },
    {
      "cell_type": "markdown",
      "metadata": {
        "id": "pNVIaoT30XON"
      },
      "source": [
        "**Observations:_________**"
      ],
      "id": "pNVIaoT30XON"
    },
    {
      "cell_type": "markdown",
      "source": [
        "\n",
        "\n",
        "*   The decision tree model is giving a 100% score for all metrics on the training dataset.\n",
        "\n"
      ],
      "metadata": {
        "id": "E1Je323W0Zph"
      },
      "id": "E1Je323W0Zph"
    },
    {
      "cell_type": "markdown",
      "metadata": {
        "id": "dEL1BtAf0XON"
      },
      "source": [
        "\n",
        "**Let's check the performance on test data to see if the model is overfitting.**"
      ],
      "id": "dEL1BtAf0XON"
    },
    {
      "cell_type": "code",
      "execution_count": null,
      "metadata": {
        "scrolled": false,
        "id": "LzHzfDPy0XON"
      },
      "outputs": [],
      "source": [
        "# Checking performance on the testing data\n",
        "y_pred_test1 = dt.predict(X_test)\n",
        "metrics_score(y_test, y_pred_test1)"
      ],
      "id": "LzHzfDPy0XON"
    },
    {
      "cell_type": "markdown",
      "metadata": {
        "id": "ou6AQWq90XON"
      },
      "source": [
        "**Observations:_________**"
      ],
      "id": "ou6AQWq90XON"
    },
    {
      "cell_type": "markdown",
      "source": [
        "\n",
        "\n",
        "*   The decision tree worked well on the training data but not as well on the test data, indicating the model is overfitting the training data. \n",
        "*   The model falsely predicted about 30% of actual converted leads. These would be missed opportunities, so we want to minimize the false negatives. \n",
        "*   The model predicted leads that actually converted (true positives) and leads that did not convert (true negatives) more accurately. \n",
        "\n"
      ],
      "metadata": {
        "id": "tfKewsYM4Ufh"
      },
      "id": "tfKewsYM4Ufh"
    },
    {
      "cell_type": "markdown",
      "metadata": {
        "id": "4l_WKxT_0XON"
      },
      "source": [
        "**Let's try hyperparameter tuning using GridSearchCV to find the optimal max_depth** to reduce overfitting of the model. We can tune some other hyperparameters as well."
      ],
      "id": "4l_WKxT_0XON"
    },
    {
      "cell_type": "markdown",
      "metadata": {
        "id": "KN43l5xX0XON"
      },
      "source": [
        "### **Decision Tree - Hyperparameter Tuning**\n",
        "\n",
        "We will use the class_weight hyperparameter with the value equal to {0: 0.3, 1: 0.7} which is approximately the opposite of the imbalance in the original data. \n",
        "\n",
        "**This would tell the model that 1 is the important class here.**"
      ],
      "id": "KN43l5xX0XON"
    },
    {
      "cell_type": "code",
      "execution_count": null,
      "metadata": {
        "id": "bEjohEJc0XOO"
      },
      "outputs": [],
      "source": [
        "# Choose the type of classifier \n",
        "d_tree_tuned = DecisionTreeClassifier(random_state = 7, class_weight = {0: 0.3, 1: 0.7})\n",
        "\n",
        "# Grid of parameters to choose from\n",
        "parameters = {'max_depth': np.arange(2, 10), \n",
        "              'criterion': ['gini', 'entropy'],\n",
        "              'min_samples_leaf': [5, 10, 20, 25]\n",
        "             }\n",
        "\n",
        "# Type of scoring used to compare parameter combinations - recall score for class 1\n",
        "scorer = metrics.make_scorer(recall_score, pos_label = 1)\n",
        "\n",
        "# Run the grid search\n",
        "grid_obj = GridSearchCV(d_tree_tuned, parameters, scoring = scorer, cv = 5)\n",
        "\n",
        "grid_obj = grid_obj.fit(X_train, y_train)\n",
        "\n",
        "# Set the classifier to the best combination of parameters\n",
        "d_tree_tuned = grid_obj.best_estimator_\n",
        "\n",
        "# Fit the best algorithm to the data\n",
        "d_tree_tuned.fit(X_train, y_train)"
      ],
      "id": "bEjohEJc0XOO"
    },
    {
      "cell_type": "markdown",
      "metadata": {
        "id": "zxGMsRLi0XOO"
      },
      "source": [
        "We have tuned the model and fit the tuned model on the training data. Now, **let's check the model performance on the training and testing data.**"
      ],
      "id": "zxGMsRLi0XOO"
    },
    {
      "cell_type": "markdown",
      "metadata": {
        "id": "XjRzUlcX0XOO"
      },
      "source": [
        "### **Question 6:**\n",
        "- **Check the performance on both training and testing datasets (4 Marks)**\n",
        "- **Compare the results with the results from the decision tree model with default parameters and write your observations (4 Marks)**"
      ],
      "id": "XjRzUlcX0XOO"
    },
    {
      "cell_type": "code",
      "execution_count": null,
      "metadata": {
        "id": "WFugZBsu0XOO"
      },
      "outputs": [],
      "source": [
        "# Checking performance on the training data\n",
        "y_pred_train2 = d_tree_tuned.predict(X_train)\n",
        "metrics_score(y_train, y_pred_train2)"
      ],
      "id": "WFugZBsu0XOO"
    },
    {
      "cell_type": "markdown",
      "metadata": {
        "id": "MxC6pV-Q0XOO"
      },
      "source": [
        "**Observations:__________**"
      ],
      "id": "MxC6pV-Q0XOO"
    },
    {
      "cell_type": "markdown",
      "source": [
        "\n",
        "\n",
        "*   In comparison to the model with default parameters, the tuned model performed significantly less, which makes sense since we are trying to reduce overfitting. \n",
        "\n"
      ],
      "metadata": {
        "id": "HZ4ZSuMpHuk3"
      },
      "id": "HZ4ZSuMpHuk3"
    },
    {
      "cell_type": "markdown",
      "metadata": {
        "id": "xsa_bu770XOP"
      },
      "source": [
        "**Let's check the model performance on the testing data**"
      ],
      "id": "xsa_bu770XOP"
    },
    {
      "cell_type": "code",
      "execution_count": null,
      "metadata": {
        "id": "fF3fdNyL0XOP"
      },
      "outputs": [],
      "source": [
        "# Checking performance on the testing data\n",
        "y_pred_test2 = d_tree_tuned.predict(X_test)\n",
        "metrics_score(y_test, y_pred_test2)"
      ],
      "id": "fF3fdNyL0XOP"
    },
    {
      "cell_type": "markdown",
      "metadata": {
        "id": "oC1s_rUD0XOP"
      },
      "source": [
        "**Observations:__________**"
      ],
      "id": "oC1s_rUD0XOP"
    },
    {
      "cell_type": "markdown",
      "source": [
        "\n",
        "\n",
        "*   This tuned model is not performing as well as the model with default parameters. \n",
        "*   It's not overfitting the training data and performing about the same on the test set as the training set. \n",
        "*   Recall has increased from .83 to .86, going in the opposite direction than we would like. \n",
        "*   Precision has decreased from .75 to .62 in comparison to the default model. This model will give a higher number of false positives, predicting that a lead will covert to a paid customer when they don't. \n",
        "*   These findings will not benefit Extraalearn. False positives cost time and resources that should be invested in minimizing false negatives. \n",
        "\n"
      ],
      "metadata": {
        "id": "yDyAN060I0t6"
      },
      "id": "yDyAN060I0t6"
    },
    {
      "cell_type": "markdown",
      "metadata": {
        "id": "Hw0FgRiN0XOP"
      },
      "source": [
        "**Let's visualize the tuned decision tree** and observe the decision rules:"
      ],
      "id": "Hw0FgRiN0XOP"
    },
    {
      "cell_type": "markdown",
      "metadata": {
        "id": "hpXq6hTK0XOP"
      },
      "source": [
        "### **Question 7: Write your observations from the below visualization of the tuned decision tree. (5 Marks)**"
      ],
      "id": "hpXq6hTK0XOP"
    },
    {
      "cell_type": "code",
      "execution_count": null,
      "metadata": {
        "id": "_FryMYaA0XOP"
      },
      "outputs": [],
      "source": [
        "features = list(X.columns)\n",
        "\n",
        "plt.figure(figsize = (20, 20))\n",
        "\n",
        "tree.plot_tree(d_tree_tuned, feature_names = features, filled = True, fontsize = 9, node_ids = True, class_names = True)\n",
        "\n",
        "plt.show()"
      ],
      "id": "_FryMYaA0XOP"
    },
    {
      "cell_type": "markdown",
      "metadata": {
        "id": "I1dgKX2l0XOP"
      },
      "source": [
        "**Note:** Blue leaves represent the converted leads, i.e., **y[1]**, while the orange leaves represent the not converted leads, i.e., **y[0]**. Also, the more the number of observations in a leaf, the darker its color gets.\n",
        "\n",
        "**Observations:_________**"
      ],
      "id": "I1dgKX2l0XOP"
    },
    {
      "cell_type": "markdown",
      "source": [
        "\n",
        "\n",
        "*   Leads that have their first interaction on the website, spend more time on the website and are older than 25, are more likely to convert into paying customers. \n",
        "*   Leads that had their first interaction on the website, but spent less time on the site and are less than 24 1/2 years old are more likely not to convert. \n",
        "*   Another segment of people who spent more time on the website, and filled out their profile with medium or high percentages were more likely to convert. But, if they did not fill out the profile or at a low percentage, they were more likely not to convert into paying customers.  \n",
        "\n"
      ],
      "metadata": {
        "id": "43-dEgdkLWfx"
      },
      "id": "43-dEgdkLWfx"
    },
    {
      "cell_type": "markdown",
      "metadata": {
        "id": "m0PHH2vH0XOQ"
      },
      "source": [
        "**Let's look at the feature importance** of the tuned decision tree model"
      ],
      "id": "m0PHH2vH0XOQ"
    },
    {
      "cell_type": "code",
      "execution_count": null,
      "metadata": {
        "id": "bLxekOGu0XOQ"
      },
      "outputs": [],
      "source": [
        "# Importance of features in the tree building\n",
        "\n",
        "print (pd.DataFrame(d_tree_tuned.feature_importances_, columns = [\"Imp\"], index = X_train.columns).sort_values(by = 'Imp', ascending = False))"
      ],
      "id": "bLxekOGu0XOQ"
    },
    {
      "cell_type": "code",
      "execution_count": null,
      "metadata": {
        "id": "MU5SONmv0XOQ"
      },
      "outputs": [],
      "source": [
        "# Plotting the feature importance\n",
        "importances = d_tree_tuned.feature_importances_\n",
        "\n",
        "indices = np.argsort(importances)\n",
        "\n",
        "plt.figure(figsize = (10, 10))\n",
        "\n",
        "plt.title('Feature Importances')\n",
        "\n",
        "plt.barh(range(len(indices)), importances[indices], color = 'violet', align = 'center')\n",
        "\n",
        "plt.yticks(range(len(indices)), [features[i] for i in indices])\n",
        "\n",
        "plt.xlabel('Relative Importance')\n",
        "\n",
        "plt.show()"
      ],
      "id": "MU5SONmv0XOQ"
    },
    {
      "cell_type": "markdown",
      "metadata": {
        "id": "XrJ5dpXR0XOQ"
      },
      "source": [
        "**Observations:**\n",
        "- **Time spent on the website and first_interaction_website are the most important features** **followed by profile_completed, age, and last_activity**.\n",
        "- **The rest of the variables have no impact in this model, while deciding whether a lead will be converted or not**.\n",
        "\n",
        "Now, let's build another model - **a random forest classifier.**"
      ],
      "id": "XrJ5dpXR0XOQ"
    },
    {
      "cell_type": "markdown",
      "metadata": {
        "id": "90S5EEwc0XOQ"
      },
      "source": [
        "### **Random Forest Classifier**"
      ],
      "id": "90S5EEwc0XOQ"
    },
    {
      "cell_type": "markdown",
      "metadata": {
        "id": "M-hFfUlP0XOQ"
      },
      "source": [
        "### **Question 8:** \n",
        "- **Fit the random forest classifier on the training data (use random_state = 7) (2 Marks)**\n",
        "- **Check the performance on both training and testing data (use metrics_score function) (2 Marks)**\n",
        "- **Write your observations (3 Marks)**"
      ],
      "id": "M-hFfUlP0XOQ"
    },
    {
      "cell_type": "code",
      "execution_count": null,
      "metadata": {
        "id": "zTuVncJ30XOR"
      },
      "outputs": [],
      "source": [
        "# Fitting the random forest tree classifier on the training data\n",
        "rf_estimator = RandomForestClassifier(class_weight={0: 0.17, 1: 0.83}, random_state=7)\n",
        "\n",
        "rf_estimator.fit(X_train, y_train)"
      ],
      "id": "zTuVncJ30XOR"
    },
    {
      "cell_type": "markdown",
      "metadata": {
        "id": "c3BtEaus0XOR"
      },
      "source": [
        "**Let's check the performance of the model on the training data**"
      ],
      "id": "c3BtEaus0XOR"
    },
    {
      "cell_type": "code",
      "execution_count": null,
      "metadata": {
        "id": "HLp3OEti0XOR"
      },
      "outputs": [],
      "source": [
        "# Checking performance on the training data\n",
        "y_pred_train3 = rf_estimator.predict(X_train)\n",
        "metrics_score(y_train, y_pred_train3)"
      ],
      "id": "HLp3OEti0XOR"
    },
    {
      "cell_type": "markdown",
      "metadata": {
        "id": "3EFzuikf0XOR"
      },
      "source": [
        "**Observations:________**"
      ],
      "id": "3EFzuikf0XOR"
    },
    {
      "cell_type": "markdown",
      "source": [
        "\n",
        "\n",
        "*   The random forest classifier is giving a 100% score for all metrics on the training set. \n",
        "\n"
      ],
      "metadata": {
        "id": "M2nkBqO_OArS"
      },
      "id": "M2nkBqO_OArS"
    },
    {
      "cell_type": "markdown",
      "metadata": {
        "id": "OJN2tfJP0XOR"
      },
      "source": [
        "**Let's check the performance on the testing data**"
      ],
      "id": "OJN2tfJP0XOR"
    },
    {
      "cell_type": "code",
      "execution_count": null,
      "metadata": {
        "id": "UoXyn1540XOR"
      },
      "outputs": [],
      "source": [
        "# Checking performance on the testing data\n",
        "y_pred_test3 = rf_estimator.predict(X_test)\n",
        "metrics_score(y_test, y_pred_test3)"
      ],
      "id": "UoXyn1540XOR"
    },
    {
      "cell_type": "markdown",
      "metadata": {
        "id": "08tncurH0XOR"
      },
      "source": [
        "**Observations:____**"
      ],
      "id": "08tncurH0XOR"
    },
    {
      "cell_type": "markdown",
      "source": [
        "\n",
        "\n",
        "*   Recall for class 1 went from 1 on the training set to about .68 on the test set, indicating overfitting of the model. \n",
        "*   Precision also decreased on the test set from 1 to about .81. \n",
        "\n"
      ],
      "metadata": {
        "id": "aJKzrPs3OYcx"
      },
      "id": "aJKzrPs3OYcx"
    },
    {
      "cell_type": "markdown",
      "metadata": {
        "id": "S7LZPsXU0XOS"
      },
      "source": [
        "**Let's see if we can get a better model by tuning the random forest classifier**"
      ],
      "id": "S7LZPsXU0XOS"
    },
    {
      "cell_type": "markdown",
      "metadata": {
        "id": "EQ3DtIhs0XOS"
      },
      "source": [
        "### **Random Forest Classifier - Hyperparameter Tuning**"
      ],
      "id": "EQ3DtIhs0XOS"
    },
    {
      "cell_type": "markdown",
      "metadata": {
        "id": "-6uDBhiP0XOS"
      },
      "source": [
        "Let's try **tuning some of the important hyperparameters of the Random Forest Classifier**. \n",
        "\n",
        "We will **not** tune the `criterion` hyperparameter as we know from hyperparameter tuning for decision trees that `entropy` is a better splitting criterion for this data."
      ],
      "id": "-6uDBhiP0XOS"
    },
    {
      "cell_type": "code",
      "execution_count": null,
      "metadata": {
        "id": "gG2_skSq0XOS"
      },
      "outputs": [],
      "source": [
        "# Choose the type of classifier\n",
        "rf_estimator_tuned = RandomForestClassifier(criterion = \"entropy\", random_state = 7)\n",
        "\n",
        "# Grid of parameters to choose from\n",
        "parameters = {\"n_estimators\": [100, 110, 120],\n",
        "    \"max_depth\": [5, 6, 7],\n",
        "    \"max_features\": [0.8, 0.9, 1]\n",
        "             }\n",
        "\n",
        "# Type of scoring used to compare parameter combinations - recall score for class 1\n",
        "scorer = metrics.make_scorer(recall_score, pos_label = 1)\n",
        "\n",
        "# Run the grid search\n",
        "grid_obj = GridSearchCV(rf_estimator_tuned, parameters, scoring = scorer, cv = 5)\n",
        "\n",
        "grid_obj = grid_obj.fit(X_train, y_train)\n",
        "\n",
        "# Set the classifier to the best combination of parameters\n",
        "rf_estimator_tuned = grid_obj.best_estimator_"
      ],
      "id": "gG2_skSq0XOS"
    },
    {
      "cell_type": "code",
      "execution_count": null,
      "metadata": {
        "id": "D2HfsZyp0XOS"
      },
      "outputs": [],
      "source": [
        "# Fitting the best algorithm to the training data\n",
        "rf_estimator_tuned.fit(X_train, y_train)"
      ],
      "id": "D2HfsZyp0XOS"
    },
    {
      "cell_type": "code",
      "execution_count": null,
      "metadata": {
        "id": "0LYK1xrE0XOS"
      },
      "outputs": [],
      "source": [
        "# Checking performance on the training data\n",
        "y_pred_train4 = rf_estimator_tuned.predict(X_train)\n",
        "\n",
        "metrics_score(y_train, y_pred_train4)"
      ],
      "id": "0LYK1xrE0XOS"
    },
    {
      "cell_type": "markdown",
      "metadata": {
        "id": "wfZ1RcIS0XOT"
      },
      "source": [
        "**Observations:**\n",
        "- We can see that after hyperparameter tuning, the model is performing poorly on the train data as well.\n",
        "- We can try adding some other hyperparameters and/or changing values of some hyperparameters to tune the model and see if we can get better performance.\n",
        "\n",
        "**Note:** **GridSearchCV can take a long time to run** depending on the number of hyperparameters and the number of values tried for each hyperparameter. **Therefore, we have reduced the number of values passed to each hyperparameter.** "
      ],
      "id": "wfZ1RcIS0XOT"
    },
    {
      "cell_type": "markdown",
      "metadata": {
        "id": "ieY-jZ5K0XOT"
      },
      "source": [
        "### **Question 9:**\n",
        "- **Tune the random forest classifier using GridSearchCV (4 Marks)**\n",
        "- **Check the performance on both training and testing datasets (2 Marks)**\n",
        "- **Compare the results with the results from the random forest model with default parameters and write your observations (2 Marks)**"
      ],
      "id": "ieY-jZ5K0XOT"
    },
    {
      "cell_type": "markdown",
      "metadata": {
        "id": "goc2tC0B0XOT"
      },
      "source": [
        "**Note:** The below code might take some time to run depending on your system's configuration."
      ],
      "id": "goc2tC0B0XOT"
    },
    {
      "cell_type": "code",
      "execution_count": null,
      "metadata": {
        "id": "C64fOvoK0XOT"
      },
      "outputs": [],
      "source": [
        "# Choose the type of classifier \n",
        "rf_estimator_tuned = RandomForestClassifier(criterion = \"entropy\", random_state = 7)\n",
        "\n",
        "# Grid of parameters to choose from\n",
        "parameters = {\"n_estimators\": [110, 120],\n",
        "    \"max_depth\": [6, 7],\n",
        "    \"min_samples_leaf\": [20, 25],\n",
        "    \"max_features\": [0.8, 0.9],\n",
        "    \"max_samples\": [0.9, 1],\n",
        "    \"class_weight\": [{0: 0.7, 1: 0.3}, \"balanced\", {0: 0.4, 1: 0.1}]\n",
        "             }\n",
        "\n",
        "# Type of scoring used to compare parameter combinations - recall score for class 1\n",
        "scorer = metrics.make_scorer(recall_score, pos_label = 1)\n",
        "\n",
        "# Run the grid search on the training data using scorer=scorer and cv=5\n",
        "grid_obj = GridSearchCV(rf_estimator_tuned, parameters, scoring = scorer, cv = 5)\n",
        "\n",
        "grid_obj = grid_obj.fit(X_train, y_train)\n",
        "\n",
        "# Save the best estimator to variable rf_estimator_tuned\n",
        "rf_estimator_tuned = grid_obj.best_estimator_\n",
        "\n",
        "#Fit the best estimator to the training data\n",
        "rf_estimator_tuned.fit(X_train, y_train)"
      ],
      "id": "C64fOvoK0XOT"
    },
    {
      "cell_type": "markdown",
      "metadata": {
        "id": "IDR_MQhn0XOT"
      },
      "source": [
        "**Let's check the performance of the tuned model**"
      ],
      "id": "IDR_MQhn0XOT"
    },
    {
      "cell_type": "code",
      "execution_count": null,
      "metadata": {
        "id": "gCmr5nBN0XOT"
      },
      "outputs": [],
      "source": [
        "# Checking performance on the training data\n",
        "y_pred_train5 = rf_estimator_tuned.predict(X_train)\n",
        "metrics_score(y_train, y_pred_train5)"
      ],
      "id": "gCmr5nBN0XOT"
    },
    {
      "cell_type": "markdown",
      "metadata": {
        "id": "0lSkFsof0XOU"
      },
      "source": [
        "**Observations:________**"
      ],
      "id": "0lSkFsof0XOU"
    },
    {
      "cell_type": "markdown",
      "source": [
        "\n",
        "\n",
        "*   Recall has increased from the previous model's training set and precision has decreased. This tuned model is not performing as well on the training set. \n",
        "\n"
      ],
      "metadata": {
        "id": "oJasGgKqSqdd"
      },
      "id": "oJasGgKqSqdd"
    },
    {
      "cell_type": "markdown",
      "metadata": {
        "id": "Vx8zWm0W0XOU"
      },
      "source": [
        "**Let's check the model performance on the test data**"
      ],
      "id": "Vx8zWm0W0XOU"
    },
    {
      "cell_type": "code",
      "execution_count": null,
      "metadata": {
        "id": "O3B0hVEN0XOU"
      },
      "outputs": [],
      "source": [
        "# Checking performance on the test data\n",
        "y_pred_test5 = rf_estimator_tuned.predict(X_test)\n",
        "metrics_score(y_test, y_pred_test5)"
      ],
      "id": "O3B0hVEN0XOU"
    },
    {
      "cell_type": "markdown",
      "metadata": {
        "id": "T6rSm3Wl0XOU"
      },
      "source": [
        "**Observations:___________**"
      ],
      "id": "T6rSm3Wl0XOU"
    },
    {
      "cell_type": "markdown",
      "source": [
        "\n",
        "\n",
        "*   This tuned random classifier model performs more consistently on the training and test data, but recall on the test set increased from the random classifier model before tuning (model 3) and precision decreased. \n",
        "*   Although the random classifier before tuning (model 3) was overfitting the training data, it performed better on the test data. \n",
        "\n"
      ],
      "metadata": {
        "id": "xi4N6mP6UGOZ"
      },
      "id": "xi4N6mP6UGOZ"
    },
    {
      "cell_type": "markdown",
      "metadata": {
        "id": "jQ2FEcRm0XOU"
      },
      "source": [
        "**One of the drawbacks of ensemble models is that we lose the ability to obtain an interpretation of the model. We cannot observe the decision rules for random forests the way we did for decision trees. So, let's just check the feature importance of the model.**"
      ],
      "id": "jQ2FEcRm0XOU"
    },
    {
      "cell_type": "code",
      "execution_count": null,
      "metadata": {
        "id": "ntqJYGvc0XOU"
      },
      "outputs": [],
      "source": [
        "importances = rf_estimator_tuned.feature_importances_\n",
        "\n",
        "indices = np.argsort(importances)\n",
        "\n",
        "feature_names = list(X.columns)\n",
        "\n",
        "plt.figure(figsize = (12, 12))\n",
        "\n",
        "plt.title('Feature Importances')\n",
        "\n",
        "plt.barh(range(len(indices)), importances[indices], color = 'violet', align = 'center')\n",
        "\n",
        "plt.yticks(range(len(indices)), [feature_names[i] for i in indices])\n",
        "\n",
        "plt.xlabel('Relative Importance')\n",
        "\n",
        "plt.show()"
      ],
      "id": "ntqJYGvc0XOU"
    },
    {
      "cell_type": "markdown",
      "metadata": {
        "id": "xfx_-mdE0XOV"
      },
      "source": [
        "**Observations:**\n",
        "- Similar to the decision tree model, **time spent on website, first_interaction_website, profile_completed, and age are the top four features** that help distinguish between not converted and converted leads.\n",
        "- Unlike the decision tree, **the random forest gives some importance to other variables like occupation, page_views_per_visit, as well.** This implies that the random forest is giving importance to more factors in comparison to the decision tree."
      ],
      "id": "xfx_-mdE0XOV"
    },
    {
      "cell_type": "markdown",
      "metadata": {
        "id": "8RqUVCwF0XOV"
      },
      "source": [
        "## **Conclusion and Recommendations**"
      ],
      "id": "8RqUVCwF0XOV"
    },
    {
      "cell_type": "markdown",
      "metadata": {
        "id": "_LZ_ODdj0XOV"
      },
      "source": [
        "### **Question 10:**\n",
        "\n",
        "**Write your conclusions on the key factors that drive the conversion of leads and write your recommendations to the business on how can they improve the conversion rate. (10 Marks)**"
      ],
      "id": "_LZ_ODdj0XOV"
    },
    {
      "cell_type": "markdown",
      "metadata": {
        "id": "YE85eM-u0XOV"
      },
      "source": [
        "### **Conclusions:________**"
      ],
      "id": "YE85eM-u0XOV"
    },
    {
      "cell_type": "markdown",
      "source": [
        "\n",
        "\n",
        "*   The best model we have so far is the tuned randon classifier since it has more consistency in prediction on the training and test data sets. \n",
        "*   In all models, leads with the website as a first interaction, more time spent on the website, are older and fill out the profile with higher percentages are the most likely to convert into paying customers. \n",
        "\n"
      ],
      "metadata": {
        "id": "VTnBE96ZWSUr"
      },
      "id": "VTnBE96ZWSUr"
    },
    {
      "cell_type": "markdown",
      "metadata": {
        "id": "e0tA8wW20XOV"
      },
      "source": [
        "### **Business Recommendations_____**"
      ],
      "id": "e0tA8wW20XOV"
    },
    {
      "cell_type": "markdown",
      "source": [
        "\n",
        "\n",
        "*   We saw that time spent on the website and first interactions through the website were the most important drivers for conversion of leads. Extraalearn could invest more resources into directing people to the website and provide different kinds of engagement to increase time spent on the site. \n",
        "*   Profile completion was another high driver. The company could find ways to motivate customers to completely fill out the profiles for a higher rate of conversion. \n",
        "*   Marketing efforts and course offerings should focus on professionals (over students or the umeployed) who are a little older because this demographic gives a high amount of converted leads. \n",
        "*   The conversion rate for referred leads from existing customers is high but there aren't very many of them. This is an opportunity to incentivise current customers with a referral program. \n",
        "\n"
      ],
      "metadata": {
        "id": "MCNaD6tcbC5a"
      },
      "id": "MCNaD6tcbC5a"
    }
  ],
  "metadata": {
    "kernelspec": {
      "display_name": "Python 3",
      "language": "python",
      "name": "python3"
    },
    "language_info": {
      "codemirror_mode": {
        "name": "ipython",
        "version": 3
      },
      "file_extension": ".py",
      "mimetype": "text/x-python",
      "name": "python",
      "nbconvert_exporter": "python",
      "pygments_lexer": "ipython3",
      "version": "3.8.3"
    },
    "colab": {
      "name": "CustomerConversionPrediction2022.ipynb",
      "provenance": [],
      "collapsed_sections": [
        "ehFAtvji0XOC",
        "e2Ba2u9n0XOC",
        "As13V5sB0XOF",
        "cItbpbRH0XOF",
        "LRWDed2m0XOI",
        "vWpugUh20XOJ",
        "l2cOCm4G0XOM",
        "ktDJIto-0XOM",
        "ZUF_kkdn0XOM",
        "KN43l5xX0XON",
        "XjRzUlcX0XOO",
        "hpXq6hTK0XOP",
        "90S5EEwc0XOQ",
        "M-hFfUlP0XOQ",
        "EQ3DtIhs0XOS",
        "ieY-jZ5K0XOT",
        "_LZ_ODdj0XOV",
        "YE85eM-u0XOV",
        "e0tA8wW20XOV"
      ],
      "include_colab_link": true
    }
  },
  "nbformat": 4,
  "nbformat_minor": 5
}