{
  "cells": [
    {
      "cell_type": "markdown",
      "metadata": {
        "id": "view-in-github",
        "colab_type": "text"
      },
      "source": [
        "<a href=\"https://colab.research.google.com/github/joyc-mock/MIT-Applied-Data-Science-all-courses/blob/main/Mock2022_Notebook%2BPima%2BDiabetes%2BAnalysis.ipynb\" target=\"_parent\"><img src=\"https://colab.research.google.com/assets/colab-badge.svg\" alt=\"Open In Colab\"/></a>"
      ]
    },
    {
      "cell_type": "markdown",
      "metadata": {
        "id": "BL_LfsVn_bv1"
      },
      "source": [
        "# Foundations of Data Science Project - Diabetes Analysis\n",
        "\n",
        "---------------\n",
        "## Context\n",
        "---------------\n",
        "\n",
        "Diabetes is one of the most frequent diseases worldwide and the number of diabetic patients are growing over the years. The main cause of diabetes remains unknown, yet scientists believe that both genetic factors and environmental lifestyle play a major role in diabetes.\n",
        "\n",
        "A few years ago research was done on a tribe in America which is called the Pima tribe. In this tribe, it was found that the ladies are prone to diabetes very early. Several constraints were placed on the selection of these instances from a larger database. In particular, all patients were females at least 21 years old of Pima tribe. \n",
        "\n",
        "-----------------\n",
        "## Objective\n",
        "-----------------\n",
        "\n",
        "Here, we are analyzing different aspects of Diabetes in the Pima Diabetes Analysis by doing Exploratory Data Analysis.\n",
        "\n",
        "-------------------------\n",
        "## Data Dictionary\n",
        "-------------------------\n",
        "\n",
        "The dataset has the following information:\n",
        "\n",
        "* Pregnancies: Number of times pregnant\n",
        "* Glucose: Plasma glucose concentration over 2 hours in an oral glucose tolerance test\n",
        "* BloodPressure: Diastolic blood pressure (mm Hg)\n",
        "* SkinThickness: Triceps skin fold thickness (mm)\n",
        "* Insulin: 2-Hour serum insulin (mu U/ml)\n",
        "* BMI: Body mass index (weight in kg/(height in m)^2)\n",
        "* DiabetesPedigreeFunction: A function that scores the likelihood of diabetes based on family history.\n",
        "* Age: Age in years\n",
        "* Outcome: Class variable (0: a person is not diabetic or 1: a person is diabetic)"
      ]
    },
    {
      "cell_type": "markdown",
      "metadata": {
        "id": "vVR3oeVo_bv5"
      },
      "source": [
        "## Q 1: Import the necessary libraries and briefly explain the use of each library (3 Marks)"
      ]
    },
    {
      "cell_type": "code",
      "execution_count": 47,
      "metadata": {
        "id": "sQPI1Bzz_bv5"
      },
      "outputs": [],
      "source": [
        "# remove _____ & write the appropriate library name\n",
        "\n",
        "import numpy as np\n",
        "import pandas as pd\n",
        "\n",
        "import seaborn as sns\n",
        "import matplotlib.pyplot as plt\n",
        "\n",
        "%matplotlib inline"
      ]
    },
    {
      "cell_type": "markdown",
      "metadata": {
        "id": "OV6ExTxy_bv6"
      },
      "source": [
        "#### Write your Answer here: "
      ]
    },
    {
      "cell_type": "raw",
      "metadata": {
        "id": "mMa-2YFV_bv7"
      },
      "source": [
        "Ans 1:\n",
        "Numpy is used for scientific computing and numerical analysis. We use it to create n-dimensional array objects. \n",
        "\n",
        "Pandas is built on top of numpy and is used data manipulation and exploratory data analysis. We use it to structure dataframes and clean data.\n",
        "\n",
        "Matplotlib.pyplot is used for data visualization, especially histograms, bar charts, pie charts, and more. \n",
        "\n",
        "Seaborn is also used for data visualization, and statistical data. We use this library for displots, boxplots, stripplots, heatmaps, and pairplots. "
      ]
    },
    {
      "cell_type": "markdown",
      "metadata": {
        "id": "8WpI8LC7_bv7"
      },
      "source": [
        "## Q 2: Read the given dataset (1 Mark)"
      ]
    },
    {
      "cell_type": "code",
      "source": [
        "# remove _____ & write the appropriate function name\n",
        "\n",
        "from google.colab import drive\n",
        "drive.mount('/content/drive')"
      ],
      "metadata": {
        "colab": {
          "base_uri": "https://localhost:8080/"
        },
        "id": "uF-bXdVPIdSI",
        "outputId": "8ba59f13-4dd1-450b-a652-7059c1150f55"
      },
      "execution_count": 48,
      "outputs": [
        {
          "output_type": "stream",
          "name": "stdout",
          "text": [
            "Drive already mounted at /content/drive; to attempt to forcibly remount, call drive.mount(\"/content/drive\", force_remount=True).\n"
          ]
        }
      ]
    },
    {
      "cell_type": "code",
      "source": [
        "path = \"/diabetes.csv\"\n",
        "pima = pd.read_csv(path)"
      ],
      "metadata": {
        "id": "A2NS91vsIm-I"
      },
      "execution_count": 49,
      "outputs": []
    },
    {
      "cell_type": "markdown",
      "metadata": {
        "id": "H3SziaVY_bv8"
      },
      "source": [
        "## Q3. Show the last 10 records of the dataset. How many columns are there? (1 Mark)"
      ]
    },
    {
      "cell_type": "code",
      "execution_count": 50,
      "metadata": {
        "id": "c4UHQy0q_bv8",
        "colab": {
          "base_uri": "https://localhost:8080/",
          "height": 407
        },
        "outputId": "d0ba17b0-dbfc-42f6-cb75-fdd96130cadc"
      },
      "outputs": [
        {
          "output_type": "execute_result",
          "data": {
            "text/plain": [
              "     Pregnancies  Glucose  BloodPressure  SkinThickness  Insulin   BMI  \\\n",
              "758            1      106             76             20       79  37.5   \n",
              "759            6      190             92             20       79  35.5   \n",
              "760            2       88             58             26       16  28.4   \n",
              "761            9      170             74             31       79  44.0   \n",
              "762            9       89             62             20       79  22.5   \n",
              "763           10      101             76             48      180  32.9   \n",
              "764            2      122             70             27       79  36.8   \n",
              "765            5      121             72             23      112  26.2   \n",
              "766            1      126             60             20       79  30.1   \n",
              "767            1       93             70             31       79  30.4   \n",
              "\n",
              "     DiabetesPedigreeFunction  Age  Outcome  \n",
              "758                     0.197   26        0  \n",
              "759                     0.278   66        1  \n",
              "760                     0.766   22        0  \n",
              "761                     0.403   43        1  \n",
              "762                     0.142   33        0  \n",
              "763                     0.171   63        0  \n",
              "764                     0.340   27        0  \n",
              "765                     0.245   30        0  \n",
              "766                     0.349   47        1  \n",
              "767                     0.315   23        0  "
            ],
            "text/html": [
              "\n",
              "  <div id=\"df-1d28b00f-0afb-41a8-8e57-e6e67acc8816\">\n",
              "    <div class=\"colab-df-container\">\n",
              "      <div>\n",
              "<style scoped>\n",
              "    .dataframe tbody tr th:only-of-type {\n",
              "        vertical-align: middle;\n",
              "    }\n",
              "\n",
              "    .dataframe tbody tr th {\n",
              "        vertical-align: top;\n",
              "    }\n",
              "\n",
              "    .dataframe thead th {\n",
              "        text-align: right;\n",
              "    }\n",
              "</style>\n",
              "<table border=\"1\" class=\"dataframe\">\n",
              "  <thead>\n",
              "    <tr style=\"text-align: right;\">\n",
              "      <th></th>\n",
              "      <th>Pregnancies</th>\n",
              "      <th>Glucose</th>\n",
              "      <th>BloodPressure</th>\n",
              "      <th>SkinThickness</th>\n",
              "      <th>Insulin</th>\n",
              "      <th>BMI</th>\n",
              "      <th>DiabetesPedigreeFunction</th>\n",
              "      <th>Age</th>\n",
              "      <th>Outcome</th>\n",
              "    </tr>\n",
              "  </thead>\n",
              "  <tbody>\n",
              "    <tr>\n",
              "      <th>758</th>\n",
              "      <td>1</td>\n",
              "      <td>106</td>\n",
              "      <td>76</td>\n",
              "      <td>20</td>\n",
              "      <td>79</td>\n",
              "      <td>37.5</td>\n",
              "      <td>0.197</td>\n",
              "      <td>26</td>\n",
              "      <td>0</td>\n",
              "    </tr>\n",
              "    <tr>\n",
              "      <th>759</th>\n",
              "      <td>6</td>\n",
              "      <td>190</td>\n",
              "      <td>92</td>\n",
              "      <td>20</td>\n",
              "      <td>79</td>\n",
              "      <td>35.5</td>\n",
              "      <td>0.278</td>\n",
              "      <td>66</td>\n",
              "      <td>1</td>\n",
              "    </tr>\n",
              "    <tr>\n",
              "      <th>760</th>\n",
              "      <td>2</td>\n",
              "      <td>88</td>\n",
              "      <td>58</td>\n",
              "      <td>26</td>\n",
              "      <td>16</td>\n",
              "      <td>28.4</td>\n",
              "      <td>0.766</td>\n",
              "      <td>22</td>\n",
              "      <td>0</td>\n",
              "    </tr>\n",
              "    <tr>\n",
              "      <th>761</th>\n",
              "      <td>9</td>\n",
              "      <td>170</td>\n",
              "      <td>74</td>\n",
              "      <td>31</td>\n",
              "      <td>79</td>\n",
              "      <td>44.0</td>\n",
              "      <td>0.403</td>\n",
              "      <td>43</td>\n",
              "      <td>1</td>\n",
              "    </tr>\n",
              "    <tr>\n",
              "      <th>762</th>\n",
              "      <td>9</td>\n",
              "      <td>89</td>\n",
              "      <td>62</td>\n",
              "      <td>20</td>\n",
              "      <td>79</td>\n",
              "      <td>22.5</td>\n",
              "      <td>0.142</td>\n",
              "      <td>33</td>\n",
              "      <td>0</td>\n",
              "    </tr>\n",
              "    <tr>\n",
              "      <th>763</th>\n",
              "      <td>10</td>\n",
              "      <td>101</td>\n",
              "      <td>76</td>\n",
              "      <td>48</td>\n",
              "      <td>180</td>\n",
              "      <td>32.9</td>\n",
              "      <td>0.171</td>\n",
              "      <td>63</td>\n",
              "      <td>0</td>\n",
              "    </tr>\n",
              "    <tr>\n",
              "      <th>764</th>\n",
              "      <td>2</td>\n",
              "      <td>122</td>\n",
              "      <td>70</td>\n",
              "      <td>27</td>\n",
              "      <td>79</td>\n",
              "      <td>36.8</td>\n",
              "      <td>0.340</td>\n",
              "      <td>27</td>\n",
              "      <td>0</td>\n",
              "    </tr>\n",
              "    <tr>\n",
              "      <th>765</th>\n",
              "      <td>5</td>\n",
              "      <td>121</td>\n",
              "      <td>72</td>\n",
              "      <td>23</td>\n",
              "      <td>112</td>\n",
              "      <td>26.2</td>\n",
              "      <td>0.245</td>\n",
              "      <td>30</td>\n",
              "      <td>0</td>\n",
              "    </tr>\n",
              "    <tr>\n",
              "      <th>766</th>\n",
              "      <td>1</td>\n",
              "      <td>126</td>\n",
              "      <td>60</td>\n",
              "      <td>20</td>\n",
              "      <td>79</td>\n",
              "      <td>30.1</td>\n",
              "      <td>0.349</td>\n",
              "      <td>47</td>\n",
              "      <td>1</td>\n",
              "    </tr>\n",
              "    <tr>\n",
              "      <th>767</th>\n",
              "      <td>1</td>\n",
              "      <td>93</td>\n",
              "      <td>70</td>\n",
              "      <td>31</td>\n",
              "      <td>79</td>\n",
              "      <td>30.4</td>\n",
              "      <td>0.315</td>\n",
              "      <td>23</td>\n",
              "      <td>0</td>\n",
              "    </tr>\n",
              "  </tbody>\n",
              "</table>\n",
              "</div>\n",
              "      <button class=\"colab-df-convert\" onclick=\"convertToInteractive('df-1d28b00f-0afb-41a8-8e57-e6e67acc8816')\"\n",
              "              title=\"Convert this dataframe to an interactive table.\"\n",
              "              style=\"display:none;\">\n",
              "        \n",
              "  <svg xmlns=\"http://www.w3.org/2000/svg\" height=\"24px\"viewBox=\"0 0 24 24\"\n",
              "       width=\"24px\">\n",
              "    <path d=\"M0 0h24v24H0V0z\" fill=\"none\"/>\n",
              "    <path d=\"M18.56 5.44l.94 2.06.94-2.06 2.06-.94-2.06-.94-.94-2.06-.94 2.06-2.06.94zm-11 1L8.5 8.5l.94-2.06 2.06-.94-2.06-.94L8.5 2.5l-.94 2.06-2.06.94zm10 10l.94 2.06.94-2.06 2.06-.94-2.06-.94-.94-2.06-.94 2.06-2.06.94z\"/><path d=\"M17.41 7.96l-1.37-1.37c-.4-.4-.92-.59-1.43-.59-.52 0-1.04.2-1.43.59L10.3 9.45l-7.72 7.72c-.78.78-.78 2.05 0 2.83L4 21.41c.39.39.9.59 1.41.59.51 0 1.02-.2 1.41-.59l7.78-7.78 2.81-2.81c.8-.78.8-2.07 0-2.86zM5.41 20L4 18.59l7.72-7.72 1.47 1.35L5.41 20z\"/>\n",
              "  </svg>\n",
              "      </button>\n",
              "      \n",
              "  <style>\n",
              "    .colab-df-container {\n",
              "      display:flex;\n",
              "      flex-wrap:wrap;\n",
              "      gap: 12px;\n",
              "    }\n",
              "\n",
              "    .colab-df-convert {\n",
              "      background-color: #E8F0FE;\n",
              "      border: none;\n",
              "      border-radius: 50%;\n",
              "      cursor: pointer;\n",
              "      display: none;\n",
              "      fill: #1967D2;\n",
              "      height: 32px;\n",
              "      padding: 0 0 0 0;\n",
              "      width: 32px;\n",
              "    }\n",
              "\n",
              "    .colab-df-convert:hover {\n",
              "      background-color: #E2EBFA;\n",
              "      box-shadow: 0px 1px 2px rgba(60, 64, 67, 0.3), 0px 1px 3px 1px rgba(60, 64, 67, 0.15);\n",
              "      fill: #174EA6;\n",
              "    }\n",
              "\n",
              "    [theme=dark] .colab-df-convert {\n",
              "      background-color: #3B4455;\n",
              "      fill: #D2E3FC;\n",
              "    }\n",
              "\n",
              "    [theme=dark] .colab-df-convert:hover {\n",
              "      background-color: #434B5C;\n",
              "      box-shadow: 0px 1px 3px 1px rgba(0, 0, 0, 0.15);\n",
              "      filter: drop-shadow(0px 1px 2px rgba(0, 0, 0, 0.3));\n",
              "      fill: #FFFFFF;\n",
              "    }\n",
              "  </style>\n",
              "\n",
              "      <script>\n",
              "        const buttonEl =\n",
              "          document.querySelector('#df-1d28b00f-0afb-41a8-8e57-e6e67acc8816 button.colab-df-convert');\n",
              "        buttonEl.style.display =\n",
              "          google.colab.kernel.accessAllowed ? 'block' : 'none';\n",
              "\n",
              "        async function convertToInteractive(key) {\n",
              "          const element = document.querySelector('#df-1d28b00f-0afb-41a8-8e57-e6e67acc8816');\n",
              "          const dataTable =\n",
              "            await google.colab.kernel.invokeFunction('convertToInteractive',\n",
              "                                                     [key], {});\n",
              "          if (!dataTable) return;\n",
              "\n",
              "          const docLinkHtml = 'Like what you see? Visit the ' +\n",
              "            '<a target=\"_blank\" href=https://colab.research.google.com/notebooks/data_table.ipynb>data table notebook</a>'\n",
              "            + ' to learn more about interactive tables.';\n",
              "          element.innerHTML = '';\n",
              "          dataTable['output_type'] = 'display_data';\n",
              "          await google.colab.output.renderOutput(dataTable, element);\n",
              "          const docLink = document.createElement('div');\n",
              "          docLink.innerHTML = docLinkHtml;\n",
              "          element.appendChild(docLink);\n",
              "        }\n",
              "      </script>\n",
              "    </div>\n",
              "  </div>\n",
              "  "
            ]
          },
          "metadata": {},
          "execution_count": 50
        }
      ],
      "source": [
        "# remove ______ and write the appropriate number in the function\n",
        "\n",
        "pima.tail(10)"
      ]
    },
    {
      "cell_type": "markdown",
      "metadata": {
        "id": "xqzI9UYB_bv9"
      },
      "source": [
        "#### Write your Answer here: \n"
      ]
    },
    {
      "cell_type": "raw",
      "metadata": {
        "id": "Lh7sxkKp_bv9"
      },
      "source": [
        "Ans 3:\n",
        "\n",
        "There are 9 columns in the dataset. "
      ]
    },
    {
      "cell_type": "markdown",
      "metadata": {
        "id": "xDnQFTsR_bv9"
      },
      "source": [
        "## Q4. Show the first 10 records of the dataset (1 Mark)"
      ]
    },
    {
      "cell_type": "code",
      "execution_count": 51,
      "metadata": {
        "id": "fhOmMaSn_bv-",
        "colab": {
          "base_uri": "https://localhost:8080/",
          "height": 427
        },
        "outputId": "da4a2dc2-2587-4bcb-bcf4-c5e078d2da24"
      },
      "outputs": [
        {
          "output_type": "execute_result",
          "data": {
            "text/plain": [
              "   Pregnancies  Glucose  BloodPressure  SkinThickness  Insulin        BMI  \\\n",
              "0            6      148             72             35       79  33.600000   \n",
              "1            1       85             66             29       79  26.600000   \n",
              "2            8      183             64             20       79  23.300000   \n",
              "3            1       89             66             23       94  28.100000   \n",
              "4            0      137             40             35      168  43.100000   \n",
              "5            5      116             74             20       79  25.600000   \n",
              "6            3       78             50             32       88  31.000000   \n",
              "7           10      115             69             20       79  35.300000   \n",
              "8            2      197             70             45      543  30.500000   \n",
              "9            8      125             96             20       79  31.992578   \n",
              "\n",
              "   DiabetesPedigreeFunction  Age  Outcome  \n",
              "0                     0.627   50        1  \n",
              "1                     0.351   31        0  \n",
              "2                     0.672   32        1  \n",
              "3                     0.167   21        0  \n",
              "4                     2.288   33        1  \n",
              "5                     0.201   30        0  \n",
              "6                     0.248   26        1  \n",
              "7                     0.134   29        0  \n",
              "8                     0.158   53        1  \n",
              "9                     0.232   54        1  "
            ],
            "text/html": [
              "\n",
              "  <div id=\"df-eb7d5ef0-ad23-4c41-afdc-7a83d990da69\">\n",
              "    <div class=\"colab-df-container\">\n",
              "      <div>\n",
              "<style scoped>\n",
              "    .dataframe tbody tr th:only-of-type {\n",
              "        vertical-align: middle;\n",
              "    }\n",
              "\n",
              "    .dataframe tbody tr th {\n",
              "        vertical-align: top;\n",
              "    }\n",
              "\n",
              "    .dataframe thead th {\n",
              "        text-align: right;\n",
              "    }\n",
              "</style>\n",
              "<table border=\"1\" class=\"dataframe\">\n",
              "  <thead>\n",
              "    <tr style=\"text-align: right;\">\n",
              "      <th></th>\n",
              "      <th>Pregnancies</th>\n",
              "      <th>Glucose</th>\n",
              "      <th>BloodPressure</th>\n",
              "      <th>SkinThickness</th>\n",
              "      <th>Insulin</th>\n",
              "      <th>BMI</th>\n",
              "      <th>DiabetesPedigreeFunction</th>\n",
              "      <th>Age</th>\n",
              "      <th>Outcome</th>\n",
              "    </tr>\n",
              "  </thead>\n",
              "  <tbody>\n",
              "    <tr>\n",
              "      <th>0</th>\n",
              "      <td>6</td>\n",
              "      <td>148</td>\n",
              "      <td>72</td>\n",
              "      <td>35</td>\n",
              "      <td>79</td>\n",
              "      <td>33.600000</td>\n",
              "      <td>0.627</td>\n",
              "      <td>50</td>\n",
              "      <td>1</td>\n",
              "    </tr>\n",
              "    <tr>\n",
              "      <th>1</th>\n",
              "      <td>1</td>\n",
              "      <td>85</td>\n",
              "      <td>66</td>\n",
              "      <td>29</td>\n",
              "      <td>79</td>\n",
              "      <td>26.600000</td>\n",
              "      <td>0.351</td>\n",
              "      <td>31</td>\n",
              "      <td>0</td>\n",
              "    </tr>\n",
              "    <tr>\n",
              "      <th>2</th>\n",
              "      <td>8</td>\n",
              "      <td>183</td>\n",
              "      <td>64</td>\n",
              "      <td>20</td>\n",
              "      <td>79</td>\n",
              "      <td>23.300000</td>\n",
              "      <td>0.672</td>\n",
              "      <td>32</td>\n",
              "      <td>1</td>\n",
              "    </tr>\n",
              "    <tr>\n",
              "      <th>3</th>\n",
              "      <td>1</td>\n",
              "      <td>89</td>\n",
              "      <td>66</td>\n",
              "      <td>23</td>\n",
              "      <td>94</td>\n",
              "      <td>28.100000</td>\n",
              "      <td>0.167</td>\n",
              "      <td>21</td>\n",
              "      <td>0</td>\n",
              "    </tr>\n",
              "    <tr>\n",
              "      <th>4</th>\n",
              "      <td>0</td>\n",
              "      <td>137</td>\n",
              "      <td>40</td>\n",
              "      <td>35</td>\n",
              "      <td>168</td>\n",
              "      <td>43.100000</td>\n",
              "      <td>2.288</td>\n",
              "      <td>33</td>\n",
              "      <td>1</td>\n",
              "    </tr>\n",
              "    <tr>\n",
              "      <th>5</th>\n",
              "      <td>5</td>\n",
              "      <td>116</td>\n",
              "      <td>74</td>\n",
              "      <td>20</td>\n",
              "      <td>79</td>\n",
              "      <td>25.600000</td>\n",
              "      <td>0.201</td>\n",
              "      <td>30</td>\n",
              "      <td>0</td>\n",
              "    </tr>\n",
              "    <tr>\n",
              "      <th>6</th>\n",
              "      <td>3</td>\n",
              "      <td>78</td>\n",
              "      <td>50</td>\n",
              "      <td>32</td>\n",
              "      <td>88</td>\n",
              "      <td>31.000000</td>\n",
              "      <td>0.248</td>\n",
              "      <td>26</td>\n",
              "      <td>1</td>\n",
              "    </tr>\n",
              "    <tr>\n",
              "      <th>7</th>\n",
              "      <td>10</td>\n",
              "      <td>115</td>\n",
              "      <td>69</td>\n",
              "      <td>20</td>\n",
              "      <td>79</td>\n",
              "      <td>35.300000</td>\n",
              "      <td>0.134</td>\n",
              "      <td>29</td>\n",
              "      <td>0</td>\n",
              "    </tr>\n",
              "    <tr>\n",
              "      <th>8</th>\n",
              "      <td>2</td>\n",
              "      <td>197</td>\n",
              "      <td>70</td>\n",
              "      <td>45</td>\n",
              "      <td>543</td>\n",
              "      <td>30.500000</td>\n",
              "      <td>0.158</td>\n",
              "      <td>53</td>\n",
              "      <td>1</td>\n",
              "    </tr>\n",
              "    <tr>\n",
              "      <th>9</th>\n",
              "      <td>8</td>\n",
              "      <td>125</td>\n",
              "      <td>96</td>\n",
              "      <td>20</td>\n",
              "      <td>79</td>\n",
              "      <td>31.992578</td>\n",
              "      <td>0.232</td>\n",
              "      <td>54</td>\n",
              "      <td>1</td>\n",
              "    </tr>\n",
              "  </tbody>\n",
              "</table>\n",
              "</div>\n",
              "      <button class=\"colab-df-convert\" onclick=\"convertToInteractive('df-eb7d5ef0-ad23-4c41-afdc-7a83d990da69')\"\n",
              "              title=\"Convert this dataframe to an interactive table.\"\n",
              "              style=\"display:none;\">\n",
              "        \n",
              "  <svg xmlns=\"http://www.w3.org/2000/svg\" height=\"24px\"viewBox=\"0 0 24 24\"\n",
              "       width=\"24px\">\n",
              "    <path d=\"M0 0h24v24H0V0z\" fill=\"none\"/>\n",
              "    <path d=\"M18.56 5.44l.94 2.06.94-2.06 2.06-.94-2.06-.94-.94-2.06-.94 2.06-2.06.94zm-11 1L8.5 8.5l.94-2.06 2.06-.94-2.06-.94L8.5 2.5l-.94 2.06-2.06.94zm10 10l.94 2.06.94-2.06 2.06-.94-2.06-.94-.94-2.06-.94 2.06-2.06.94z\"/><path d=\"M17.41 7.96l-1.37-1.37c-.4-.4-.92-.59-1.43-.59-.52 0-1.04.2-1.43.59L10.3 9.45l-7.72 7.72c-.78.78-.78 2.05 0 2.83L4 21.41c.39.39.9.59 1.41.59.51 0 1.02-.2 1.41-.59l7.78-7.78 2.81-2.81c.8-.78.8-2.07 0-2.86zM5.41 20L4 18.59l7.72-7.72 1.47 1.35L5.41 20z\"/>\n",
              "  </svg>\n",
              "      </button>\n",
              "      \n",
              "  <style>\n",
              "    .colab-df-container {\n",
              "      display:flex;\n",
              "      flex-wrap:wrap;\n",
              "      gap: 12px;\n",
              "    }\n",
              "\n",
              "    .colab-df-convert {\n",
              "      background-color: #E8F0FE;\n",
              "      border: none;\n",
              "      border-radius: 50%;\n",
              "      cursor: pointer;\n",
              "      display: none;\n",
              "      fill: #1967D2;\n",
              "      height: 32px;\n",
              "      padding: 0 0 0 0;\n",
              "      width: 32px;\n",
              "    }\n",
              "\n",
              "    .colab-df-convert:hover {\n",
              "      background-color: #E2EBFA;\n",
              "      box-shadow: 0px 1px 2px rgba(60, 64, 67, 0.3), 0px 1px 3px 1px rgba(60, 64, 67, 0.15);\n",
              "      fill: #174EA6;\n",
              "    }\n",
              "\n",
              "    [theme=dark] .colab-df-convert {\n",
              "      background-color: #3B4455;\n",
              "      fill: #D2E3FC;\n",
              "    }\n",
              "\n",
              "    [theme=dark] .colab-df-convert:hover {\n",
              "      background-color: #434B5C;\n",
              "      box-shadow: 0px 1px 3px 1px rgba(0, 0, 0, 0.15);\n",
              "      filter: drop-shadow(0px 1px 2px rgba(0, 0, 0, 0.3));\n",
              "      fill: #FFFFFF;\n",
              "    }\n",
              "  </style>\n",
              "\n",
              "      <script>\n",
              "        const buttonEl =\n",
              "          document.querySelector('#df-eb7d5ef0-ad23-4c41-afdc-7a83d990da69 button.colab-df-convert');\n",
              "        buttonEl.style.display =\n",
              "          google.colab.kernel.accessAllowed ? 'block' : 'none';\n",
              "\n",
              "        async function convertToInteractive(key) {\n",
              "          const element = document.querySelector('#df-eb7d5ef0-ad23-4c41-afdc-7a83d990da69');\n",
              "          const dataTable =\n",
              "            await google.colab.kernel.invokeFunction('convertToInteractive',\n",
              "                                                     [key], {});\n",
              "          if (!dataTable) return;\n",
              "\n",
              "          const docLinkHtml = 'Like what you see? Visit the ' +\n",
              "            '<a target=\"_blank\" href=https://colab.research.google.com/notebooks/data_table.ipynb>data table notebook</a>'\n",
              "            + ' to learn more about interactive tables.';\n",
              "          element.innerHTML = '';\n",
              "          dataTable['output_type'] = 'display_data';\n",
              "          await google.colab.output.renderOutput(dataTable, element);\n",
              "          const docLink = document.createElement('div');\n",
              "          docLink.innerHTML = docLinkHtml;\n",
              "          element.appendChild(docLink);\n",
              "        }\n",
              "      </script>\n",
              "    </div>\n",
              "  </div>\n",
              "  "
            ]
          },
          "metadata": {},
          "execution_count": 51
        }
      ],
      "source": [
        "# remove _____ & write the appropriate function name and the number of rows to get in the output\n",
        "\n",
        "pima.head(10)"
      ]
    },
    {
      "cell_type": "markdown",
      "metadata": {
        "id": "OzzsF3Pg_bv-"
      },
      "source": [
        "## Q5. What do you understand by the dimension of the dataset? Find the dimension of the `pima` dataframe. (1 Mark)"
      ]
    },
    {
      "cell_type": "code",
      "execution_count": 52,
      "metadata": {
        "id": "9QQGBlaw_bv-",
        "colab": {
          "base_uri": "https://localhost:8080/"
        },
        "outputId": "4b1fcabd-2e01-4211-9caa-52e31e4e6b68"
      },
      "outputs": [
        {
          "output_type": "execute_result",
          "data": {
            "text/plain": [
              "(768, 9)"
            ]
          },
          "metadata": {},
          "execution_count": 52
        }
      ],
      "source": [
        "# remove _____ & write the appropriate function name\n",
        "\n",
        "pima.shape"
      ]
    },
    {
      "cell_type": "markdown",
      "metadata": {
        "id": "5_7DfrKa_bv_"
      },
      "source": [
        "#### Write your Answer here: \n"
      ]
    },
    {
      "cell_type": "raw",
      "metadata": {
        "id": "WW0P9jMc_bv_"
      },
      "source": [
        "Ans 5:\n",
        "\n",
        "The shape of the dataset has 768 rows, and 9 columns. "
      ]
    },
    {
      "cell_type": "markdown",
      "metadata": {
        "id": "V5duvKqA_bv_"
      },
      "source": [
        "## Q6. What do you understand by the size of the dataset? Find the size of the `pima` dataframe. (1 Mark)"
      ]
    },
    {
      "cell_type": "code",
      "execution_count": 53,
      "metadata": {
        "id": "yX1yh0Bx_bv_",
        "colab": {
          "base_uri": "https://localhost:8080/"
        },
        "outputId": "7f7a7797-4bfc-4db9-f406-435552d872e3"
      },
      "outputs": [
        {
          "output_type": "execute_result",
          "data": {
            "text/plain": [
              "6912"
            ]
          },
          "metadata": {},
          "execution_count": 53
        }
      ],
      "source": [
        "# remove _____ & write the appropriate function name\n",
        "\n",
        "pima.size"
      ]
    },
    {
      "cell_type": "markdown",
      "metadata": {
        "id": "oILSLGBL_bwA"
      },
      "source": [
        "#### Write your Answer here: \n"
      ]
    },
    {
      "cell_type": "raw",
      "metadata": {
        "id": "zdtFn47Q_bwA"
      },
      "source": [
        "Ans 6:\n",
        "\n",
        "There are 6,912 total elements in the dataset."
      ]
    },
    {
      "cell_type": "markdown",
      "metadata": {
        "id": "DyG29Cqz_bwA"
      },
      "source": [
        "## Q7. What are the data types of all the variables in the data set? (2 Marks)\n",
        "**Hint: Use the info() function to get all the information about the dataset.**"
      ]
    },
    {
      "cell_type": "code",
      "execution_count": 54,
      "metadata": {
        "id": "INEhm7-M_bwA",
        "colab": {
          "base_uri": "https://localhost:8080/"
        },
        "outputId": "b1092012-ba18-4ec2-af06-edaf4dd7c958"
      },
      "outputs": [
        {
          "output_type": "stream",
          "name": "stdout",
          "text": [
            "<class 'pandas.core.frame.DataFrame'>\n",
            "RangeIndex: 768 entries, 0 to 767\n",
            "Data columns (total 9 columns):\n",
            " #   Column                    Non-Null Count  Dtype  \n",
            "---  ------                    --------------  -----  \n",
            " 0   Pregnancies               768 non-null    int64  \n",
            " 1   Glucose                   768 non-null    int64  \n",
            " 2   BloodPressure             768 non-null    int64  \n",
            " 3   SkinThickness             768 non-null    int64  \n",
            " 4   Insulin                   768 non-null    int64  \n",
            " 5   BMI                       768 non-null    float64\n",
            " 6   DiabetesPedigreeFunction  768 non-null    float64\n",
            " 7   Age                       768 non-null    int64  \n",
            " 8   Outcome                   768 non-null    int64  \n",
            "dtypes: float64(2), int64(7)\n",
            "memory usage: 54.1 KB\n"
          ]
        }
      ],
      "source": [
        "# remove _____ & write the appropriate function name\n",
        "\n",
        "pima.info()"
      ]
    },
    {
      "cell_type": "markdown",
      "metadata": {
        "id": "OqnMczju_bwB"
      },
      "source": [
        "#### Write your Answer here: \n"
      ]
    },
    {
      "cell_type": "raw",
      "metadata": {
        "id": "RdARzto8_bwB"
      },
      "source": [
        "Ans 7:\n",
        "\n",
        "There are 2 datatypes of numerical values in the dataset: int64 and float64. "
      ]
    },
    {
      "cell_type": "markdown",
      "metadata": {
        "id": "wHYJkmek_bwB"
      },
      "source": [
        "## Q8. What do we mean by missing values? Are there any missing values in the `pima` dataframe? (2 Marks)"
      ]
    },
    {
      "cell_type": "code",
      "execution_count": 55,
      "metadata": {
        "id": "OiThIwyD_bwB",
        "colab": {
          "base_uri": "https://localhost:8080/"
        },
        "outputId": "a4c80f9c-9a5e-41c4-c06a-774b1c57abb1"
      },
      "outputs": [
        {
          "output_type": "execute_result",
          "data": {
            "text/plain": [
              "False"
            ]
          },
          "metadata": {},
          "execution_count": 55
        }
      ],
      "source": [
        "# remove _____ & write the appropriate function name\n",
        "\n",
        "pima.isnull().values.any()"
      ]
    },
    {
      "cell_type": "markdown",
      "metadata": {
        "id": "CpcpowUT_bwC"
      },
      "source": [
        "#### Write your Answer here: \n"
      ]
    },
    {
      "cell_type": "raw",
      "metadata": {
        "id": "b8D07NoL_bwC"
      },
      "source": [
        "Ans 8:\n",
        "\n",
        "Missing values are when a cell in the dataset does not have an entry and is blank. There are no missing values in the pima dataset. "
      ]
    },
    {
      "cell_type": "markdown",
      "metadata": {
        "id": "RmTpaojz_bwC"
      },
      "source": [
        "## Q9. What do the summary statistics of the data represent? Find the summary statistics for all variables except 'Outcome' in the `pima` data. Take one column/variable from the output table and explain all its statistical measures. (3 Marks)"
      ]
    },
    {
      "cell_type": "code",
      "execution_count": 56,
      "metadata": {
        "id": "JuJBDhb-_bwC",
        "colab": {
          "base_uri": "https://localhost:8080/",
          "height": 364
        },
        "outputId": "8eea22e9-59ab-4320-a58d-172fe32f5912"
      },
      "outputs": [
        {
          "output_type": "execute_result",
          "data": {
            "text/plain": [
              "       Pregnancies     Glucose  BloodPressure  SkinThickness     Insulin  \\\n",
              "count   768.000000  768.000000     768.000000     768.000000  768.000000   \n",
              "mean      3.845052  121.675781      72.250000      26.447917  118.270833   \n",
              "std       3.369578   30.436252      12.117203       9.733872   93.243829   \n",
              "min       0.000000   44.000000      24.000000       7.000000   14.000000   \n",
              "25%       1.000000   99.750000      64.000000      20.000000   79.000000   \n",
              "50%       3.000000  117.000000      72.000000      23.000000   79.000000   \n",
              "75%       6.000000  140.250000      80.000000      32.000000  127.250000   \n",
              "max      17.000000  199.000000     122.000000      99.000000  846.000000   \n",
              "\n",
              "              BMI  DiabetesPedigreeFunction         Age  \n",
              "count  768.000000                768.000000  768.000000  \n",
              "mean    32.450805                  0.471876   33.240885  \n",
              "std      6.875374                  0.331329   11.760232  \n",
              "min     18.200000                  0.078000   21.000000  \n",
              "25%     27.500000                  0.243750   24.000000  \n",
              "50%     32.000000                  0.372500   29.000000  \n",
              "75%     36.600000                  0.626250   41.000000  \n",
              "max     67.100000                  2.420000   81.000000  "
            ],
            "text/html": [
              "\n",
              "  <div id=\"df-ae01cf33-d8a9-4ac6-a947-1b5cbd948325\">\n",
              "    <div class=\"colab-df-container\">\n",
              "      <div>\n",
              "<style scoped>\n",
              "    .dataframe tbody tr th:only-of-type {\n",
              "        vertical-align: middle;\n",
              "    }\n",
              "\n",
              "    .dataframe tbody tr th {\n",
              "        vertical-align: top;\n",
              "    }\n",
              "\n",
              "    .dataframe thead th {\n",
              "        text-align: right;\n",
              "    }\n",
              "</style>\n",
              "<table border=\"1\" class=\"dataframe\">\n",
              "  <thead>\n",
              "    <tr style=\"text-align: right;\">\n",
              "      <th></th>\n",
              "      <th>Pregnancies</th>\n",
              "      <th>Glucose</th>\n",
              "      <th>BloodPressure</th>\n",
              "      <th>SkinThickness</th>\n",
              "      <th>Insulin</th>\n",
              "      <th>BMI</th>\n",
              "      <th>DiabetesPedigreeFunction</th>\n",
              "      <th>Age</th>\n",
              "    </tr>\n",
              "  </thead>\n",
              "  <tbody>\n",
              "    <tr>\n",
              "      <th>count</th>\n",
              "      <td>768.000000</td>\n",
              "      <td>768.000000</td>\n",
              "      <td>768.000000</td>\n",
              "      <td>768.000000</td>\n",
              "      <td>768.000000</td>\n",
              "      <td>768.000000</td>\n",
              "      <td>768.000000</td>\n",
              "      <td>768.000000</td>\n",
              "    </tr>\n",
              "    <tr>\n",
              "      <th>mean</th>\n",
              "      <td>3.845052</td>\n",
              "      <td>121.675781</td>\n",
              "      <td>72.250000</td>\n",
              "      <td>26.447917</td>\n",
              "      <td>118.270833</td>\n",
              "      <td>32.450805</td>\n",
              "      <td>0.471876</td>\n",
              "      <td>33.240885</td>\n",
              "    </tr>\n",
              "    <tr>\n",
              "      <th>std</th>\n",
              "      <td>3.369578</td>\n",
              "      <td>30.436252</td>\n",
              "      <td>12.117203</td>\n",
              "      <td>9.733872</td>\n",
              "      <td>93.243829</td>\n",
              "      <td>6.875374</td>\n",
              "      <td>0.331329</td>\n",
              "      <td>11.760232</td>\n",
              "    </tr>\n",
              "    <tr>\n",
              "      <th>min</th>\n",
              "      <td>0.000000</td>\n",
              "      <td>44.000000</td>\n",
              "      <td>24.000000</td>\n",
              "      <td>7.000000</td>\n",
              "      <td>14.000000</td>\n",
              "      <td>18.200000</td>\n",
              "      <td>0.078000</td>\n",
              "      <td>21.000000</td>\n",
              "    </tr>\n",
              "    <tr>\n",
              "      <th>25%</th>\n",
              "      <td>1.000000</td>\n",
              "      <td>99.750000</td>\n",
              "      <td>64.000000</td>\n",
              "      <td>20.000000</td>\n",
              "      <td>79.000000</td>\n",
              "      <td>27.500000</td>\n",
              "      <td>0.243750</td>\n",
              "      <td>24.000000</td>\n",
              "    </tr>\n",
              "    <tr>\n",
              "      <th>50%</th>\n",
              "      <td>3.000000</td>\n",
              "      <td>117.000000</td>\n",
              "      <td>72.000000</td>\n",
              "      <td>23.000000</td>\n",
              "      <td>79.000000</td>\n",
              "      <td>32.000000</td>\n",
              "      <td>0.372500</td>\n",
              "      <td>29.000000</td>\n",
              "    </tr>\n",
              "    <tr>\n",
              "      <th>75%</th>\n",
              "      <td>6.000000</td>\n",
              "      <td>140.250000</td>\n",
              "      <td>80.000000</td>\n",
              "      <td>32.000000</td>\n",
              "      <td>127.250000</td>\n",
              "      <td>36.600000</td>\n",
              "      <td>0.626250</td>\n",
              "      <td>41.000000</td>\n",
              "    </tr>\n",
              "    <tr>\n",
              "      <th>max</th>\n",
              "      <td>17.000000</td>\n",
              "      <td>199.000000</td>\n",
              "      <td>122.000000</td>\n",
              "      <td>99.000000</td>\n",
              "      <td>846.000000</td>\n",
              "      <td>67.100000</td>\n",
              "      <td>2.420000</td>\n",
              "      <td>81.000000</td>\n",
              "    </tr>\n",
              "  </tbody>\n",
              "</table>\n",
              "</div>\n",
              "      <button class=\"colab-df-convert\" onclick=\"convertToInteractive('df-ae01cf33-d8a9-4ac6-a947-1b5cbd948325')\"\n",
              "              title=\"Convert this dataframe to an interactive table.\"\n",
              "              style=\"display:none;\">\n",
              "        \n",
              "  <svg xmlns=\"http://www.w3.org/2000/svg\" height=\"24px\"viewBox=\"0 0 24 24\"\n",
              "       width=\"24px\">\n",
              "    <path d=\"M0 0h24v24H0V0z\" fill=\"none\"/>\n",
              "    <path d=\"M18.56 5.44l.94 2.06.94-2.06 2.06-.94-2.06-.94-.94-2.06-.94 2.06-2.06.94zm-11 1L8.5 8.5l.94-2.06 2.06-.94-2.06-.94L8.5 2.5l-.94 2.06-2.06.94zm10 10l.94 2.06.94-2.06 2.06-.94-2.06-.94-.94-2.06-.94 2.06-2.06.94z\"/><path d=\"M17.41 7.96l-1.37-1.37c-.4-.4-.92-.59-1.43-.59-.52 0-1.04.2-1.43.59L10.3 9.45l-7.72 7.72c-.78.78-.78 2.05 0 2.83L4 21.41c.39.39.9.59 1.41.59.51 0 1.02-.2 1.41-.59l7.78-7.78 2.81-2.81c.8-.78.8-2.07 0-2.86zM5.41 20L4 18.59l7.72-7.72 1.47 1.35L5.41 20z\"/>\n",
              "  </svg>\n",
              "      </button>\n",
              "      \n",
              "  <style>\n",
              "    .colab-df-container {\n",
              "      display:flex;\n",
              "      flex-wrap:wrap;\n",
              "      gap: 12px;\n",
              "    }\n",
              "\n",
              "    .colab-df-convert {\n",
              "      background-color: #E8F0FE;\n",
              "      border: none;\n",
              "      border-radius: 50%;\n",
              "      cursor: pointer;\n",
              "      display: none;\n",
              "      fill: #1967D2;\n",
              "      height: 32px;\n",
              "      padding: 0 0 0 0;\n",
              "      width: 32px;\n",
              "    }\n",
              "\n",
              "    .colab-df-convert:hover {\n",
              "      background-color: #E2EBFA;\n",
              "      box-shadow: 0px 1px 2px rgba(60, 64, 67, 0.3), 0px 1px 3px 1px rgba(60, 64, 67, 0.15);\n",
              "      fill: #174EA6;\n",
              "    }\n",
              "\n",
              "    [theme=dark] .colab-df-convert {\n",
              "      background-color: #3B4455;\n",
              "      fill: #D2E3FC;\n",
              "    }\n",
              "\n",
              "    [theme=dark] .colab-df-convert:hover {\n",
              "      background-color: #434B5C;\n",
              "      box-shadow: 0px 1px 3px 1px rgba(0, 0, 0, 0.15);\n",
              "      filter: drop-shadow(0px 1px 2px rgba(0, 0, 0, 0.3));\n",
              "      fill: #FFFFFF;\n",
              "    }\n",
              "  </style>\n",
              "\n",
              "      <script>\n",
              "        const buttonEl =\n",
              "          document.querySelector('#df-ae01cf33-d8a9-4ac6-a947-1b5cbd948325 button.colab-df-convert');\n",
              "        buttonEl.style.display =\n",
              "          google.colab.kernel.accessAllowed ? 'block' : 'none';\n",
              "\n",
              "        async function convertToInteractive(key) {\n",
              "          const element = document.querySelector('#df-ae01cf33-d8a9-4ac6-a947-1b5cbd948325');\n",
              "          const dataTable =\n",
              "            await google.colab.kernel.invokeFunction('convertToInteractive',\n",
              "                                                     [key], {});\n",
              "          if (!dataTable) return;\n",
              "\n",
              "          const docLinkHtml = 'Like what you see? Visit the ' +\n",
              "            '<a target=\"_blank\" href=https://colab.research.google.com/notebooks/data_table.ipynb>data table notebook</a>'\n",
              "            + ' to learn more about interactive tables.';\n",
              "          element.innerHTML = '';\n",
              "          dataTable['output_type'] = 'display_data';\n",
              "          await google.colab.output.renderOutput(dataTable, element);\n",
              "          const docLink = document.createElement('div');\n",
              "          docLink.innerHTML = docLinkHtml;\n",
              "          element.appendChild(docLink);\n",
              "        }\n",
              "      </script>\n",
              "    </div>\n",
              "  </div>\n",
              "  "
            ]
          },
          "metadata": {},
          "execution_count": 56
        }
      ],
      "source": [
        "# remove _____ & write the appropriate function name\n",
        "\n",
        "pima.iloc[:,0:8].describe()"
      ]
    },
    {
      "cell_type": "markdown",
      "metadata": {
        "id": "-aYGSoyf_bwC"
      },
      "source": [
        "#### Write your Answer here: \n"
      ]
    },
    {
      "cell_type": "raw",
      "metadata": {
        "id": "y20K1lOx_bwC"
      },
      "source": [
        "Ans 9:\n",
        "\n",
        "There are 768 Age observations in the dataset. The maximum age is 81 years and the minimum is 21 years. The average age is about 33 years old, with a standard deviation of about 11.76 years. The median age is 29 years old, with the first quartile being 24 years and the third quartile is 41 years old."
      ]
    },
    {
      "cell_type": "markdown",
      "metadata": {
        "id": "3gO4yNoS_bwD"
      },
      "source": [
        "## Q 10. Plot the distribution plot for the variable 'BloodPressure'. Write detailed observations from the plot. (2 Marks)"
      ]
    },
    {
      "cell_type": "code",
      "execution_count": 57,
      "metadata": {
        "id": "k4ulBXrW_bwD",
        "colab": {
          "base_uri": "https://localhost:8080/",
          "height": 369
        },
        "outputId": "a3357bf1-0a70-47c2-afe2-73be8c707b3c"
      },
      "outputs": [
        {
          "output_type": "display_data",
          "data": {
            "text/plain": [
              "<Figure size 360x360 with 1 Axes>"
            ],
            "image/png": "[encoded data removed]"
          },
          "metadata": {
            "needs_background": "light"
          }
        }
      ],
      "source": [
        "# remove _____ & write the appropriate library name\n",
        "\n",
        "sns.displot(pima['BloodPressure'], kind='kde')\n",
        "plt.show()"
      ]
    },
    {
      "cell_type": "markdown",
      "metadata": {
        "id": "tFmj2sAi_bwD"
      },
      "source": [
        "#### Write your Answer here: \n"
      ]
    },
    {
      "cell_type": "raw",
      "metadata": {
        "id": "LGKnjmYV_bwD"
      },
      "source": [
        "Ans 10:\n",
        "\n",
        "The plot shows that most of the observations lie between about 50 and 100 mmHg. The distribution is symmetric with a large peak around 70 mmHg. \n"
      ]
    },
    {
      "cell_type": "markdown",
      "metadata": {
        "id": "H82v-Oiq_bwD"
      },
      "source": [
        "## Q 11. What is the 'BMI' of the person having the highest 'Glucose'? (1 Mark)"
      ]
    },
    {
      "cell_type": "code",
      "execution_count": 58,
      "metadata": {
        "id": "-xXHlCS5_bwD",
        "colab": {
          "base_uri": "https://localhost:8080/"
        },
        "outputId": "54f7118f-7eea-4995-fa1d-f4fbb4a3463e"
      },
      "outputs": [
        {
          "output_type": "execute_result",
          "data": {
            "text/plain": [
              "661    42.9\n",
              "Name: BMI, dtype: float64"
            ]
          },
          "metadata": {},
          "execution_count": 58
        }
      ],
      "source": [
        "# remove _____ & write the appropriate function name\n",
        "\n",
        "pima[pima['Glucose']==pima['Glucose'].max()]['BMI']"
      ]
    },
    {
      "cell_type": "markdown",
      "metadata": {
        "id": "JiUByWjP_bwE"
      },
      "source": [
        "#### Write your Answer here: \n"
      ]
    },
    {
      "cell_type": "raw",
      "metadata": {
        "id": "pE2GYrtU_bwE"
      },
      "source": [
        "Ans 11:\n",
        "\n",
        "The BMI of the person having the highest Glucose is 42.9."
      ]
    },
    {
      "cell_type": "markdown",
      "metadata": {
        "id": "0xN_VJOl_bwE"
      },
      "source": [
        "## Q12.\n",
        "### 12.1 What is the mean of the variable 'BMI'? \n",
        "### 12.2 What is the median of the variable 'BMI'? \n",
        "### 12.3 What is the mode of the variable 'BMI'?\n",
        "### 12.4 Are the three measures of central tendency equal?\n",
        "\n",
        "### (3 Marks)"
      ]
    },
    {
      "cell_type": "code",
      "execution_count": 59,
      "metadata": {
        "id": "-aKQ7UMC_bwE",
        "colab": {
          "base_uri": "https://localhost:8080/"
        },
        "outputId": "b3be46e4-72a7-48b8-911c-77fd02e316f3"
      },
      "outputs": [
        {
          "output_type": "stream",
          "name": "stdout",
          "text": [
            "32.45080515543619\n",
            "32.0\n",
            "32.0\n"
          ]
        }
      ],
      "source": [
        "# remove _____ & write the appropriate function name\n",
        "\n",
        "m1 = pima['BMI'].mean()  # mean\n",
        "print(m1)\n",
        "m2 = pima['BMI'].median()  # median\n",
        "print(m2)\n",
        "m3 = pima['BMI'].mode()[0]  # mode\n",
        "print(m3)"
      ]
    },
    {
      "cell_type": "markdown",
      "metadata": {
        "id": "F381SOUJ_bwE"
      },
      "source": [
        "#### Write your Answer here: \n"
      ]
    },
    {
      "cell_type": "raw",
      "metadata": {
        "id": "NNYE_suf_bwE"
      },
      "source": [
        "Ans 12:\n",
        "\n",
        "The average BMI is about 32.45 kg/m2. The median and mode are both 32 kg/m2."
      ]
    },
    {
      "cell_type": "markdown",
      "metadata": {
        "id": "zQgUfx28_bwE"
      },
      "source": [
        "## Q13. How many women's 'Glucose' levels are above the mean level of 'Glucose'? (1 Mark)"
      ]
    },
    {
      "cell_type": "code",
      "execution_count": 60,
      "metadata": {
        "id": "elzY2lG0_bwE",
        "colab": {
          "base_uri": "https://localhost:8080/"
        },
        "outputId": "7830c269-f1c6-47f7-cf91-bc8e473ba4ba"
      },
      "outputs": [
        {
          "output_type": "execute_result",
          "data": {
            "text/plain": [
              "343"
            ]
          },
          "metadata": {},
          "execution_count": 60
        }
      ],
      "source": [
        "# remove _____ & write the appropriate function name\n",
        "\n",
        "pima[pima['Glucose']>pima['Glucose'].mean()].shape[0]"
      ]
    },
    {
      "cell_type": "markdown",
      "metadata": {
        "id": "zNopQzBy_bwF"
      },
      "source": [
        "#### Write your Answer here: \n"
      ]
    },
    {
      "cell_type": "raw",
      "metadata": {
        "id": "KP5Ex2Mj_bwF"
      },
      "source": [
        "Ans 13:\n",
        "\n",
        "There are 343 women with Glucose levels above the mean. "
      ]
    },
    {
      "cell_type": "markdown",
      "metadata": {
        "id": "TUFPGMGX_bwF"
      },
      "source": [
        "## Q14. How many women have their 'BloodPressure' equal to the median of 'BloodPressure' and their 'BMI' less than the median of 'BMI'? (2 Marks)"
      ]
    },
    {
      "cell_type": "code",
      "execution_count": 61,
      "metadata": {
        "id": "wn118oGx_bwF",
        "colab": {
          "base_uri": "https://localhost:8080/",
          "height": 783
        },
        "outputId": "e17e5fd4-a42a-4067-e5c9-11eb527c74d9"
      },
      "outputs": [
        {
          "output_type": "execute_result",
          "data": {
            "text/plain": [
              "     Pregnancies  Glucose  BloodPressure  SkinThickness  Insulin   BMI  \\\n",
              "14             5      166             72             19      175  25.8   \n",
              "93             4      134             72             20       79  23.8   \n",
              "103            1       81             72             18       40  26.6   \n",
              "205            5      111             72             28       79  23.9   \n",
              "299            8      112             72             20       79  23.6   \n",
              "325            1      157             72             21      168  25.6   \n",
              "330            8      118             72             19       79  23.1   \n",
              "366            6      124             72             20       79  27.6   \n",
              "380            1      107             72             30       82  30.8   \n",
              "393            4      116             72             12       87  22.1   \n",
              "406            4      115             72             20       79  28.9   \n",
              "446            1      100             72             12       70  25.3   \n",
              "460            9      120             72             22       56  20.8   \n",
              "488            4       99             72             17       79  25.6   \n",
              "497            2       81             72             15       76  30.1   \n",
              "510           12       84             72             31       79  29.7   \n",
              "568            4      154             72             29      126  31.3   \n",
              "615            3      106             72             20       79  25.8   \n",
              "635           13      104             72             20       79  31.2   \n",
              "644            3      103             72             30      152  27.6   \n",
              "717           10       94             72             18       79  23.1   \n",
              "765            5      121             72             23      112  26.2   \n",
              "\n",
              "     DiabetesPedigreeFunction  Age  Outcome  \n",
              "14                      0.587   51        1  \n",
              "93                      0.277   60        1  \n",
              "103                     0.283   24        0  \n",
              "205                     0.407   27        0  \n",
              "299                     0.840   58        0  \n",
              "325                     0.123   24        0  \n",
              "330                     1.476   46        0  \n",
              "366                     0.368   29        1  \n",
              "380                     0.821   24        0  \n",
              "393                     0.463   37        0  \n",
              "406                     0.376   46        1  \n",
              "446                     0.658   28        0  \n",
              "460                     0.733   48        0  \n",
              "488                     0.294   28        0  \n",
              "497                     0.547   25        0  \n",
              "510                     0.297   46        1  \n",
              "568                     0.338   37        0  \n",
              "615                     0.207   27        0  \n",
              "635                     0.465   38        1  \n",
              "644                     0.730   27        0  \n",
              "717                     0.595   56        0  \n",
              "765                     0.245   30        0  "
            ],
            "text/html": [
              "\n",
              "  <div id=\"df-a55403c8-5200-4f65-9d10-9dad5a90f634\">\n",
              "    <div class=\"colab-df-container\">\n",
              "      <div>\n",
              "<style scoped>\n",
              "    .dataframe tbody tr th:only-of-type {\n",
              "        vertical-align: middle;\n",
              "    }\n",
              "\n",
              "    .dataframe tbody tr th {\n",
              "        vertical-align: top;\n",
              "    }\n",
              "\n",
              "    .dataframe thead th {\n",
              "        text-align: right;\n",
              "    }\n",
              "</style>\n",
              "<table border=\"1\" class=\"dataframe\">\n",
              "  <thead>\n",
              "    <tr style=\"text-align: right;\">\n",
              "      <th></th>\n",
              "      <th>Pregnancies</th>\n",
              "      <th>Glucose</th>\n",
              "      <th>BloodPressure</th>\n",
              "      <th>SkinThickness</th>\n",
              "      <th>Insulin</th>\n",
              "      <th>BMI</th>\n",
              "      <th>DiabetesPedigreeFunction</th>\n",
              "      <th>Age</th>\n",
              "      <th>Outcome</th>\n",
              "    </tr>\n",
              "  </thead>\n",
              "  <tbody>\n",
              "    <tr>\n",
              "      <th>14</th>\n",
              "      <td>5</td>\n",
              "      <td>166</td>\n",
              "      <td>72</td>\n",
              "      <td>19</td>\n",
              "      <td>175</td>\n",
              "      <td>25.8</td>\n",
              "      <td>0.587</td>\n",
              "      <td>51</td>\n",
              "      <td>1</td>\n",
              "    </tr>\n",
              "    <tr>\n",
              "      <th>93</th>\n",
              "      <td>4</td>\n",
              "      <td>134</td>\n",
              "      <td>72</td>\n",
              "      <td>20</td>\n",
              "      <td>79</td>\n",
              "      <td>23.8</td>\n",
              "      <td>0.277</td>\n",
              "      <td>60</td>\n",
              "      <td>1</td>\n",
              "    </tr>\n",
              "    <tr>\n",
              "      <th>103</th>\n",
              "      <td>1</td>\n",
              "      <td>81</td>\n",
              "      <td>72</td>\n",
              "      <td>18</td>\n",
              "      <td>40</td>\n",
              "      <td>26.6</td>\n",
              "      <td>0.283</td>\n",
              "      <td>24</td>\n",
              "      <td>0</td>\n",
              "    </tr>\n",
              "    <tr>\n",
              "      <th>205</th>\n",
              "      <td>5</td>\n",
              "      <td>111</td>\n",
              "      <td>72</td>\n",
              "      <td>28</td>\n",
              "      <td>79</td>\n",
              "      <td>23.9</td>\n",
              "      <td>0.407</td>\n",
              "      <td>27</td>\n",
              "      <td>0</td>\n",
              "    </tr>\n",
              "    <tr>\n",
              "      <th>299</th>\n",
              "      <td>8</td>\n",
              "      <td>112</td>\n",
              "      <td>72</td>\n",
              "      <td>20</td>\n",
              "      <td>79</td>\n",
              "      <td>23.6</td>\n",
              "      <td>0.840</td>\n",
              "      <td>58</td>\n",
              "      <td>0</td>\n",
              "    </tr>\n",
              "    <tr>\n",
              "      <th>325</th>\n",
              "      <td>1</td>\n",
              "      <td>157</td>\n",
              "      <td>72</td>\n",
              "      <td>21</td>\n",
              "      <td>168</td>\n",
              "      <td>25.6</td>\n",
              "      <td>0.123</td>\n",
              "      <td>24</td>\n",
              "      <td>0</td>\n",
              "    </tr>\n",
              "    <tr>\n",
              "      <th>330</th>\n",
              "      <td>8</td>\n",
              "      <td>118</td>\n",
              "      <td>72</td>\n",
              "      <td>19</td>\n",
              "      <td>79</td>\n",
              "      <td>23.1</td>\n",
              "      <td>1.476</td>\n",
              "      <td>46</td>\n",
              "      <td>0</td>\n",
              "    </tr>\n",
              "    <tr>\n",
              "      <th>366</th>\n",
              "      <td>6</td>\n",
              "      <td>124</td>\n",
              "      <td>72</td>\n",
              "      <td>20</td>\n",
              "      <td>79</td>\n",
              "      <td>27.6</td>\n",
              "      <td>0.368</td>\n",
              "      <td>29</td>\n",
              "      <td>1</td>\n",
              "    </tr>\n",
              "    <tr>\n",
              "      <th>380</th>\n",
              "      <td>1</td>\n",
              "      <td>107</td>\n",
              "      <td>72</td>\n",
              "      <td>30</td>\n",
              "      <td>82</td>\n",
              "      <td>30.8</td>\n",
              "      <td>0.821</td>\n",
              "      <td>24</td>\n",
              "      <td>0</td>\n",
              "    </tr>\n",
              "    <tr>\n",
              "      <th>393</th>\n",
              "      <td>4</td>\n",
              "      <td>116</td>\n",
              "      <td>72</td>\n",
              "      <td>12</td>\n",
              "      <td>87</td>\n",
              "      <td>22.1</td>\n",
              "      <td>0.463</td>\n",
              "      <td>37</td>\n",
              "      <td>0</td>\n",
              "    </tr>\n",
              "    <tr>\n",
              "      <th>406</th>\n",
              "      <td>4</td>\n",
              "      <td>115</td>\n",
              "      <td>72</td>\n",
              "      <td>20</td>\n",
              "      <td>79</td>\n",
              "      <td>28.9</td>\n",
              "      <td>0.376</td>\n",
              "      <td>46</td>\n",
              "      <td>1</td>\n",
              "    </tr>\n",
              "    <tr>\n",
              "      <th>446</th>\n",
              "      <td>1</td>\n",
              "      <td>100</td>\n",
              "      <td>72</td>\n",
              "      <td>12</td>\n",
              "      <td>70</td>\n",
              "      <td>25.3</td>\n",
              "      <td>0.658</td>\n",
              "      <td>28</td>\n",
              "      <td>0</td>\n",
              "    </tr>\n",
              "    <tr>\n",
              "      <th>460</th>\n",
              "      <td>9</td>\n",
              "      <td>120</td>\n",
              "      <td>72</td>\n",
              "      <td>22</td>\n",
              "      <td>56</td>\n",
              "      <td>20.8</td>\n",
              "      <td>0.733</td>\n",
              "      <td>48</td>\n",
              "      <td>0</td>\n",
              "    </tr>\n",
              "    <tr>\n",
              "      <th>488</th>\n",
              "      <td>4</td>\n",
              "      <td>99</td>\n",
              "      <td>72</td>\n",
              "      <td>17</td>\n",
              "      <td>79</td>\n",
              "      <td>25.6</td>\n",
              "      <td>0.294</td>\n",
              "      <td>28</td>\n",
              "      <td>0</td>\n",
              "    </tr>\n",
              "    <tr>\n",
              "      <th>497</th>\n",
              "      <td>2</td>\n",
              "      <td>81</td>\n",
              "      <td>72</td>\n",
              "      <td>15</td>\n",
              "      <td>76</td>\n",
              "      <td>30.1</td>\n",
              "      <td>0.547</td>\n",
              "      <td>25</td>\n",
              "      <td>0</td>\n",
              "    </tr>\n",
              "    <tr>\n",
              "      <th>510</th>\n",
              "      <td>12</td>\n",
              "      <td>84</td>\n",
              "      <td>72</td>\n",
              "      <td>31</td>\n",
              "      <td>79</td>\n",
              "      <td>29.7</td>\n",
              "      <td>0.297</td>\n",
              "      <td>46</td>\n",
              "      <td>1</td>\n",
              "    </tr>\n",
              "    <tr>\n",
              "      <th>568</th>\n",
              "      <td>4</td>\n",
              "      <td>154</td>\n",
              "      <td>72</td>\n",
              "      <td>29</td>\n",
              "      <td>126</td>\n",
              "      <td>31.3</td>\n",
              "      <td>0.338</td>\n",
              "      <td>37</td>\n",
              "      <td>0</td>\n",
              "    </tr>\n",
              "    <tr>\n",
              "      <th>615</th>\n",
              "      <td>3</td>\n",
              "      <td>106</td>\n",
              "      <td>72</td>\n",
              "      <td>20</td>\n",
              "      <td>79</td>\n",
              "      <td>25.8</td>\n",
              "      <td>0.207</td>\n",
              "      <td>27</td>\n",
              "      <td>0</td>\n",
              "    </tr>\n",
              "    <tr>\n",
              "      <th>635</th>\n",
              "      <td>13</td>\n",
              "      <td>104</td>\n",
              "      <td>72</td>\n",
              "      <td>20</td>\n",
              "      <td>79</td>\n",
              "      <td>31.2</td>\n",
              "      <td>0.465</td>\n",
              "      <td>38</td>\n",
              "      <td>1</td>\n",
              "    </tr>\n",
              "    <tr>\n",
              "      <th>644</th>\n",
              "      <td>3</td>\n",
              "      <td>103</td>\n",
              "      <td>72</td>\n",
              "      <td>30</td>\n",
              "      <td>152</td>\n",
              "      <td>27.6</td>\n",
              "      <td>0.730</td>\n",
              "      <td>27</td>\n",
              "      <td>0</td>\n",
              "    </tr>\n",
              "    <tr>\n",
              "      <th>717</th>\n",
              "      <td>10</td>\n",
              "      <td>94</td>\n",
              "      <td>72</td>\n",
              "      <td>18</td>\n",
              "      <td>79</td>\n",
              "      <td>23.1</td>\n",
              "      <td>0.595</td>\n",
              "      <td>56</td>\n",
              "      <td>0</td>\n",
              "    </tr>\n",
              "    <tr>\n",
              "      <th>765</th>\n",
              "      <td>5</td>\n",
              "      <td>121</td>\n",
              "      <td>72</td>\n",
              "      <td>23</td>\n",
              "      <td>112</td>\n",
              "      <td>26.2</td>\n",
              "      <td>0.245</td>\n",
              "      <td>30</td>\n",
              "      <td>0</td>\n",
              "    </tr>\n",
              "  </tbody>\n",
              "</table>\n",
              "</div>\n",
              "      <button class=\"colab-df-convert\" onclick=\"convertToInteractive('df-a55403c8-5200-4f65-9d10-9dad5a90f634')\"\n",
              "              title=\"Convert this dataframe to an interactive table.\"\n",
              "              style=\"display:none;\">\n",
              "        \n",
              "  <svg xmlns=\"http://www.w3.org/2000/svg\" height=\"24px\"viewBox=\"0 0 24 24\"\n",
              "       width=\"24px\">\n",
              "    <path d=\"M0 0h24v24H0V0z\" fill=\"none\"/>\n",
              "    <path d=\"M18.56 5.44l.94 2.06.94-2.06 2.06-.94-2.06-.94-.94-2.06-.94 2.06-2.06.94zm-11 1L8.5 8.5l.94-2.06 2.06-.94-2.06-.94L8.5 2.5l-.94 2.06-2.06.94zm10 10l.94 2.06.94-2.06 2.06-.94-2.06-.94-.94-2.06-.94 2.06-2.06.94z\"/><path d=\"M17.41 7.96l-1.37-1.37c-.4-.4-.92-.59-1.43-.59-.52 0-1.04.2-1.43.59L10.3 9.45l-7.72 7.72c-.78.78-.78 2.05 0 2.83L4 21.41c.39.39.9.59 1.41.59.51 0 1.02-.2 1.41-.59l7.78-7.78 2.81-2.81c.8-.78.8-2.07 0-2.86zM5.41 20L4 18.59l7.72-7.72 1.47 1.35L5.41 20z\"/>\n",
              "  </svg>\n",
              "      </button>\n",
              "      \n",
              "  <style>\n",
              "    .colab-df-container {\n",
              "      display:flex;\n",
              "      flex-wrap:wrap;\n",
              "      gap: 12px;\n",
              "    }\n",
              "\n",
              "    .colab-df-convert {\n",
              "      background-color: #E8F0FE;\n",
              "      border: none;\n",
              "      border-radius: 50%;\n",
              "      cursor: pointer;\n",
              "      display: none;\n",
              "      fill: #1967D2;\n",
              "      height: 32px;\n",
              "      padding: 0 0 0 0;\n",
              "      width: 32px;\n",
              "    }\n",
              "\n",
              "    .colab-df-convert:hover {\n",
              "      background-color: #E2EBFA;\n",
              "      box-shadow: 0px 1px 2px rgba(60, 64, 67, 0.3), 0px 1px 3px 1px rgba(60, 64, 67, 0.15);\n",
              "      fill: #174EA6;\n",
              "    }\n",
              "\n",
              "    [theme=dark] .colab-df-convert {\n",
              "      background-color: #3B4455;\n",
              "      fill: #D2E3FC;\n",
              "    }\n",
              "\n",
              "    [theme=dark] .colab-df-convert:hover {\n",
              "      background-color: #434B5C;\n",
              "      box-shadow: 0px 1px 3px 1px rgba(0, 0, 0, 0.15);\n",
              "      filter: drop-shadow(0px 1px 2px rgba(0, 0, 0, 0.3));\n",
              "      fill: #FFFFFF;\n",
              "    }\n",
              "  </style>\n",
              "\n",
              "      <script>\n",
              "        const buttonEl =\n",
              "          document.querySelector('#df-a55403c8-5200-4f65-9d10-9dad5a90f634 button.colab-df-convert');\n",
              "        buttonEl.style.display =\n",
              "          google.colab.kernel.accessAllowed ? 'block' : 'none';\n",
              "\n",
              "        async function convertToInteractive(key) {\n",
              "          const element = document.querySelector('#df-a55403c8-5200-4f65-9d10-9dad5a90f634');\n",
              "          const dataTable =\n",
              "            await google.colab.kernel.invokeFunction('convertToInteractive',\n",
              "                                                     [key], {});\n",
              "          if (!dataTable) return;\n",
              "\n",
              "          const docLinkHtml = 'Like what you see? Visit the ' +\n",
              "            '<a target=\"_blank\" href=https://colab.research.google.com/notebooks/data_table.ipynb>data table notebook</a>'\n",
              "            + ' to learn more about interactive tables.';\n",
              "          element.innerHTML = '';\n",
              "          dataTable['output_type'] = 'display_data';\n",
              "          await google.colab.output.renderOutput(dataTable, element);\n",
              "          const docLink = document.createElement('div');\n",
              "          docLink.innerHTML = docLinkHtml;\n",
              "          element.appendChild(docLink);\n",
              "        }\n",
              "      </script>\n",
              "    </div>\n",
              "  </div>\n",
              "  "
            ]
          },
          "metadata": {},
          "execution_count": 61
        }
      ],
      "source": [
        "# remove _____ & write the appropriate column name\n",
        "\n",
        "pima[(pima['BloodPressure']==pima['BloodPressure'].median()) & (pima['BMI']<pima['BMI'].median())]"
      ]
    },
    {
      "cell_type": "markdown",
      "metadata": {
        "id": "KgU-UehX_bwF"
      },
      "source": [
        "#### Write your Answer here: \n"
      ]
    },
    {
      "cell_type": "raw",
      "metadata": {
        "id": "-b8kksU3_bwF"
      },
      "source": [
        "Ans 14:\n",
        "\n",
        "There are 22 women with their blood pressure equal to the median blood pressure and BMI less than the median BMI. "
      ]
    },
    {
      "cell_type": "markdown",
      "metadata": {
        "id": "O8KX8Nva_bwF"
      },
      "source": [
        "## Q15. Create a pairplot for the variables 'Glucose', 'SkinThickness', and 'DiabetesPedigreeFunction'. Write your observations from the plot. (4 Marks)"
      ]
    },
    {
      "cell_type": "code",
      "execution_count": 62,
      "metadata": {
        "id": "dDj12snn_bwG",
        "colab": {
          "base_uri": "https://localhost:8080/",
          "height": 550
        },
        "outputId": "018452d7-179d-4bb5-8b44-c91ef745d110"
      },
      "outputs": [
        {
          "output_type": "display_data",
          "data": {
            "text/plain": [
              "<Figure size 593.25x540 with 12 Axes>"
            ],
            "image/png": "[encoded data removed]"
          },
          "metadata": {
            "needs_background": "light"
          }
        }
      ],
      "source": [
        "# remove _____ & write the appropriate function name\n",
        "\n",
        "sns.pairplot(data=pima,vars=['Glucose', 'SkinThickness', 'DiabetesPedigreeFunction'], hue='Outcome')\n",
        "plt.show()"
      ]
    },
    {
      "cell_type": "markdown",
      "metadata": {
        "id": "S7CMbCwL_bwG"
      },
      "source": [
        "#### Write your Answer here: \n"
      ]
    },
    {
      "cell_type": "raw",
      "metadata": {
        "id": "S2bPFIk9_bwG"
      },
      "source": [
        "Ans 15:\n",
        "\n",
        "Skin thickness and Diabetes Pedigree Function have weak positive relationship. The data isn't showing any strong correlations between these features. "
      ]
    },
    {
      "cell_type": "markdown",
      "metadata": {
        "id": "pTzCIQOb_bwG"
      },
      "source": [
        "## Q16. Plot the scatterplot between 'Glucose' and 'Insulin'. Write your observations from the plot. (2 Marks)"
      ]
    },
    {
      "cell_type": "code",
      "execution_count": 63,
      "metadata": {
        "id": "CNHLuzOD_bwG",
        "scrolled": false,
        "colab": {
          "base_uri": "https://localhost:8080/",
          "height": 296
        },
        "outputId": "a3b0b42a-040d-4bb0-ab4c-bd99412046be"
      },
      "outputs": [
        {
          "output_type": "execute_result",
          "data": {
            "text/plain": [
              "<function matplotlib.pyplot.show(*args, **kw)>"
            ]
          },
          "metadata": {},
          "execution_count": 63
        },
        {
          "output_type": "display_data",
          "data": {
            "text/plain": [
              "<Figure size 432x288 with 1 Axes>"
            ],
            "image/png": "[encoded data removed]"
          },
          "metadata": {
            "needs_background": "light"
          }
        }
      ],
      "source": [
        "# remove _____ & write the appropriate function name\n",
        "\n",
        "sns.scatterplot(x='Glucose',y='Insulin',data=pima)\n",
        "plt.show"
      ]
    },
    {
      "cell_type": "markdown",
      "metadata": {
        "id": "1AhKhAbf_bwG"
      },
      "source": [
        "#### Write your Answer here: \n"
      ]
    },
    {
      "cell_type": "raw",
      "metadata": {
        "id": "YScevRlr_bwG"
      },
      "source": [
        "Ans 16:\n",
        "\n",
        "As Glucose increases, Insulin also increases."
      ]
    },
    {
      "cell_type": "markdown",
      "metadata": {
        "id": "NzGHKjXv_bwG"
      },
      "source": [
        "## Q 17. Plot the boxplot for the 'Age' variable. Are there outliers? (2 Marks)"
      ]
    },
    {
      "cell_type": "code",
      "execution_count": 64,
      "metadata": {
        "id": "zmWjERJM_bwH",
        "colab": {
          "base_uri": "https://localhost:8080/",
          "height": 281
        },
        "outputId": "a244725a-37d6-4363-ae66-d9a28213c323"
      },
      "outputs": [
        {
          "output_type": "display_data",
          "data": {
            "text/plain": [
              "<Figure size 432x288 with 1 Axes>"
            ],
            "image/png": "[encoded data removed]"
          },
          "metadata": {
            "needs_background": "light"
          }
        }
      ],
      "source": [
        "# remove _____ & write the appropriate function and column name \n",
        "\n",
        "plt.boxplot(pima['Age'])\n",
        "\n",
        "plt.title('Boxplot of Age')\n",
        "plt.ylabel('Age')\n",
        "plt.show()"
      ]
    },
    {
      "cell_type": "markdown",
      "metadata": {
        "id": "Vm5bRpLz_bwH"
      },
      "source": [
        "#### Write your Answer here: \n"
      ]
    },
    {
      "cell_type": "raw",
      "metadata": {
        "id": "ID7pFghO_bwH"
      },
      "source": [
        "Ans 17:\n",
        "\n",
        "The boxplot shows that there are outliers for the age of women observed, that lie over about 65 years old. "
      ]
    },
    {
      "cell_type": "markdown",
      "metadata": {
        "id": "M6A_z8kr_bwH"
      },
      "source": [
        "## Q18. Plot histograms for the 'Age' variable to understand the number of women in different age groups given whether they have diabetes or not. Explain both histograms and compare them. (3 Marks)"
      ]
    },
    {
      "cell_type": "code",
      "execution_count": 65,
      "metadata": {
        "id": "5DpqaiXH_bwH",
        "colab": {
          "base_uri": "https://localhost:8080/",
          "height": 295
        },
        "outputId": "956ab6c2-c6e4-4d16-84f9-ef10c3c590d6"
      },
      "outputs": [
        {
          "output_type": "display_data",
          "data": {
            "text/plain": [
              "<Figure size 432x288 with 1 Axes>"
            ],
            "image/png": "[encoded data removed]"
          },
          "metadata": {
            "needs_background": "light"
          }
        }
      ],
      "source": [
        "# remove _____ & write the appropriate function and column name\n",
        "\n",
        "plt.hist(pima[pima['Outcome']==1]['Age'], bins = 5)\n",
        "plt.title('Distribution of Age for Women who has Diabetes')\n",
        "plt.xlabel('Age')\n",
        "plt.ylabel('Frequency')\n",
        "plt.show()"
      ]
    },
    {
      "cell_type": "code",
      "execution_count": 66,
      "metadata": {
        "id": "ultPz45S_bwH",
        "colab": {
          "base_uri": "https://localhost:8080/",
          "height": 295
        },
        "outputId": "7f5d166d-3155-434b-b171-a93d9da63e66"
      },
      "outputs": [
        {
          "output_type": "display_data",
          "data": {
            "text/plain": [
              "<Figure size 432x288 with 1 Axes>"
            ],
            "image/png": "[encoded data removed]"
          },
          "metadata": {
            "needs_background": "light"
          }
        }
      ],
      "source": [
        "# remove _____ & write the appropriate function and column name\n",
        "\n",
        "plt.hist(pima[pima['Outcome']==0]['Age'], bins = 5)\n",
        "plt.title('Distribution of Age for Women who do not have Diabetes')\n",
        "plt.xlabel('Age')\n",
        "plt.ylabel('Frequency')\n",
        "plt.show()"
      ]
    },
    {
      "cell_type": "markdown",
      "metadata": {
        "id": "InfhuW8o_bwH"
      },
      "source": [
        "#### Write your Answer here: \n"
      ]
    },
    {
      "cell_type": "raw",
      "metadata": {
        "id": "D6iAgeF-_bwI"
      },
      "source": [
        "Ans 18:\n",
        "\n",
        "The data is unbalanced with a higher number of women that do not have diabetes being observed. \n",
        "\n",
        "The first histogram shows a drecreasing, but steady amount of women in thier 20's, 30's and 40's who do have diabetes. \n",
        "\n",
        "The second histogram shows a high frequency of women int he 20's age group, and a high frequency of women in their 30's and 40's who have diabetes. \n",
        "\n",
        "The biggest difference between the 2 histograms is in the 30-60 age range. "
      ]
    },
    {
      "cell_type": "markdown",
      "metadata": {
        "id": "EpTEjZ-q_bwI"
      },
      "source": [
        "## Q 19. What is the Interquartile Range of all the variables? Why is this used? Which plot visualizes the same? (2 Marks)"
      ]
    },
    {
      "cell_type": "code",
      "execution_count": 67,
      "metadata": {
        "id": "JVOqHx1W_bwI",
        "colab": {
          "base_uri": "https://localhost:8080/"
        },
        "outputId": "19c2c8c5-c8ad-4e2b-c29c-a824fa2b97a3"
      },
      "outputs": [
        {
          "output_type": "stream",
          "name": "stdout",
          "text": [
            "Pregnancies                  5.0000\n",
            "Glucose                     40.5000\n",
            "BloodPressure               16.0000\n",
            "SkinThickness               12.0000\n",
            "Insulin                     48.2500\n",
            "BMI                          9.1000\n",
            "DiabetesPedigreeFunction     0.3825\n",
            "Age                         17.0000\n",
            "Outcome                      1.0000\n",
            "dtype: float64\n"
          ]
        }
      ],
      "source": [
        "# remove _____ & write the appropriate variable name\n",
        "\n",
        "Q1 = pima.quantile(0.25)\n",
        "Q3 = pima.quantile(0.75)\n",
        "IQR = Q3 - Q1\n",
        "print(IQR)"
      ]
    },
    {
      "cell_type": "markdown",
      "metadata": {
        "id": "WWtc2nex_bwI"
      },
      "source": [
        "#### Write your Answer here: \n"
      ]
    },
    {
      "cell_type": "raw",
      "metadata": {
        "id": "2vLWPyd-_bwI"
      },
      "source": [
        "Ans 19:\n",
        "\n",
        "We can use the interquartile range to show how spread out the middle 50% of the data is. Insulin and Glucose both have a high interquartile range, suggesting a larger spread of observations amoung the 50% of features. A boxplot would also show this. "
      ]
    },
    {
      "cell_type": "markdown",
      "metadata": {
        "id": "KjldKKMs_bwI"
      },
      "source": [
        "## Q 20. Find and visualize the correlation matrix. Write your observations from the plot. (3 Marks)"
      ]
    },
    {
      "cell_type": "code",
      "execution_count": 68,
      "metadata": {
        "id": "dvBVRRM8_bwI",
        "colab": {
          "base_uri": "https://localhost:8080/",
          "height": 364
        },
        "outputId": "0e82cfde-f3de-40bb-c2b8-f223dc1ef3a4"
      },
      "outputs": [
        {
          "output_type": "execute_result",
          "data": {
            "text/plain": [
              "                          Pregnancies   Glucose  BloodPressure  SkinThickness  \\\n",
              "Pregnancies                  1.000000  0.128022       0.208987       0.009393   \n",
              "Glucose                      0.128022  1.000000       0.219765       0.158060   \n",
              "BloodPressure                0.208987  0.219765       1.000000       0.130403   \n",
              "SkinThickness                0.009393  0.158060       0.130403       1.000000   \n",
              "Insulin                     -0.018780  0.396137       0.010492       0.245410   \n",
              "BMI                          0.021546  0.231464       0.281222       0.532552   \n",
              "DiabetesPedigreeFunction    -0.033523  0.137158       0.000471       0.157196   \n",
              "Age                          0.544341  0.266673       0.326791       0.020582   \n",
              "\n",
              "                           Insulin       BMI  DiabetesPedigreeFunction  \\\n",
              "Pregnancies              -0.018780  0.021546                 -0.033523   \n",
              "Glucose                   0.396137  0.231464                  0.137158   \n",
              "BloodPressure             0.010492  0.281222                  0.000471   \n",
              "SkinThickness             0.245410  0.532552                  0.157196   \n",
              "Insulin                   1.000000  0.189919                  0.158243   \n",
              "BMI                       0.189919  1.000000                  0.153508   \n",
              "DiabetesPedigreeFunction  0.158243  0.153508                  1.000000   \n",
              "Age                       0.037676  0.025748                  0.033561   \n",
              "\n",
              "                               Age  \n",
              "Pregnancies               0.544341  \n",
              "Glucose                   0.266673  \n",
              "BloodPressure             0.326791  \n",
              "SkinThickness             0.020582  \n",
              "Insulin                   0.037676  \n",
              "BMI                       0.025748  \n",
              "DiabetesPedigreeFunction  0.033561  \n",
              "Age                       1.000000  "
            ],
            "text/html": [
              "\n",
              "  <div id=\"df-bc8cdc8d-a624-4600-925f-751b903cff62\">\n",
              "    <div class=\"colab-df-container\">\n",
              "      <div>\n",
              "<style scoped>\n",
              "    .dataframe tbody tr th:only-of-type {\n",
              "        vertical-align: middle;\n",
              "    }\n",
              "\n",
              "    .dataframe tbody tr th {\n",
              "        vertical-align: top;\n",
              "    }\n",
              "\n",
              "    .dataframe thead th {\n",
              "        text-align: right;\n",
              "    }\n",
              "</style>\n",
              "<table border=\"1\" class=\"dataframe\">\n",
              "  <thead>\n",
              "    <tr style=\"text-align: right;\">\n",
              "      <th></th>\n",
              "      <th>Pregnancies</th>\n",
              "      <th>Glucose</th>\n",
              "      <th>BloodPressure</th>\n",
              "      <th>SkinThickness</th>\n",
              "      <th>Insulin</th>\n",
              "      <th>BMI</th>\n",
              "      <th>DiabetesPedigreeFunction</th>\n",
              "      <th>Age</th>\n",
              "    </tr>\n",
              "  </thead>\n",
              "  <tbody>\n",
              "    <tr>\n",
              "      <th>Pregnancies</th>\n",
              "      <td>1.000000</td>\n",
              "      <td>0.128022</td>\n",
              "      <td>0.208987</td>\n",
              "      <td>0.009393</td>\n",
              "      <td>-0.018780</td>\n",
              "      <td>0.021546</td>\n",
              "      <td>-0.033523</td>\n",
              "      <td>0.544341</td>\n",
              "    </tr>\n",
              "    <tr>\n",
              "      <th>Glucose</th>\n",
              "      <td>0.128022</td>\n",
              "      <td>1.000000</td>\n",
              "      <td>0.219765</td>\n",
              "      <td>0.158060</td>\n",
              "      <td>0.396137</td>\n",
              "      <td>0.231464</td>\n",
              "      <td>0.137158</td>\n",
              "      <td>0.266673</td>\n",
              "    </tr>\n",
              "    <tr>\n",
              "      <th>BloodPressure</th>\n",
              "      <td>0.208987</td>\n",
              "      <td>0.219765</td>\n",
              "      <td>1.000000</td>\n",
              "      <td>0.130403</td>\n",
              "      <td>0.010492</td>\n",
              "      <td>0.281222</td>\n",
              "      <td>0.000471</td>\n",
              "      <td>0.326791</td>\n",
              "    </tr>\n",
              "    <tr>\n",
              "      <th>SkinThickness</th>\n",
              "      <td>0.009393</td>\n",
              "      <td>0.158060</td>\n",
              "      <td>0.130403</td>\n",
              "      <td>1.000000</td>\n",
              "      <td>0.245410</td>\n",
              "      <td>0.532552</td>\n",
              "      <td>0.157196</td>\n",
              "      <td>0.020582</td>\n",
              "    </tr>\n",
              "    <tr>\n",
              "      <th>Insulin</th>\n",
              "      <td>-0.018780</td>\n",
              "      <td>0.396137</td>\n",
              "      <td>0.010492</td>\n",
              "      <td>0.245410</td>\n",
              "      <td>1.000000</td>\n",
              "      <td>0.189919</td>\n",
              "      <td>0.158243</td>\n",
              "      <td>0.037676</td>\n",
              "    </tr>\n",
              "    <tr>\n",
              "      <th>BMI</th>\n",
              "      <td>0.021546</td>\n",
              "      <td>0.231464</td>\n",
              "      <td>0.281222</td>\n",
              "      <td>0.532552</td>\n",
              "      <td>0.189919</td>\n",
              "      <td>1.000000</td>\n",
              "      <td>0.153508</td>\n",
              "      <td>0.025748</td>\n",
              "    </tr>\n",
              "    <tr>\n",
              "      <th>DiabetesPedigreeFunction</th>\n",
              "      <td>-0.033523</td>\n",
              "      <td>0.137158</td>\n",
              "      <td>0.000471</td>\n",
              "      <td>0.157196</td>\n",
              "      <td>0.158243</td>\n",
              "      <td>0.153508</td>\n",
              "      <td>1.000000</td>\n",
              "      <td>0.033561</td>\n",
              "    </tr>\n",
              "    <tr>\n",
              "      <th>Age</th>\n",
              "      <td>0.544341</td>\n",
              "      <td>0.266673</td>\n",
              "      <td>0.326791</td>\n",
              "      <td>0.020582</td>\n",
              "      <td>0.037676</td>\n",
              "      <td>0.025748</td>\n",
              "      <td>0.033561</td>\n",
              "      <td>1.000000</td>\n",
              "    </tr>\n",
              "  </tbody>\n",
              "</table>\n",
              "</div>\n",
              "      <button class=\"colab-df-convert\" onclick=\"convertToInteractive('df-bc8cdc8d-a624-4600-925f-751b903cff62')\"\n",
              "              title=\"Convert this dataframe to an interactive table.\"\n",
              "              style=\"display:none;\">\n",
              "        \n",
              "  <svg xmlns=\"http://www.w3.org/2000/svg\" height=\"24px\"viewBox=\"0 0 24 24\"\n",
              "       width=\"24px\">\n",
              "    <path d=\"M0 0h24v24H0V0z\" fill=\"none\"/>\n",
              "    <path d=\"M18.56 5.44l.94 2.06.94-2.06 2.06-.94-2.06-.94-.94-2.06-.94 2.06-2.06.94zm-11 1L8.5 8.5l.94-2.06 2.06-.94-2.06-.94L8.5 2.5l-.94 2.06-2.06.94zm10 10l.94 2.06.94-2.06 2.06-.94-2.06-.94-.94-2.06-.94 2.06-2.06.94z\"/><path d=\"M17.41 7.96l-1.37-1.37c-.4-.4-.92-.59-1.43-.59-.52 0-1.04.2-1.43.59L10.3 9.45l-7.72 7.72c-.78.78-.78 2.05 0 2.83L4 21.41c.39.39.9.59 1.41.59.51 0 1.02-.2 1.41-.59l7.78-7.78 2.81-2.81c.8-.78.8-2.07 0-2.86zM5.41 20L4 18.59l7.72-7.72 1.47 1.35L5.41 20z\"/>\n",
              "  </svg>\n",
              "      </button>\n",
              "      \n",
              "  <style>\n",
              "    .colab-df-container {\n",
              "      display:flex;\n",
              "      flex-wrap:wrap;\n",
              "      gap: 12px;\n",
              "    }\n",
              "\n",
              "    .colab-df-convert {\n",
              "      background-color: #E8F0FE;\n",
              "      border: none;\n",
              "      border-radius: 50%;\n",
              "      cursor: pointer;\n",
              "      display: none;\n",
              "      fill: #1967D2;\n",
              "      height: 32px;\n",
              "      padding: 0 0 0 0;\n",
              "      width: 32px;\n",
              "    }\n",
              "\n",
              "    .colab-df-convert:hover {\n",
              "      background-color: #E2EBFA;\n",
              "      box-shadow: 0px 1px 2px rgba(60, 64, 67, 0.3), 0px 1px 3px 1px rgba(60, 64, 67, 0.15);\n",
              "      fill: #174EA6;\n",
              "    }\n",
              "\n",
              "    [theme=dark] .colab-df-convert {\n",
              "      background-color: #3B4455;\n",
              "      fill: #D2E3FC;\n",
              "    }\n",
              "\n",
              "    [theme=dark] .colab-df-convert:hover {\n",
              "      background-color: #434B5C;\n",
              "      box-shadow: 0px 1px 3px 1px rgba(0, 0, 0, 0.15);\n",
              "      filter: drop-shadow(0px 1px 2px rgba(0, 0, 0, 0.3));\n",
              "      fill: #FFFFFF;\n",
              "    }\n",
              "  </style>\n",
              "\n",
              "      <script>\n",
              "        const buttonEl =\n",
              "          document.querySelector('#df-bc8cdc8d-a624-4600-925f-751b903cff62 button.colab-df-convert');\n",
              "        buttonEl.style.display =\n",
              "          google.colab.kernel.accessAllowed ? 'block' : 'none';\n",
              "\n",
              "        async function convertToInteractive(key) {\n",
              "          const element = document.querySelector('#df-bc8cdc8d-a624-4600-925f-751b903cff62');\n",
              "          const dataTable =\n",
              "            await google.colab.kernel.invokeFunction('convertToInteractive',\n",
              "                                                     [key], {});\n",
              "          if (!dataTable) return;\n",
              "\n",
              "          const docLinkHtml = 'Like what you see? Visit the ' +\n",
              "            '<a target=\"_blank\" href=https://colab.research.google.com/notebooks/data_table.ipynb>data table notebook</a>'\n",
              "            + ' to learn more about interactive tables.';\n",
              "          element.innerHTML = '';\n",
              "          dataTable['output_type'] = 'display_data';\n",
              "          await google.colab.output.renderOutput(dataTable, element);\n",
              "          const docLink = document.createElement('div');\n",
              "          docLink.innerHTML = docLinkHtml;\n",
              "          element.appendChild(docLink);\n",
              "        }\n",
              "      </script>\n",
              "    </div>\n",
              "  </div>\n",
              "  "
            ]
          },
          "metadata": {},
          "execution_count": 68
        }
      ],
      "source": [
        "# remove _____ & write the appropriate function name and run the code\n",
        "\n",
        "corr_matrix = pima.iloc[:,0:8].corr()\n",
        "\n",
        "corr_matrix"
      ]
    },
    {
      "cell_type": "code",
      "execution_count": 69,
      "metadata": {
        "id": "Ju8Gymxw_bwJ",
        "colab": {
          "base_uri": "https://localhost:8080/",
          "height": 607
        },
        "outputId": "2ec3b976-9ee1-44a9-ad7e-5ef1a99b2578"
      },
      "outputs": [
        {
          "output_type": "display_data",
          "data": {
            "text/plain": [
              "<Figure size 576x576 with 2 Axes>"
            ],
            "image/png": "[encoded data removed]"
          },
          "metadata": {
            "needs_background": "light"
          }
        }
      ],
      "source": [
        "# remove _____ & write the appropriate function name\n",
        "\n",
        "plt.figure(figsize=(8,8))\n",
        "sns.heatmap(corr_matrix, annot = True)\n",
        "\n",
        "# display the plot\n",
        "plt.show()"
      ]
    },
    {
      "cell_type": "markdown",
      "metadata": {
        "id": "Woaq6vqT_bwJ"
      },
      "source": [
        "#### Write your Answer here: \n"
      ]
    },
    {
      "cell_type": "raw",
      "metadata": {
        "id": "m3AKvSrM_bwJ"
      },
      "source": [
        "Ans 20:\n",
        "\n",
        "The age of women and number of pregnancies have a moderate positive correlation. BMI and skin thickness also have a moderate positive correlation. Inslin and Glucose have a weaker positive correlation. "
      ]
    }
  ],
  "metadata": {
    "colab": {
      "collapsed_sections": [],
      "provenance": [],
      "include_colab_link": true
    },
    "kernelspec": {
      "display_name": "Python 3 (ipykernel)",
      "language": "python",
      "name": "python3"
    },
    "language_info": {
      "codemirror_mode": {
        "name": "ipython",
        "version": 3
      },
      "file_extension": ".py",
      "mimetype": "text/x-python",
      "name": "python",
      "nbconvert_exporter": "python",
      "pygments_lexer": "ipython3",
      "version": "3.9.7"
    },
    "toc": {
      "base_numbering": 1,
      "nav_menu": {},
      "number_sections": true,
      "sideBar": true,
      "skip_h1_title": false,
      "title_cell": "Table of Contents",
      "title_sidebar": "Contents",
      "toc_cell": false,
      "toc_position": {},
      "toc_section_display": true,
      "toc_window_display": false
    },
    "varInspector": {
      "cols": {
        "lenName": 16,
        "lenType": 16,
        "lenVar": 40
      },
      "kernels_config": {
        "python": {
          "delete_cmd_postfix": "",
          "delete_cmd_prefix": "del ",
          "library": "var_list.py",
          "varRefreshCmd": "print(var_dic_list())"
        },
        "r": {
          "delete_cmd_postfix": ") ",
          "delete_cmd_prefix": "rm(",
          "library": "var_list.r",
          "varRefreshCmd": "cat(var_dic_list()) "
        }
      },
      "types_to_exclude": [
        "module",
        "function",
        "builtin_function_or_method",
        "instance",
        "_Feature"
      ],
      "window_display": false
    }
  },
  "nbformat": 4,
  "nbformat_minor": 0
}